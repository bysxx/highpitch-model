{
 "cells": [
  {
   "cell_type": "code",
   "execution_count": null,
   "metadata": {},
   "outputs": [],
   "source": [
    "repo_name = \"hongseongpil/wav2vec2-demo\"\n",
    "audiopth = \".wav\""
   ]
  },
  {
   "cell_type": "code",
   "execution_count": 2,
   "metadata": {},
   "outputs": [
    {
     "name": "stderr",
     "output_type": "stream",
     "text": [
      "Special tokens have been added in the vocabulary, make sure the associated word embeddings are fine-tuned or trained.\n"
     ]
    },
    {
     "ename": "NameError",
     "evalue": "name 'audiopth' is not defined",
     "output_type": "error",
     "traceback": [
      "\u001b[1;31m---------------------------------------------------------------------------\u001b[0m",
      "\u001b[1;31mNameError\u001b[0m                                 Traceback (most recent call last)",
      "Cell \u001b[1;32mIn[2], line 21\u001b[0m\n\u001b[0;32m     18\u001b[0m     \u001b[38;5;28;01mexcept\u001b[39;00m \u001b[38;5;167;01mException\u001b[39;00m \u001b[38;5;28;01mas\u001b[39;00m e:\n\u001b[0;32m     19\u001b[0m         \u001b[38;5;28mprint\u001b[39m(\u001b[38;5;124m\"\u001b[39m\u001b[38;5;124m오류 발생:\u001b[39m\u001b[38;5;124m\"\u001b[39m, e)\n\u001b[1;32m---> 21\u001b[0m audio_input \u001b[38;5;241m=\u001b[39m getAudioInput(\u001b[43maudiopth\u001b[49m)\n\u001b[0;32m     23\u001b[0m \u001b[38;5;28minput\u001b[39m \u001b[38;5;241m=\u001b[39m processor(np\u001b[38;5;241m.\u001b[39marray(audio_input\u001b[38;5;241m.\u001b[39mget_array_of_samples(),dtype\u001b[38;5;241m=\u001b[39mnp\u001b[38;5;241m.\u001b[39mfloat32), sampling_rate\u001b[38;5;241m=\u001b[39m\u001b[38;5;241m16000\u001b[39m, return_tensors\u001b[38;5;241m=\u001b[39m\u001b[38;5;124m\"\u001b[39m\u001b[38;5;124mpt\u001b[39m\u001b[38;5;124m\"\u001b[39m)\u001b[38;5;241m.\u001b[39minput_values[\u001b[38;5;241m0\u001b[39m]\n\u001b[0;32m     25\u001b[0m \u001b[38;5;28;01mwith\u001b[39;00m torch\u001b[38;5;241m.\u001b[39mno_grad():\n",
      "\u001b[1;31mNameError\u001b[0m: name 'audiopth' is not defined"
     ]
    }
   ],
   "source": [
    "from transformers import Wav2Vec2ForCTC\n",
    "from transformers import Wav2Vec2Processor\n",
    "from preprocess.Tokenize_Kor import decompose_tokens\n",
    "import torch\n",
    "import numpy as np\n",
    "model = Wav2Vec2ForCTC.from_pretrained(repo_name)\n",
    "processor = Wav2Vec2Processor.from_pretrained(repo_name)\n",
    "def getAudioInput(source_path):\n",
    "    try:\n",
    "        audio = AudioSegment.from_file(source_path).set_frame_rate(16000).set_sample_width(2).set_channels(1)\n",
    "        result = detect_nonsilent(audio,min_silence_len=200,silence_thresh=-60)\n",
    "        newaudio = AudioSegment.empty()\n",
    "        for index in result:\n",
    "            newaudio += audio[index[0]:index[1]]\n",
    "        newaudio = normalize(newaudio)\n",
    "        return newaudio\n",
    "    except Exception as e:\n",
    "        print(\"오류 발생:\", e)\n",
    "\n",
    "audio_input = getAudioInput(audiopth)\n",
    "input = processor(np.array(audio_input.get_array_of_samples(),dtype=np.float32), sampling_rate=16000, return_tensors=\"pt\").input_values[0]\n",
    "\n",
    "with torch.no_grad():\n",
    "    input_values = torch.tensor(input).unsqueeze(0)\n",
    "    logits = model(input_values).logits\n",
    "pred_ids = torch.argmax(logits, dim=-1)\n",
    "pred = processor.batch_decode(pred_ids)[0]\n"
   ]
  },
  {
   "cell_type": "code",
   "execution_count": 3,
   "metadata": {},
   "outputs": [
    {
     "ename": "NameError",
     "evalue": "name 'audio_input' is not defined",
     "output_type": "error",
     "traceback": [
      "\u001b[1;31m---------------------------------------------------------------------------\u001b[0m",
      "\u001b[1;31mNameError\u001b[0m                                 Traceback (most recent call last)",
      "Cell \u001b[1;32mIn[3], line 1\u001b[0m\n\u001b[1;32m----> 1\u001b[0m display(\u001b[43maudio_input\u001b[49m)\n\u001b[0;32m      2\u001b[0m \u001b[38;5;28mprint\u001b[39m(pred,labels)\n",
      "\u001b[1;31mNameError\u001b[0m: name 'audio_input' is not defined"
     ]
    }
   ],
   "source": [
    "display(audio_input)\n",
    "print(pred)"
   ]
  }
 ],
 "metadata": {
  "kernelspec": {
   "display_name": "machinelearning",
   "language": "python",
   "name": "python3"
  },
  "language_info": {
   "codemirror_mode": {
    "name": "ipython",
    "version": 3
   },
   "file_extension": ".py",
   "mimetype": "text/x-python",
   "name": "python",
   "nbconvert_exporter": "python",
   "pygments_lexer": "ipython3",
   "version": "3.12.2"
  }
 },
 "nbformat": 4,
 "nbformat_minor": 2
}

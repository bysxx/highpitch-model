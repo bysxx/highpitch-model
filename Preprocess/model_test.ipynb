{
 "cells": [
  {
   "cell_type": "code",
   "execution_count": 410,
   "metadata": {},
   "outputs": [
    {
     "name": "stderr",
     "output_type": "stream",
     "text": [
      "Special tokens have been added in the vocabulary, make sure the associated word embeddings are fine-tuned or trained.\n"
     ]
    }
   ],
   "source": [
    "from transformers import Wav2Vec2ForCTC\n",
    "from transformers import Wav2Vec2Processor\n",
    "import torch\n",
    "model_id = 'hongseongpil/Wav2Vec2.0_zeroth_Ko'\n",
    "model = Wav2Vec2ForCTC.from_pretrained(model_id,output_attentions=True)\n",
    "model.eval()\n",
    "processor = Wav2Vec2Processor.from_pretrained(model_id)"
   ]
  },
  {
   "cell_type": "code",
   "execution_count": 411,
   "metadata": {},
   "outputs": [],
   "source": [
    "import torch\n",
    "from pydub.effects import normalize\n",
    "from pydub import AudioSegment \n",
    "from pydub.silence import detect_nonsilent\n",
    "import numpy as np\n",
    "def getAudioInput(source_path , silentremove = True):\n",
    "    try:\n",
    "        audio = AudioSegment.from_file(source_path).set_frame_rate(16000).set_sample_width(2).set_channels(1)\n",
    "        print(audio.duration_seconds)\n",
    "        newaudio = AudioSegment.empty()\n",
    "        if(silentremove):\n",
    "            result = detect_nonsilent(audio,min_silence_len=200,silence_thresh=-60)\n",
    "            newaudio = AudioSegment.empty()\n",
    "            for index in result:\n",
    "                newaudio += audio[index[0]:index[1]]\n",
    "            newaudio = normalize(newaudio)\n",
    "        else:\n",
    "            newaudio = normalize(audio)\n",
    "        return newaudio\n",
    "    except Exception as e:\n",
    "        print(\"오류 발생:\", e)\n",
    "def PrintAudioInfo(audio):\n",
    "    channels = audio.channels\n",
    "    sample_rate = audio.frame_rate\n",
    "    print(\"Channels:\", channels)\n",
    "    print(\"Sample rate:\", sample_rate)\n",
    "    print(\"Duration: \", audio.duration_seconds)\n",
    "    print(\"Bit depth:\", audio.sample_width, \"bits\") \n",
    "    print(\"len samples:\", len(np.array(audio.get_array_of_samples())))\n",
    "    display(audio)"
   ]
  },
  {
   "cell_type": "code",
   "execution_count": 412,
   "metadata": {},
   "outputs": [],
   "source": [
    "def GetLogits(audio):\n",
    "    input = processor(np.array(audio.get_array_of_samples(),dtype=np.float32), sampling_rate=16000, return_tensors=\"pt\").input_values[0]\n",
    "    with torch.no_grad():\n",
    "        input_values = torch.tensor(input).unsqueeze(0)\n",
    "        return model(input_values).logits\n",
    "    \n",
    "def DisplayPred(logits , k):\n",
    "    sorted_tensor, indices = torch.sort(logits, dim=2, descending=True)\n",
    "    outputs = list()\n",
    "    for i,v in enumerate(indices[0]):\n",
    "        outputs.append((processor.tokenizer.convert_ids_to_tokens(v[:k].tolist()),v[:k].tolist()))\n",
    "    for i,v in enumerate(outputs):\n",
    "        print(sorted_tensor[0][i][:k],v)\n",
    "\n",
    "def DisplayResult(logits, audio , showaudio = False):\n",
    "    predlogits = torch.argmax(logits, dim=-1)[0]\n",
    "    outputs = processor.decode(predlogits,output_char_offsets=True)\n",
    "    time_offset = model.config.inputs_to_logits_ratio / processor.feature_extractor.sampling_rate\n",
    "    PrintAudioInfo(audio)\n",
    "    print( [w['char'] for w in outputs['char_offsets']])\n",
    "    for w in outputs['char_offsets']:\n",
    "        start_offset = round (w[ \"start_offset\" ] * time_offset, 2 )\n",
    "        end_offset = round (w[ \"end_offset\" ] * time_offset, 2 )\n",
    "        print('word : ',w['char'],'start_offset :',start_offset,'end_offset :',end_offset)\n",
    "        if(showaudio):\n",
    "            display(audio[start_offset*1000:end_offset*1000])\n",
    "    \n"
   ]
  },
  {
   "cell_type": "code",
   "execution_count": 436,
   "metadata": {},
   "outputs": [
    {
     "name": "stdout",
     "output_type": "stream",
     "text": [
      "4.2100625\n"
     ]
    },
    {
     "name": "stderr",
     "output_type": "stream",
     "text": [
      "C:\\Users\\zx288\\AppData\\Local\\Temp\\ipykernel_15856\\3547003041.py:4: UserWarning: To copy construct from a tensor, it is recommended to use sourceTensor.clone().detach() or sourceTensor.clone().detach().requires_grad_(True), rather than torch.tensor(sourceTensor).\n",
      "  input_values = torch.tensor(input).unsqueeze(0)\n"
     ]
    },
    {
     "name": "stdout",
     "output_type": "stream",
     "text": [
      "ㅇㅛㅈㅡㅁㅡㄴㄱㅗㄹㅕㅇㅈㅏㄷㅗㄱㅏㅇㅣㅂㄱㅏㄴㅡㅇㅎㅏㄴㄱㅓㅈㅣㅇㅛ\n",
      "ㅇㅛㅈㅡㅁㅜㄴㄱㅗㄷㅗㅇㅅㅏㄷㅗㅅㅏㅇㅣㅂㄱㅏㄴㅡㅇㅎㅏㄴㄱㅓㅈㅛ\n",
      "Channels: 1\n",
      "Sample rate: 16000\n",
      "Duration:  4.2100625\n",
      "Bit depth: 2 bits\n",
      "len samples: 67361\n"
     ]
    },
    {
     "data": {
      "text/html": [
       "\n",
       "                    <audio controls>\n",
       "                        <source src=\"data:audio/mpeg;base64,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\" type=\"audio/mpeg\"/>\n",
       "                        Your browser does not support the audio element.\n",
       "                    </audio>\n",
       "                  "
      ],
      "text/plain": [
       "<pydub.audio_segment.AudioSegment at 0x1d40c508aa0>"
      ]
     },
     "metadata": {},
     "output_type": "display_data"
    },
    {
     "name": "stdout",
     "output_type": "stream",
     "text": [
      "['ㅇ', 'ㅛ', 'ㅈ', 'ㅡ', 'ㅁ', 'ㅜ', 'ㄴ', 'ㄱ', 'ㅗ', 'ㄷ', 'ㅗ', 'ㅇ', 'ㅅ', 'ㅏ', 'ㄷ', 'ㅗ', ' ', 'ㅅ', 'ㅏ', 'ㅇ', 'ㅣ', 'ㅂ', ' ', 'ㄱ', 'ㅏ', 'ㄴ', 'ㅡ', 'ㅇ', ' ', 'ㅎ', 'ㅏ', 'ㄴ', ' ', 'ㄱ', 'ㅓ', 'ㅈ', 'ㅛ']\n",
      "word :  ㅇ start_offset : 0.18 end_offset : 0.2\n",
      "word :  ㅛ start_offset : 0.22 end_offset : 0.24\n",
      "word :  ㅈ start_offset : 0.32 end_offset : 0.34\n",
      "word :  ㅡ start_offset : 0.34 end_offset : 0.36\n",
      "word :  ㅁ start_offset : 0.46 end_offset : 0.48\n",
      "word :  ㅜ start_offset : 0.48 end_offset : 0.5\n",
      "word :  ㄴ start_offset : 0.52 end_offset : 0.54\n",
      "word :  ㄱ start_offset : 0.66 end_offset : 0.68\n",
      "word :  ㅗ start_offset : 0.68 end_offset : 0.7\n",
      "word :  ㄷ start_offset : 0.76 end_offset : 0.78\n",
      "word :  ㅗ start_offset : 0.8 end_offset : 0.82\n",
      "word :  ㅇ start_offset : 0.82 end_offset : 0.84\n",
      "word :  ㅅ start_offset : 0.96 end_offset : 0.98\n",
      "word :  ㅏ start_offset : 1.0 end_offset : 1.02\n",
      "word :  ㄷ start_offset : 1.12 end_offset : 1.14\n",
      "word :  ㅗ start_offset : 1.14 end_offset : 1.16\n",
      "word :    start_offset : 1.22 end_offset : 1.26\n",
      "word :  ㅅ start_offset : 1.32 end_offset : 1.34\n",
      "word :  ㅏ start_offset : 1.34 end_offset : 1.36\n",
      "word :  ㅇ start_offset : 1.44 end_offset : 1.46\n",
      "word :  ㅣ start_offset : 1.46 end_offset : 1.48\n",
      "word :  ㅂ start_offset : 1.5 end_offset : 1.54\n",
      "word :    start_offset : 1.54 end_offset : 1.56\n",
      "word :  ㄱ start_offset : 1.66 end_offset : 1.68\n",
      "word :  ㅏ start_offset : 1.68 end_offset : 1.7\n",
      "word :  ㄴ start_offset : 1.74 end_offset : 1.76\n",
      "word :  ㅡ start_offset : 1.8 end_offset : 1.82\n",
      "word :  ㅇ start_offset : 1.82 end_offset : 1.84\n",
      "word :    start_offset : 1.86 end_offset : 1.88\n",
      "word :  ㅎ start_offset : 1.9 end_offset : 1.92\n",
      "word :  ㅏ start_offset : 1.92 end_offset : 1.94\n",
      "word :  ㄴ start_offset : 1.94 end_offset : 1.98\n",
      "word :    start_offset : 2.0 end_offset : 2.04\n",
      "word :  ㄱ start_offset : 2.08 end_offset : 2.1\n",
      "word :  ㅓ start_offset : 2.1 end_offset : 2.12\n",
      "word :  ㅈ start_offset : 2.2 end_offset : 2.22\n",
      "word :  ㅛ start_offset : 4.18 end_offset : 4.2\n"
     ]
    }
   ],
   "source": [
    "from Tokenize_Kor import decompose_tokens\n",
    "audio = getAudioInput(\"weather_00201001.wav\" , False)\n",
    "logits = GetLogits(audio)\n",
    "predlogits = torch.argmax(logits, dim=-1)[0]\n",
    "outputs = processor.decode(predlogits,output_char_offsets=True)\n",
    "origintext = \"요즘은 고령자도 가입 가능한거지요?\"\n",
    "origintext = \"\".join(decompose_tokens(origintext)).replace(\" \",\"\")\n",
    "predtext = outputs['text'].replace(\" \",\"\")\n",
    "\n",
    "print(origintext)\n",
    "print(predtext)\n",
    "DisplayResult(logits,audio)"
   ]
  },
  {
   "cell_type": "code",
   "execution_count": 645,
   "metadata": {},
   "outputs": [],
   "source": [
    "from Tokenize_Kor import isVowel\n",
    "def CalPenality(s1,s2 , i , j):\n",
    "    c1 = s1[i]\n",
    "    c2 = s2[j]\n",
    "    penalty = 1\n",
    "    c1_vowel = isVowel(c1)\n",
    "    c2_vowel = isVowel(c2)\n",
    "    if(c1_vowel == c2_vowel):\n",
    "        penalty = 0.5\n",
    "        if(not c1_vowel):\n",
    "            ## 조음 위치가 비슷한 음소는 패널티를 적게 부여하자..\n",
    "            if((c1 =='ㅈ') and (c2 == 'ㅉ')):\n",
    "                penalty = 0.3\n",
    "    else:\n",
    "        if((c1 == 'ㅇ') or (c2=='ㅇ')):\n",
    "            penalty = 0.3\n",
    "    return penalty\n",
    "def levenshtein_distance_Marix(s1, s2):\n",
    "    m, n = len(s1), len(s2)\n",
    "    # DP 테이블 초기화\n",
    "    dp = np.zeros((m+1, n+1))\n",
    "    # DP 테이블 첫 번째 행과 열 초기화\n",
    "    for i in range(1, m+1):\n",
    "        dp[i][0] = i\n",
    "    for j in range(1, n+1):\n",
    "        dp[0][j] = j\n",
    "    # DP 테이블 채우기\n",
    "    for i in range(1, m+1):\n",
    "        for j in range(1, n+1):\n",
    "            dp[i][j] = min(dp[i-1][j], dp[i][j-1], dp[i-1][j-1])\n",
    "            if s1[i-1] != s2[j-1]:\n",
    "                dp[i][j]  += CalPenality(s1,s2,i-1,j-1)\n",
    "    return dp\n",
    "\n",
    "def Expand_Dist_Matrix(mat , s1, s2):\n",
    "    m , n  = len(mat), len(mat[0])\n",
    "    dp = np.pad(mat, ((0, 1), (0, 1)), mode='constant', constant_values=0)\n",
    "    dp[m][0] = m\n",
    "    dp[0][n] = n\n",
    "    for i in range(1, m):\n",
    "        dp[i][n] = min(dp[i-1][n], dp[i][n-1], dp[i-1][n-1]) \n",
    "        if s1[i-1] != s2[n-1]:\n",
    "            dp[i][n] += CalPenality(s1,s2,i-1,n-1)\n",
    "    for j in range(1, n):\n",
    "        dp[m][j] = min(dp[m][j-1], dp[m-1][j], dp[m-1][j-1])\n",
    "        if s1[m-1] != s2[j-1]:\n",
    "            dp[m][j] += CalPenality(s1,s2,m-1,j-1)\n",
    "\n",
    "    dp[m][n] = min(dp[m-1][n-1], dp[m][n-1], dp[m-1][n])     \n",
    "    if s1[m-1] != s2[n-1]:\n",
    "        dp[m][n] += CalPenality(s1,s2,m-1,n-1)  \n",
    "    return dp\n",
    "\n",
    "\n",
    "def DisplayMatrix(s1, s2):\n",
    "    dp = levenshtein_distance_Marix(s1,s2)\n",
    "    # 첫 번째 행 출력\n",
    "    print(\"        \", end=\"\")  # 첫 번째 열은 빈칸으로 시작\n",
    "    for char in s2:\n",
    "        print(f\"{char:^4}\", end=\"\")\n",
    "    print()\n",
    "    # 나머지 행 출력\n",
    "    for i in range(len(s1)+1):\n",
    "        if(i != 0):\n",
    "            print(s1[i-1], end=\" \")  # 각 행의 첫 번째 열에 s1의 문자 출력\n",
    "        else:\n",
    "            print(\"    \", end=\"\")\n",
    "        for j in range(len(s2)+1):\n",
    "            print(f\"{dp[i][j]:.2f}\", end=\" \")  # 소수점 이하 2자리까지 출력\n",
    "        print()"
   ]
  },
  {
   "cell_type": "code",
   "execution_count": 664,
   "metadata": {},
   "outputs": [],
   "source": [
    "def PhonemeMatching(origintext,predtext, search):\n",
    "    matching = [] \n",
    "    s1_len = len(origintext)\n",
    "    s2_len = len(predtext)\n",
    "    s1_index = 0\n",
    "    s2_index = 0\n",
    "    isMinIndice = False\n",
    "    exec = True\n",
    "    while(exec):\n",
    "        size = search\n",
    "        dist_mat = levenshtein_distance_Marix(origintext[s1_index:s1_index+size], predtext[s2_index:s2_index+size])\n",
    "        min_indices = np.empty(0)\n",
    "        if( s1_index + size >= s1_len or s2_index + size >= s2_len):\n",
    "            matching.append([s1_index,s2_index,s1_len,s2_len])\n",
    "            exec = False\n",
    "            break\n",
    "        candi = np.concatenate([dist_mat[size,:size+1],dist_mat[:size,size]])\n",
    "        min_indices = np.where(candi == np.min(candi))[0]\n",
    "        isMinIndice = (min_indices.size == 1)\n",
    "        while (not isMinIndice):\n",
    "            if( s1_index + size >= s1_len or s2_index + size >= s2_len):\n",
    "                matching.append([s1_index,s2_index,s1_len,s2_len])\n",
    "                exec = False\n",
    "                break\n",
    "            dist_mat = Expand_Dist_Matrix(dist_mat,origintext[s1_index:s1_index+size+1], predtext[s2_index:s2_index+size+1])\n",
    "            candi = np.concatenate([dist_mat[size,:size+1],dist_mat[:size,size]])\n",
    "            min_indices = np.where(candi == np.min(candi))[0]\n",
    "            isMinIndice = (min_indices.size == 1)\n",
    "            if(not isMinIndice):\n",
    "                size +=1\n",
    "        if(exec):\n",
    "            min_indices = min_indices.squeeze(0)\n",
    "            if(min_indices <= size):\n",
    "                matching.append([s1_index,s2_index,s1_index+size,s2_index+min_indices])  \n",
    "                s1_index = s1_index+size\n",
    "                s2_index = s2_index+min_indices\n",
    "            else:\n",
    "                matching.append([s1_index,s2_index,s1_index+min_indices,s2_index+size])  \n",
    "                s1_index = s1_index+min_indices\n",
    "                s2_index = s2_index+size\n",
    "    return matching"
   ]
  },
  {
   "cell_type": "code",
   "execution_count": 667,
   "metadata": {},
   "outputs": [],
   "source": [
    "def inference(s1,s2 , search = 10 , step = 1):\n",
    "    if((search < step) ):\n",
    "        return [[s1,s2]]\n",
    "    matching = PhonemeMatching(s1,s2,search)\n",
    "    infer = []\n",
    "    for v in matching:\n",
    "        result = inference(s1[v[0]:v[2]],s2[v[1]:v[3]],search-step)\n",
    "        infer.extend(result)\n",
    "    return infer\n",
    "infer = inference(decompose_tokens(\"아아안녕\"),decompose_tokens(\"안녕\"))\n"
   ]
  },
  {
   "cell_type": "code",
   "execution_count": 668,
   "metadata": {},
   "outputs": [
    {
     "data": {
      "text/plain": [
       "[[['ㅇ'], ['ㅇ']],\n",
       " [['ㅏ', 'ㅇ', 'ㅏ'], ['ㅏ']],\n",
       " [['ㅇ'], ['ㄴ']],\n",
       " [['ㅏ', 'ㄴ', 'ㄴ'], ['ㄴ']],\n",
       " [['ㅕ'], ['ㅕ']],\n",
       " [['ㅇ'], ['ㅇ']]]"
      ]
     },
     "execution_count": 668,
     "metadata": {},
     "output_type": "execute_result"
    }
   ],
   "source": [
    "infer"
   ]
  },
  {
   "cell_type": "code",
   "execution_count": 669,
   "metadata": {},
   "outputs": [
    {
     "name": "stdout",
     "output_type": "stream",
     "text": [
      "         ㅇ   ㅏ   ㄴ   ㄴ   ㅕ   ㅇ  \n",
      "    0.00 1.00 2.00 3.00 4.00 5.00 6.00 \n",
      "ㅇ 1.00 0.00 0.30 0.80 1.30 1.60 1.60 \n",
      "ㅏ 2.00 0.30 0.00 1.00 1.80 1.80 1.90 \n",
      "ㅇ 3.00 0.30 0.30 0.50 1.00 1.30 1.30 \n",
      "ㅏ 4.00 0.60 0.30 1.30 1.50 1.50 1.60 \n",
      "ㄴ 5.00 1.10 1.30 0.30 0.30 1.30 1.80 \n",
      "ㄴ 6.00 1.60 2.10 0.30 0.30 1.30 1.80 \n",
      "ㅕ 7.00 1.90 2.10 1.30 1.30 0.30 0.60 \n",
      "ㅇ 8.00 1.90 2.20 1.80 1.80 0.60 0.30 \n"
     ]
    }
   ],
   "source": [
    "DisplayMatrix(decompose_tokens(\"아안녕\"),decompose_tokens(\"안녕\"))\n",
    "dp = levenshtein_distance_Marix(decompose_tokens(\"아안녕\"),decompose_tokens(\"안녕\"))"
   ]
  }
 ],
 "metadata": {
  "kernelspec": {
   "display_name": "machinelearning",
   "language": "python",
   "name": "python3"
  },
  "language_info": {
   "codemirror_mode": {
    "name": "ipython",
    "version": 3
   },
   "file_extension": ".py",
   "mimetype": "text/x-python",
   "name": "python",
   "nbconvert_exporter": "python",
   "pygments_lexer": "ipython3",
   "version": "3.12.2"
  }
 },
 "nbformat": 4,
 "nbformat_minor": 2
}

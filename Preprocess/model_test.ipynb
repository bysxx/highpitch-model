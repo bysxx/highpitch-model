{
 "cells": [
  {
   "cell_type": "code",
   "execution_count": null,
   "metadata": {},
   "outputs": [],
   "source": [
    "from transformers import Wav2Vec2ForCTC\n",
    "from transformers import Wav2Vec2Processor\n",
    "\n",
    "model_id = 'hongseongpil/Wav2Vec2.0_zeroth_Ko'\n",
    "commit_id = 'b9d6b6a465dcad3fec4702483adeb1a76366f661'\n",
    "model = Wav2Vec2ForCTC.from_pretrained(model_id, revision=commit_id,output_attentions=True)\n",
    "processor = Wav2Vec2Processor.from_pretrained(model_id, revision=commit_id)"
   ]
  },
  {
   "cell_type": "code",
   "execution_count": null,
   "metadata": {},
   "outputs": [],
   "source": [
    "from Tokenize_Kor import decompose_tokens\n",
    "import torch\n",
    "from pydub.effects import normalize\n",
    "from pydub import AudioSegment \n",
    "from pydub.silence import detect_nonsilent\n",
    "import numpy as np\n",
    "def getAudioInput(source_path):\n",
    "    try:\n",
    "        audio = AudioSegment.from_file(source_path).set_frame_rate(16000).set_sample_width(2).set_channels(1)\n",
    "        result = detect_nonsilent(audio,min_silence_len=200,silence_thresh=-60)\n",
    "        newaudio = AudioSegment.empty()\n",
    "        for index in result:\n",
    "            newaudio += audio[index[0]:index[1]]\n",
    "        newaudio = normalize(newaudio)\n",
    "        return newaudio\n",
    "    except Exception as e:\n",
    "        print(\"오류 발생:\", e)\n",
    "def PrintAudioInfo(audio):\n",
    "    channels = audio.channels\n",
    "    sample_rate = audio.frame_rate\n",
    "    print(\"Channels:\", channels)\n",
    "    print(\"Sample rate:\", sample_rate)\n",
    "    print(\"Duration: \", audio.duration_seconds)\n",
    "    print(\"Bit depth:\", audio.sample_width, \"bits\") \n",
    "    print(\"len samples:\", len(np.array(audio.get_array_of_samples())))\n",
    "    display(audio)"
   ]
  },
  {
   "cell_type": "code",
   "execution_count": null,
   "metadata": {},
   "outputs": [],
   "source": [
    "audio_input = getAudioInput(\"녹음.wav\")\n",
    "model.eval()\n",
    "input = processor(np.array(audio_input.get_array_of_samples(),dtype=np.float32), sampling_rate=16000, return_tensors=\"pt\").input_values[0]\n",
    "with torch.no_grad():\n",
    "    input_values = torch.tensor(input).unsqueeze(0)\n",
    "    logits = model(input_values).logits\n"
   ]
  },
  {
   "cell_type": "code",
   "execution_count": null,
   "metadata": {},
   "outputs": [],
   "source": [
    "# k = 5  # Number of top candidates to consider\n",
    "# topk_logits, topk_indices = torch.topk(logits, k, dim=-1)\n",
    "\n",
    "# outputs = list()\n",
    "# for i,v in enumerate(topk_indices[0]):\n",
    "#     output= list()\n",
    "#     for c in v:\n",
    "#         output.append(processor.tokenizer.convert_ids_to_tokens(c.item()))\n",
    "#     outputs.append(output)\n",
    "\n",
    "# for i,v in enumerate(outputs):\n",
    "#     print(topk_logits[0][i],v)\n",
    "\n",
    "predlogits = torch.argmax(logits, dim=-1)[0]"
   ]
  },
  {
   "cell_type": "code",
   "execution_count": null,
   "metadata": {},
   "outputs": [],
   "source": [
    "outputs = processor.decode(predlogits,output_char_offsets=True)\n",
    "time_offset = model.config.inputs_to_logits_ratio / processor.feature_extractor.sampling_rate\n",
    "\n",
    "PrintAudioInfo(audio_input)\n",
    "for w in outputs['char_offsets']:\n",
    "    print('word : ',w['char'],'start_offset :',round (w[ \"start_offset\" ] * time_offset, 2 ),'end_offset :',round (w[ \"end_offset\" ] * time_offset, 2 ))"
   ]
  }
 ],
 "metadata": {
  "kernelspec": {
   "display_name": "machinelearning",
   "language": "python",
   "name": "python3"
  },
  "language_info": {
   "codemirror_mode": {
    "name": "ipython",
    "version": 3
   },
   "file_extension": ".py",
   "mimetype": "text/x-python",
   "name": "python",
   "nbconvert_exporter": "python",
   "pygments_lexer": "ipython3",
   "version": "3.12.2"
  }
 },
 "nbformat": 4,
 "nbformat_minor": 2
}

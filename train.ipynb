{
 "cells": [
  {
   "cell_type": "code",
   "execution_count": 1,
   "id": "b4fb51e1-0ed8-422f-b2de-3f852888cd94",
   "metadata": {},
   "outputs": [],
   "source": [
    "import librosa\n",
    "import librosa.display\n",
    "import matplotlib.pyplot as plt\n",
    "import numpy as np"
   ]
  },
  {
   "cell_type": "code",
   "execution_count": 2,
   "id": "5ef045fe-1623-420d-a082-0f20de0f8a25",
   "metadata": {},
   "outputs": [],
   "source": [
    "#데이터셋 불러오기\n",
    "def load_audio(filename):\n",
    "    y, sr = librosa.load(filename, sr=None)\n",
    "    return y, sr"
   ]
  },
  {
   "cell_type": "code",
   "execution_count": 3,
   "id": "08080644-ebed-4411-8add-6aa517b319c1",
   "metadata": {},
   "outputs": [],
   "source": [
    "#신호 전처리\n",
    "def preprocess_audio(y):\n",
    "    y_norm = librosa.util.normalize(y)\n",
    "    return y_norm"
   ]
  },
  {
   "cell_type": "code",
   "execution_count": 4,
   "id": "f0828b56-1c5c-405f-88fa-c68017683ff0",
   "metadata": {},
   "outputs": [],
   "source": [
    "#CQT 사용, 특성추출\n",
    "def extract_feature(y,sr):\n",
    "    cqt = librosa.cqt(y, sr=sr)\n",
    "    cqt_mag = np.abs(cqt)\n",
    "    return cqt_mag"
   ]
  },
  {
   "cell_type": "code",
   "execution_count": 5,
   "id": "68a01105-16c9-43da-aa2e-a22c1d822bac",
   "metadata": {},
   "outputs": [],
   "source": [
    "#YIN 알고리즘 \n",
    "def detect_pitch(y,sr):\n",
    "    fmin, fmax = 50, 500\n",
    "    pitch = librosa.yin(y, sr=sr, fmin=fmin, fmax=fmax, frame_length=2048)\n",
    "    return pitch"
   ]
  },
  {
   "cell_type": "code",
   "execution_count": 6,
   "id": "79fc2709-a65a-4d97-bd26-433eca7cd792",
   "metadata": {},
   "outputs": [],
   "source": [
    "#시각화\n",
    "def plot_pitch(pitch, sr):\n",
    "    times = librosa.times_like(pitch, sr=sr)\n",
    "    plt.figure(figsize=(10, 4))\n",
    "    plt.plot(times, pitch, label='Pitch')\n",
    "    plt.xlabel('Time (sec)')\n",
    "    plt.ylabel('Frequency (Hz)')\n",
    "    plt.title('Pitch')\n",
    "    plt.legend()\n",
    "    plt.show()"
   ]
  },
  {
   "cell_type": "code",
   "execution_count": 7,
   "id": "92cead68-8934-4d30-89a3-a7c92988af5a",
   "metadata": {},
   "outputs": [
    {
     "ename": "SyntaxError",
     "evalue": "invalid syntax (1765295596.py, line 2)",
     "output_type": "error",
     "traceback": [
      "\u001b[1;36m  Cell \u001b[1;32mIn[7], line 2\u001b[1;36m\u001b[0m\n\u001b[1;33m    y, sr = load_audio(.wav)\u001b[0m\n\u001b[1;37m                       ^\u001b[0m\n\u001b[1;31mSyntaxError\u001b[0m\u001b[1;31m:\u001b[0m invalid syntax\n"
     ]
    }
   ],
   "source": [
    "def main():\n",
    "    y, sr = load_audio(.wav)\n",
    "    y_norm = preprocess_audio(y)\n",
    "    cqt_mag = extract_features(y_norm, sr)\n",
    "    pitch = detect_pitch(y_norm, sr)\n",
    "    plot_pitch(pitch, sr)"
   ]
  },
  {
   "cell_type": "code",
   "execution_count": null,
   "id": "465c569d-51fe-4081-afdd-4fbad701aa63",
   "metadata": {},
   "outputs": [],
   "source": []
  }
 ],
 "metadata": {
  "kernelspec": {
   "display_name": "Python 3 (ipykernel)",
   "language": "python",
   "name": "python3"
  },
  "language_info": {
   "codemirror_mode": {
    "name": "ipython",
    "version": 3
   },
   "file_extension": ".py",
   "mimetype": "text/x-python",
   "name": "python",
   "nbconvert_exporter": "python",
   "pygments_lexer": "ipython3",
   "version": "3.11.9"
  }
 },
 "nbformat": 4,
 "nbformat_minor": 5
}

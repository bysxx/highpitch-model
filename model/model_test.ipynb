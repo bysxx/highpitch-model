{
 "cells": [
  {
   "cell_type": "code",
   "execution_count": 8,
   "metadata": {},
   "outputs": [],
   "source": [
    "import sys,os\n",
    "current_dir = os.getcwd()\n",
    "sys.path.append(os.path.dirname(os.path.abspath(current_dir)))"
   ]
  },
  {
   "cell_type": "code",
   "execution_count": 9,
   "metadata": {},
   "outputs": [
    {
     "name": "stdout",
     "output_type": "stream",
     "text": [
      "LoadModel...\n",
      "LoadModel...DONE\n"
     ]
    }
   ],
   "source": [
    "from Model_Vocals import Model_Vocals\n",
    "model = Model_Vocals()\n",
    "#model.SaveModel()\n",
    "model.initialize(3)"
   ]
  },
  {
   "cell_type": "code",
   "execution_count": 12,
   "metadata": {},
   "outputs": [
    {
     "name": "stdout",
     "output_type": "stream",
     "text": [
      "infer .. start\n",
      "infer .. Done\n",
      "origintext: ㄱ predtext: ㄱ\n",
      "origintext: ㅗ predtext: ㅗㅇㅗ\n",
      "origintext: ㅁ predtext: ㅁ\n",
      "origintext: ㅅ predtext: ㅅ\n",
      "origintext: ㅔ predtext: ㅐㅇㅐ\n",
      "origintext: ㅁ predtext: ㅁ\n",
      "origintext: ㅏ predtext: ㅏㅇㅏ\n",
      "origintext: ㄹ predtext: ㄹ\n",
      "origintext: ㅣ predtext: ㅣㅇㅣ\n",
      "origintext: ㄱ predtext: ㄱ\n",
      "origintext: ㅏ predtext: ㅏㅇㅏ\n",
      "origintext: ㅎ predtext: ㅎ\n",
      "origintext: ㅏ predtext: ㅏㅇㅏ\n",
      "origintext: ㄴ predtext: ㄴ\n",
      "origintext: ㅈ predtext: ㅈ\n",
      "origintext: ㅣ predtext: ㅣ\n",
      "origintext: ㅂ predtext: ㅂ\n",
      "origintext: ㅔ predtext: ㅔㅇㅔ\n",
      "origintext: ㅇ predtext: ㅇ\n",
      "origintext: ㅣ predtext: ㅣ\n",
      "origintext: ㅆ predtext: ㅆ\n",
      "origintext: ㅓ predtext: ㅓㅇㅓ\n",
      "origintext: ㅇ predtext: ㅇ\n",
      "origintext: ㅏ predtext: ㅏ\n",
      "origintext: ㅃ predtext: ㅃ\n",
      "origintext: ㅏ predtext: ㅏㅇㅏ\n",
      "origintext: ㄱ predtext: ㄱ\n",
      "origintext: ㅗ predtext: ㅗㅇㅗ\n",
      "origintext: ㅁ predtext: ㅁ\n",
      "origintext: ㅇ predtext: ㅇ\n",
      "origintext: ㅓ predtext: ㅓ\n",
      "origintext: ㅁ predtext: ㅁ\n",
      "origintext: ㅁ predtext: ㅁ\n",
      "origintext: ㅏ predtext: ㅏㅇㅏ\n",
      "origintext: ㄱ predtext: ㄱ\n",
      "origintext: ㅗ predtext: ㅗㅇㅗ\n",
      "origintext: ㅁ predtext: ㅁ\n",
      "origintext: ㅇ predtext: ㅇ\n",
      "origintext: ㅐ predtext: ㅔ\n",
      "origintext: ㄱ predtext: ㄱ\n",
      "origintext: ㅣ predtext: ㅣㅇㅣ\n",
      "origintext: ㄱ predtext: ㄱ\n",
      "origintext: ㅗ predtext: ㅗㅇㅗ\n",
      "origintext: ㅁ predtext: ㅁ\n",
      "origintext: ㅇ predtext: ㅇ\n",
      "origintext: ㅏ predtext: ㅏ\n",
      "origintext: ㅃ predtext: ㅃ\n",
      "origintext: ㅏ predtext: ㅏㅇㅏ\n",
      "origintext: ㄱ predtext: ㄱ\n",
      "origintext: ㅗ predtext: ㅗㅇㅗ\n",
      "origintext: ㅁ predtext: ㅁ\n",
      "origintext: ㅡ predtext: ㅡㅇㅡ\n",
      "origintext: ㄴ predtext: ㄴ\n",
      "origintext: ㄸ predtext: ㄸ\n",
      "origintext: ㅜ predtext: ㅜㅇㅜ\n",
      "origintext: ㅇ predtext: ㅇ\n",
      "origintext: ㄸ predtext: ㄸ\n",
      "origintext: ㅜ predtext: ㅜㅇㅜ\n",
      "origintext: ㅇ predtext: ㅇ\n",
      "origintext: ㅎ predtext: ㅇ\n",
      "origintext: ㅐ predtext: ㅔ\n",
      "origintext: ㅇ predtext: ㅇ\n",
      "origintext: ㅓ predtext: ㅓㅇㅓ\n",
      "origintext: ㅁ predtext: ㅁ\n",
      "origintext: ㅁ predtext: ㅁ\n",
      "origintext: ㅏ predtext: ㅏㅇㅏ\n",
      "origintext: ㄱ predtext: ㄱ\n",
      "origintext: ㅗ predtext: ㅗㅇㅗ\n",
      "origintext: ㅁ predtext: ㅁ\n",
      "origintext: ㅡ predtext: ㅡㅇㅡ\n",
      "origintext: ㄴ predtext: ㄴ\n",
      "origintext: ㄴ predtext: ㄴ\n",
      "origintext: ㅏ predtext: ㅏㅇㅏ\n",
      "origintext: ㄹ predtext: ㄹ\n",
      "origintext: ㅆ predtext: ㅆ\n",
      "origintext: ㅣ predtext: ㅣㅇㅣ\n",
      "origintext: ㄴ predtext: ㄴ\n",
      "origintext: ㅎ predtext: ㅔ\n",
      "origintext: ㅐ predtext: ㅇㅔ\n",
      "origintext: ㅇ predtext: ㅇ\n",
      "origintext: ㅐ predtext: ㅔㅇㅔ\n",
      "origintext: ㄱ predtext: ㄱ\n",
      "origintext: ㅣ predtext: ㅣㅇㅣ\n",
      "origintext: ㄱ predtext: ㄱ\n",
      "origintext: ㅗ predtext: ㅗㅇㅗ\n",
      "origintext: ㅁ predtext: ㅁ\n",
      "origintext: ㅡ predtext: ㅡㅇㅡ\n",
      "origintext: ㄴ predtext: ㄴ\n",
      "origintext: ㄴ predtext: ㄴ\n",
      "origintext: ㅓ predtext: ㅓㅇㅓ\n",
      "origintext: ㅁ predtext: ㅁ\n",
      "origintext: ㅜ predtext: ㅜㅇㅜ\n",
      "origintext: ㄱ predtext: ㄱ\n",
      "origintext: ㅟ predtext: ㅣ\n",
      "origintext: ㅇ predtext: ㅇ\n",
      "origintext: ㅕ predtext: ㅣㅇㅕ\n",
      "origintext: ㅇ predtext: ㅇ\n",
      "origintext: ㅝ predtext: ㅝ\n",
      "origintext: ㅇ predtext: ㅇ\n",
      "origintext: ㅡ predtext: ㅓㅇㅡ\n",
      "origintext: ㅆ predtext: ㅆ\n",
      "origintext: ㅡ predtext: ㅡㅇㅡ\n",
      "origintext: ㄱ predtext: ㄱ\n",
      "origintext: ㅡ predtext: ㅇㅡ\n",
      "origintext: ㅆ predtext: ㅆ\n",
      "origintext: ㅡ predtext: ㅡㅇㅡ\n",
      "origintext: ㄱ predtext: ㄱ\n",
      "origintext: ㅈ predtext: ㅊ\n",
      "origintext: ㅏ predtext: ㅏㅇㅏ\n",
      "origintext: ㄹ predtext: ㄹ\n",
      "origintext: ㅎ predtext: ㄹ\n",
      "origintext: ㅏ predtext: ㅏㅇㅏ\n",
      "origintext: ㄴ predtext: ㄴ\n",
      "origintext: ㄷ predtext: ㄷ\n",
      "origintext: ㅏ predtext: ㅏㅇㅏ\n"
     ]
    }
   ],
   "source": [
    "audio_path = os.path.join(current_dir, \"곰세마리.wav\")\n",
    "label = \"곰 세마리가 한 집에 있어 아빠곰 엄마곰 애기곰 아빠곰은 뚱뚱해 엄마 곰은 날씬해 애기곰은 너무 귀여워 으쓱으쓱 잘한다.\"\n",
    "\n",
    "result = model(audio_path, label)"
   ]
  },
  {
   "cell_type": "code",
   "execution_count": 13,
   "metadata": {},
   "outputs": [
    {
     "data": {
      "text/html": [
       "\n",
       "                    <audio controls>\n",
       "                        <source src=\"data:audio/mpeg;base64,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\" type=\"audio/mpeg\"/>\n",
       "                        Your browser does not support the audio element.\n",
       "                    </audio>\n",
       "                  "
      ],
      "text/plain": [
       "<pydub.audio_segment.AudioSegment at 0x1fc4052e030>"
      ]
     },
     "metadata": {},
     "output_type": "display_data"
    },
    {
     "name": "stdout",
     "output_type": "stream",
     "text": [
      "곰 1.28 1.7\n"
     ]
    },
    {
     "data": {
      "text/html": [
       "\n",
       "                    <audio controls>\n",
       "                        <source src=\"data:audio/mpeg;base64,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\" type=\"audio/mpeg\"/>\n",
       "                        Your browser does not support the audio element.\n",
       "                    </audio>\n",
       "                  "
      ],
      "text/plain": [
       "<pydub.audio_segment.AudioSegment at 0x1fc418c7cb0>"
      ]
     },
     "metadata": {},
     "output_type": "display_data"
    },
    {
     "name": "stdout",
     "output_type": "stream",
     "text": [
      "세 1.78 1.96\n"
     ]
    },
    {
     "data": {
      "text/html": [
       "\n",
       "                    <audio controls>\n",
       "                        <source src=\"data:audio/mpeg;base64,SUQzBAAAAAAAI1RTU0UAAAAPAAADTGF2ZjYwLjE2LjEwMAAAAAAAAAAAAAAA//NYwAAAAAAAAAAAAEluZm8AAAAPAAAABwAAA6gATk5OTk5OTk5OTk5OTk5sbGxsbGxsbGxsbGxsbImJiYmJiYmJiYmJiYmJp6enp6enp6enp6enp6enxMTExMTExMTExMTExMTi4uLi4uLi4uLi4uLi4v//////////////////AAAAAExhdmM2MC4zMQAAAAAAAAAAAAAAACQCQAAAAAAAAAOoDIGWiQAAAAAAAAAAAAAA//M4xAAUGxZ9g0EQAQAoCgACjGMY0QAArIAAeMhCE+QhP9CEIRqEJ/6EI0hCEIQhG///IT8hznoQhCHfo3//QhP/kIQhGqcAEEnOc5yEqcDAxZ+hCE6EIEAAAjuh6gZAytABwjhRaEEFmiMo//M4xA4Y036sAYNQADeTlwFCQ808+YYeYRlZlnda9n9dCqsqKP+hjM56JQdepjxJGznkiMY26HXOetHa70RO/6/r/f/+qmCwQMPSYypyLc0mZq5uh6LIWarU0XP///J0/4aqrXDDTvB/R8xD//M4xAkW4t66VdkoADYtYSoZdDvjboCJyITXygcKKDVhoMb58Z1l7yxb+LUKZxZTLDkVM9JyUrR7ZUW9WzzaOameou3//WeJCYHGoYUfdtP////6fIr9v/9WqOfXpqjaiGBIVhtlJs4ItnCB//M4xAwXybbGfgvKPDCON0cqv1z0AwrO4MyufrkUdta1SYuiujPMQcbKdTOuog6GlxM9eQXMqupxB+u3KaJgZjHegi6GpjlrNWJAgQ58SWwSiVdmRIqCwXEIC/+39jE11aBSTFqnZya0D4p///M4xAsX+XbKf09YAHfiBIQnjAVmrncGW5/5fudBRf9O3ARoIgbXMy0QwCkGtWY8PxxvEXofUvs8/++lL5/3/MOopJBpDo4St8VFHTgMCYSGelZahRbvouWRHUf3rcu+9NDVfdSo7AASrkLu//M4xAoWEW64AZhoAF7CB6rGFkQk/W2TbaYZAthaZBUi4MGGNZiaVyzHoaIG++/puaIN/+mm6CDWWx5kqd0XpouaIDWRKHkIRg+YLnzn/ygDgBL2f/9Ldog/+uohk49q2PJYiCwJAGAEBolg//M4xBAVWG6kX8kYALNaqQikUokUpeKFChBoGgaBoGQVBUFXFgaBo9WCoKgr/EQNOBoGga4lcWBoGlgtxEdUDT/BoFf4iDWsFj39sGgaBoNfxFVMQU1FMy4xMDBVVVVVVVVVVVVVVVVVVVVV\" type=\"audio/mpeg\"/>\n",
       "                        Your browser does not support the audio element.\n",
       "                    </audio>\n",
       "                  "
      ],
      "text/plain": [
       "<pydub.audio_segment.AudioSegment at 0x1fc418ba330>"
      ]
     },
     "metadata": {},
     "output_type": "display_data"
    },
    {
     "name": "stdout",
     "output_type": "stream",
     "text": [
      "마 2.02 2.14\n"
     ]
    },
    {
     "data": {
      "text/html": [
       "\n",
       "                    <audio controls>\n",
       "                        <source src=\"data:audio/mpeg;base64,SUQzBAAAAAAAI1RTU0UAAAAPAAADTGF2ZjYwLjE2LjEwMAAAAAAAAAAAAAAA//NYwAAAAAAAAAAAAEluZm8AAAAPAAAABgAAAzwAWVlZWVlZWVlZWVlZWVlZWXp6enp6enp6enp6enp6enp6m5ubm5ubm5ubm5ubm5ubm729vb29vb29vb29vb29vb293t7e3t7e3t7e3t7e3t7e3t7/////////////////////AAAAAExhdmM2MC4zMQAAAAAAAAAAAAAAACQDwAAAAAAAAAM8fu6QtAAAAAAAAAAAAAAA//M4xAAUsEKcN0wYAMKsmoF69fY4EAEBEPMWLFixYsDAgdg4GNAf5Q4CAIAgD4frBwEAxQD4Pn6PB/wQBAEAQB8H8CAgGMH36OCAPg+D4Pg4CAIAgGAfB8H/wf/4Pg+9+u9///D/AiTOvufK//M4xAwYUWawVZhYAA51SEOkFKzyFZEWWpASULwMpIFEdJaH150kgbcbHpuuSQQbjE1RXPJTC/duPS+Wtu3bz19j4qvqTNVF/zDPhh/Chxqn7noNOte//6/d6hS7iZrfiuPVYERbcckkkkH8//M4xAkWcVrWX89YAp/VtHK0j7Os/dQnxCtbrp5ZjJtb1Oj408DbHkik8Fi34uGkjjZbTUt1jFkSBUHQJxlTj7ytWPm5ua90qn2nG37PsscKJCy2E7Ppu6/7/9HKJYBkFbvTdtoBvT/+8gLB//M4xA4XanbGXnsLBAQt5+z628HDT0zPQzywZtSFBgFsGc9T3TRLwAz1hZFtWwnu6cacqaQnYpi0YXYh5GSdlxooTlnZ+vdf9UalLrQXQxGRVubt29vR3HSJTb9C5DAUiaIpvdsAFBeGC6F0//M4xA8YqP7KfmBFQKwHjYSn4vqmEpHUqmpkhra1n7fhkqqkJ0LZJJrp0qOXD4rFpnRMLJndQFgVwbOln7BKGjw0iGgqWIqEpE6RaBREyJWFTJL/bhU6SYtKh/Je/5VMrQDRddtvwEVFRUVF//M4xAsJAAZEfghGAKhYoLGsW1f9TdvYKf4o3t/29X/9v+3in+pMQU1FMy4xMDBVVVVVVVVVVVVVVVVVVVVVVVVVVVVVVVVVVVVVVVVVVVVVVVVVVVVVVVVVVVVVVVVVVVVVVVVVVVVVVVVV\" type=\"audio/mpeg\"/>\n",
       "                        Your browser does not support the audio element.\n",
       "                    </audio>\n",
       "                  "
      ],
      "text/plain": [
       "<pydub.audio_segment.AudioSegment at 0x1fc418b8e00>"
      ]
     },
     "metadata": {},
     "output_type": "display_data"
    },
    {
     "name": "stdout",
     "output_type": "stream",
     "text": [
      "리 2.3 2.44\n"
     ]
    },
    {
     "data": {
      "text/html": [
       "\n",
       "                    <audio controls>\n",
       "                        <source src=\"data:audio/mpeg;base64,SUQzBAAAAAAAI1RTU0UAAAAPAAADTGF2ZjYwLjE2LjEwMAAAAAAAAAAAAAAA//NYwAAAAAAAAAAAAEluZm8AAAAPAAAABgAAAzwAWVlZWVlZWVlZWVlZWVlZWXp6enp6enp6enp6enp6enp6m5ubm5ubm5ubm5ubm5ubm729vb29vb29vb29vb29vb293t7e3t7e3t7e3t7e3t7e3t7/////////////////////AAAAAExhdmM2MC4zMQAAAAAAAAAAAAAAACQCgAAAAAAAAAM8wpoWOQAAAAAAAAAAAAAA//M4xAASmHKYD0wQABKLhevX+cCADQGgiE8zfgJANAQBoTDMliWJZPX4w4LB8HwfB8EAQDEEwffggCAIOicHz8EInB8HP8p1A+D4Pv+D4Pn/nP///T/DCgKqmgQaqAIk178K7djvFHQFwTFL//M4xBQaAaqsVZiAAG7NRlCsKX1tePiQgREhehjEqHy1J0drE2x1E9QmlBSk02bXrqtOG1S6m9TmJMpGbPQJp0Wqrd90VmpgZNSdNSjoqDTUoKYSevczyBQAOOI8UPMf6k/sJCjg+7u1jyoO//M4xAsXuOasX9kYAEwkhDkhziNAhxBwSBmWpVQd+k3jyEwNVWwqqqXDW3OQoQjCb5lQrxKZETgkD4iaAgTD58mX1DD4R3sAueEp3OocJbhoBEhgJAmAHXNF+Stoo1iyV4DGXbbbW3JBdtt///M4xAsXubLaX08oAnU4c5WD2LoXBwOQVwBBZbRffQrhvv8wR5xILKrm4qL14m6bUKI5Hcg9HHl1Uy1mUlyrTX6PcrJEDHRMXPoUAAkuj/oiYu/saQIlbckyBBAOB9F7HuU/0k2/5xGlsTda//M4xAsYGbKsAZlQAEAxrQllSBRPshQJkxGQNFEQLTHBXYFQLgtqiV1Gotjwmb+skPJTzE/6yYkPLHp7/9zD2PMO6K6fYfHMKFSSgKz7W880HCR8CIjbEL/unzSGmrX///1VJBgCttySSB5I//M4xAkVwD6eP8YIAJEjhwMAiOUlpoKnQVDQiBoYHSoKnRKoGgaUeKgqdEsGgaUeWCp1ERB3KgqdKxEDU8sFXZYGuCp0q4sDXBU6Vlga4lOlag7xKd/lTpV0GkxBTUUzLjEwMFVVVVVVVVVV\" type=\"audio/mpeg\"/>\n",
       "                        Your browser does not support the audio element.\n",
       "                    </audio>\n",
       "                  "
      ],
      "text/plain": [
       "<pydub.audio_segment.AudioSegment at 0x1fc418bade0>"
      ]
     },
     "metadata": {},
     "output_type": "display_data"
    },
    {
     "name": "stdout",
     "output_type": "stream",
     "text": [
      "가 2.84 2.96\n"
     ]
    },
    {
     "data": {
      "text/html": [
       "\n",
       "                    <audio controls>\n",
       "                        <source src=\"data:audio/mpeg;base64,SUQzBAAAAAAAI1RTU0UAAAAPAAADTGF2ZjYwLjE2LjEwMAAAAAAAAAAAAAAA//NYwAAAAAAAAAAAAEluZm8AAAAPAAAABgAAAzwAWVlZWVlZWVlZWVlZWVlZWXp6enp6enp6enp6enp6enp6m5ubm5ubm5ubm5ubm5ubm729vb29vb29vb29vb29vb293t7e3t7e3t7e3t7e3t7e3t7/////////////////////AAAAAExhdmM2MC4zMQAAAAAAAAAAAAAAACQDwAAAAAAAAAM8BjTccQAAAAAAAAAAAAAA//M4xAAPuAZ4/0EQAEgyYMTiYHWD8PxBBwEIIBiJ8o7EAPm1h+o5g/+CDgxygY/1AgCFYPn+CHyjtQIA+8H3l3ggGFgg7LvUCHygIMf4X16jPO+ihIz/Qs/TQTzo0Oz8sgkjOhIIkS99k6Mt//M4xCAaQbasAY9gAEI7f+I/jXv0tDu5O27n6OPHDlYF1RqH6ZXlRFNFnU2+pmnmvnG5yszPzPbkzN6MLziDRRzwB/HliWxn6binDahCRPDkNuWpdJTQgMJOJXXWQY1aS3KZi2DhsRjUNP9D//M4xBYaubrGX9hYANLmMImsFkNiaa01oEUHRtpVkZ2FA0c6VlpIh19xDk1v/m/2y1RrkFF3NrzjKYyPmPbB+l7ut1xLaqp+uIbUIgAytJRGES0SU/9S0toWz1wk9KERApmk54UuU6360fVv//M4xAoXob7OXnpHBJxBBiTNSzC1UFkB4fsm/s7BunUYZfldTiz6+9uAJktZKWIyLNveAKw/pedh0v0E45NKebVjyUyy+F5Fwjp01AxQkH6xdqyLRd3/SwIf0AcfSrW7QNWo5Nm45XaIERUa//M4xAoW8NLmPkvGUpxWmhZZyZDitKfo/WBytmieMqWkatQCFUjWAJH/VWr1QwqlT1gseUeGMCQFIhsYBSIiIgICzutx7yxI8lgCNMGmWhVIdGPIiEiEgqRDpZH//60klwzNB+EUJgVB4Lg7//M4xA0SULIQAGPShAaC8WgeLaSImI7SgL+hAnQFyAnNIUt6EiEI0NB8ojQNu13b/xb//xUWRqb28UbxbinFRbije3WKNxUWxVVMQU1FMy4xMDBVVVVVVVVVVVVVVVVVVVVVVVVVVVVVVVVV\" type=\"audio/mpeg\"/>\n",
       "                        Your browser does not support the audio element.\n",
       "                    </audio>\n",
       "                  "
      ],
      "text/plain": [
       "<pydub.audio_segment.AudioSegment at 0x1fc418ba330>"
      ]
     },
     "metadata": {},
     "output_type": "display_data"
    },
    {
     "name": "stdout",
     "output_type": "stream",
     "text": [
      "한 3.4 3.82\n"
     ]
    },
    {
     "data": {
      "text/html": [
       "\n",
       "                    <audio controls>\n",
       "                        <source src=\"data:audio/mpeg;base64,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\" type=\"audio/mpeg\"/>\n",
       "                        Your browser does not support the audio element.\n",
       "                    </audio>\n",
       "                  "
      ],
      "text/plain": [
       "<pydub.audio_segment.AudioSegment at 0x1fc418ba330>"
      ]
     },
     "metadata": {},
     "output_type": "display_data"
    },
    {
     "name": "stdout",
     "output_type": "stream",
     "text": [
      "집 3.92 4.0\n"
     ]
    },
    {
     "data": {
      "text/html": [
       "\n",
       "                    <audio controls>\n",
       "                        <source src=\"data:audio/mpeg;base64,SUQzBAAAAAAAI1RTU0UAAAAPAAADTGF2ZjYwLjE2LjEwMAAAAAAAAAAAAAAA//NYwAAAAAAAAAAAAEluZm8AAAAPAAAABQAAAtAAZmZmZmZmZmZmZmZmZmZmZmZmZoyMjIyMjIyMjIyMjIyMjIyMjIyMs7Ozs7Ozs7Ozs7Ozs7Ozs7Ozs7PZ2dnZ2dnZ2dnZ2dnZ2dnZ2dnZ2f//////////////////////////AAAAAExhdmM2MC4zMQAAAAAAAAAAAAAAACQEAAAAAAAAAALQFxFj4gAAAAAAAAAAAAAA//M4xAAUgyqNsUEoAVkRG2jAAAABLyAAAP+MZPoT/yN0IRv6uT//5P85z//85z/nO///+n/53kIQkTAQAAAAgcDhMhCEIQggHADAMAw+HzuhA+LuQOBwUYTAACCjRw/auDYbTXbbbW23dgAW//M4xA0XUVbWXYYoAF4mx7rOCLBPcYAECCjGIOD4QAimtO5hdEQizHx5DM6O9tt/3SSxyu9haKiyveIAHvHa2Ka5LcnbZ7yqdRVxNoEYw8Gi6C5+B+llC2O/7/+H1d0/LmUkg4CPISMwMS20//M4xA4YQy60AZpoALshZBTlFiPk4KAgIAp5BKIHUZem2XE83Q021N6f//b9da0O+Zc/r77VGjU/copOcpLM0El/+7bf1zyCd/6JixwczqUlun1KOot/9eplfYy/6/+MpJZq1/pXiKV9X1/x//M4xAwWIe60AZloALVT7llr/C6hFhOqKPIRKE0eKKCSXkuXDYuJrZakvmpuYGxomq2/5qbqNjQ3Hbo//NUJktkzB///2MzITARAffXr/KIPjkNAiP/+X/61TEFNRTMuMTAwVVVVVVVVVVVV//M4xBIAAANIAcAAAFVVVVVVVVVVVVVVVVVVVVVVVVVVVVVVVVVVVVVVVVVVVVVVVVVVVVVVVVVVVVVVVVVVVVVVVVVVVVVVVVVVVVVVVVVVVVVVVVVVVVVVVVVVVVVVVVVVVVVVVVVVVVVV\" type=\"audio/mpeg\"/>\n",
       "                        Your browser does not support the audio element.\n",
       "                    </audio>\n",
       "                  "
      ],
      "text/plain": [
       "<pydub.audio_segment.AudioSegment at 0x1fc4187b7d0>"
      ]
     },
     "metadata": {},
     "output_type": "display_data"
    },
    {
     "name": "stdout",
     "output_type": "stream",
     "text": [
      "에 4.14 4.34\n"
     ]
    },
    {
     "data": {
      "text/html": [
       "\n",
       "                    <audio controls>\n",
       "                        <source src=\"data:audio/mpeg;base64,SUQzBAAAAAAAI1RTU0UAAAAPAAADTGF2ZjYwLjE2LjEwMAAAAAAAAAAAAAAA//NYwAAAAAAAAAAAAEluZm8AAAAPAAAACAAABBQARkZGRkZGRkZGRkZGYWFhYWFhYWFhYWFhe3t7e3t7e3t7e3t7e5aWlpaWlpaWlpaWlrCwsLCwsLCwsLCwsLDLy8vLy8vLy8vLy8vl5eXl5eXl5eXl5eXl////////////////AAAAAExhdmM2MC4zMQAAAAAAAAAAAAAAACQDQAAAAAAAAAQUSvc1fwAAAAAAAAAAAAAA//M4xAASkMJAAUwYADgkAgAIBARHGzMwEACAAAAAAAEAaCQJYliWZv4sWLAMDAwMW76O7ufu4AAICDiAPg+D4Pv4gB8P1g4CH/y4IAh+IAfP4OBj///kFddsfj6fGPh7/B4PR6BIUX1uq6uT//M4xBQZOnL+X484AjE0okL3M8sZYI7DZhkiNyRgkOmL0xKOEg75CcbDpRn/eYNCpMwcInkU68qcYYqMQjc0ff/3ZsyeTHGoYQMQ7//P/RmNfrzFH/+j585RR///1mAACwT+P1S2ctXMstRI//M4xA4Y4pbFldhQALJA6rXYrY129+6B6znUeTSzJMcc2w/BWcyTTTWOYqToyPfc4o3/r/tFQQpEIoycxqUEQ5pvdVx/ONNRG0KjQ7nnMlT3/9Pv+pvObkBI/7fqalBc0Haa+JgKliIvj/Wd//M4xAkXUx7dvHqFZmca35QcZYbXznSjfI03qAjmXGdwt6/2QNBQc/2pX+QTxVb1bvc7gyC6AFRrzU5QFwm/rIgakdDojK+P3r6v/0LtZPdP/f/1Q2+XkFL/oxj//3+QSWpwhqBKyEptwTUg//M4xAoW+xbiXgvUX4f4EkK5w3rbOpp1wdZQE1xnECBqvrg6GnOf6XkjzmAPlwXRuwOM+jHPQqG//kHmmPpIn/vQWnMVX6GCU+cY3Wb/6/+xv/kb///+/fVUkDZyDc90iNhuSgBuMfNJZbYx//M4xA0Xif7mX09oAkvsl5SKOHOp1M7eKQghGH+/y6OIZCUzJMBpFxSCFBa1piaDebvQt1By1pVJFO6aYjx5f+/rf57/1f/bozRXMdeT/2Vulyjii2JoA8g3Pkni9SoEA/EbD7ufd8vjBXcT//M4xA0YWfLIy5iQALJVKkW4yRGa5nggACgthAgCJEGJJGJDTwuExJ4uC4ieqWtFErdTJ286rO1nnrQ/yVYmXIvsamxga6tVFpfsgTbOtaD1E8//RY/H1xjf/Xu0Wes7/TX5YUNNFQwCVC5K//M4xAoUaWnwAc9AAEC+CRIIfIakfq4IMdMBXIchyiucpcTwBQAImBUACBcJQFQ+kVWtmbZmvVV1Vdmv2a//5WvhrgWOkkVNgWCQNSsFXeDSzoKw6kxBTUUzLjEwMKqqqqqqqqqqqqqqqqqq\" type=\"audio/mpeg\"/>\n",
       "                        Your browser does not support the audio element.\n",
       "                    </audio>\n",
       "                  "
      ],
      "text/plain": [
       "<pydub.audio_segment.AudioSegment at 0x1fc4188db20>"
      ]
     },
     "metadata": {},
     "output_type": "display_data"
    },
    {
     "name": "stdout",
     "output_type": "stream",
     "text": [
      "있 4.44 4.54\n"
     ]
    },
    {
     "data": {
      "text/html": [
       "\n",
       "                    <audio controls>\n",
       "                        <source src=\"data:audio/mpeg;base64,SUQzBAAAAAAAI1RTU0UAAAAPAAADTGF2ZjYwLjE2LjEwMAAAAAAAAAAAAAAA//NYwAAAAAAAAAAAAEluZm8AAAAPAAAABQAAAtAAZmZmZmZmZmZmZmZmZmZmZmZmZoyMjIyMjIyMjIyMjIyMjIyMjIyMs7Ozs7Ozs7Ozs7Ozs7Ozs7Ozs7PZ2dnZ2dnZ2dnZ2dnZ2dnZ2dnZ2f//////////////////////////AAAAAExhdmM2MC4zMQAAAAAAAAAAAAAAACQCwAAAAAAAAALQRJVTyQAAAAAAAAAAAAAA//M4xAAUMGaoE08AAACErFYrFYnEMZF2JOAQAHASAligiZ37v36vfx9iA/icHAQcoEAfB8HwfBwEAQBAEAfB8HwfBwEAxvicP4gBDg/1AgGPwQBB3/f0cEAfB9//oX1Ybcier4yfMOhBgsBl//M4xA4YAh64AZqAAILHEECYLeNKdl3WiAohxxFgG4vOCwYoMRUupFNBaZpsXjJFFHZ/3SSRRX//VZdX/+o6d0kq6kC+nrrdNTum9FjDt33NfCINtIpscxLKsr7nfxfdBuIZ8GVw2MQDB40L//M4xA0Xck60AZqAAKNBCulrd92XGWwIzMlgXmNALBVTL+ouaym9DUpaqCXqT/W+1er/+36eqowq6alFdGgnMKJFTdjJpmplt/W6mbd+dL7IUBeKP6FjIzxGPcnJqSEP1x+Pu7n2ssaJExsN//M4xA4Yeh7Ay5loAGqHdJjMpo4fizsv45QUJswDSpjtKKRIbknrRSTSZV161aqn/X3b+2h+uj+t2cqPrU07SMndVbKpJKqmKT11tfWUHUPLjjALVDtN3UPHvd3CwVTllIIAAEMACcAY7xlh//M4xAsW6y5IFZI4AAm8dY8+EIShF+EQyAkIf8YEYeLjX/xFLCMPFxF//HSw8PDoqO//4RCMLgEiKMDyf//kghEUsNkJCk1lN////QTjpg6bHR1jkOEUd/////Fo9UxBTUUzLjEwMFVVVVVV\" type=\"audio/mpeg\"/>\n",
       "                        Your browser does not support the audio element.\n",
       "                    </audio>\n",
       "                  "
      ],
      "text/plain": [
       "<pydub.audio_segment.AudioSegment at 0x1fc418c7620>"
      ]
     },
     "metadata": {},
     "output_type": "display_data"
    },
    {
     "name": "stdout",
     "output_type": "stream",
     "text": [
      "어 4.96 5.08\n"
     ]
    },
    {
     "data": {
      "text/html": [
       "\n",
       "                    <audio controls>\n",
       "                        <source src=\"data:audio/mpeg;base64,SUQzBAAAAAAAI1RTU0UAAAAPAAADTGF2ZjYwLjE2LjEwMAAAAAAAAAAAAAAA//NYwAAAAAAAAAAAAEluZm8AAAAPAAAABgAAAzwAWVlZWVlZWVlZWVlZWVlZWXp6enp6enp6enp6enp6enp6m5ubm5ubm5ubm5ubm5ubm729vb29vb29vb29vb29vb293t7e3t7e3t7e3t7e3t7e3t7/////////////////////AAAAAExhdmM2MC4zMQAAAAAAAAAAAAAAACQDwAAAAAAAAAM8MyuqMwAAAAAAAAAAAAAA//M4xAARMAaJsUEQAAKg6nSg3wQc+CEHAwjDCwflwfB8H8IBjyjvLg+D4P3fJ/lwfB94gB8Hz/BAEHCD+IAfB8PxGD4P9TokBAEDiwQdB8HAQbZmdRmdXtNrtpq7pa3cfa9DLmu1oqpkSJpt//M4xBob0r76X4lAApg6T0oQhvSR2LvYdj4iO+YHEVyL1mbPxdXPfg5SJzEKut1XFa8y393/F8jftFr/5d9/7r+O4/iL9m1q7Hr36zezx91HM+tKVUJGB5IweUgWXo/6f+OVgAAkaYf9zdmU//M4xAkXecqxk9loAMEBqN2NSufqtxRoFpovTP5DL+LbPOYOpl1/EkTcAOA8jMwJM2SIowiKaCKjQTQ+gZvJ4k7pGS05dHgnUykjZlOy61f/Vtb/63XdpkdRPguP97v/L9xgI0G25HJIKB7T//M4xAoXYO7aP1J4AlCHueOGzMGdAbwUQ/uoWsPMOxXvRFSaw5UqZ8GlHLEiiFQ3XYW+xbS5Wpi3q+IMOknYzWHWtJbr7knRcMng6ecVnRM0kHh6qoGBYjOo+t3570NQuttoIYel0V2/54oh//M4xAsXeO6sC5jIAC4Abj/iMSZq6YM/0FDQvc9eSYT1//igbWHIZLVjOEq//9r9G/ViWz1LVs4///83b+kwCBady4fBAE7F+H3BEPnIlIs8oAwucAYfOdv9ADeGAG8hTEFNRTMuMTAwVVVV//M4xAwAAANIAcAAAFVVVVVVVVVVVVVVVVVVVVVVVVVVVVVVVVVVVVVVVVVVVVVVVVVVVVVVVVVVVVVVVVVVVVVVVVVVVVVVVVVVVVVVVVVVVVVVVVVVVVVVVVVVVVVVVVVVVVVVVVVVVVVV\" type=\"audio/mpeg\"/>\n",
       "                        Your browser does not support the audio element.\n",
       "                    </audio>\n",
       "                  "
      ],
      "text/plain": [
       "<pydub.audio_segment.AudioSegment at 0x1fc418ba330>"
      ]
     },
     "metadata": {},
     "output_type": "display_data"
    },
    {
     "name": "stdout",
     "output_type": "stream",
     "text": [
      "아 5.46 5.54\n"
     ]
    },
    {
     "data": {
      "text/html": [
       "\n",
       "                    <audio controls>\n",
       "                        <source src=\"data:audio/mpeg;base64,SUQzBAAAAAAAI1RTU0UAAAAPAAADTGF2ZjYwLjE2LjEwMAAAAAAAAAAAAAAA//NYwAAAAAAAAAAAAEluZm8AAAAPAAAABQAAAtAAZmZmZmZmZmZmZmZmZmZmZmZmZoyMjIyMjIyMjIyMjIyMjIyMjIyMs7Ozs7Ozs7Ozs7Ozs7Ozs7Ozs7PZ2dnZ2dnZ2dnZ2dnZ2dnZ2dnZ2f//////////////////////////AAAAAExhdmM2MC4zMQAAAAAAAAAAAAAAACQEAAAAAAAAAALQQqiQaAAAAAAAAAAAAAAA//M4xAASuJo4BUYYAAMiI/u796xAEAAACMMQj+IMIAYGBu7h3cQgIZd4IOgg4Hwff9YPg+DjpPKAgcEgYLg+D4Y/8Tny4Pn8Mf4P/4IAgCBzBAEHCCCAIPz9QD/kyK33nH0hTXhNrx5Ej5f7//M4xBQaAd6kAYZ4AFtOpxHBJle5zbVmlQ3uZdzaL6jSiORUEkV8iFwmR5rowRo0cvYiXkcLPNUzvN/eDWSuLYeX3q97/7p9Z38XYn7p78axNin+Y7+imKh1p1t+l/9VS4hAHJcAgUXIU4JA//M4xAsX4Y7uP4xYAAAYxL0yeH7wp4FDiEj+WqmI6zQgQSEoAlpEPY/ruIEQdZWEnNJZNSOOD8vvxDZoiAPFjmYJp3TO46q5rs5b2fX/fz/8dWch1JbUKlnIeCakA4z6/rqBAJICRrjd609///M4xAoXsYa8y5iQAKpwM59Yj/pctPlE//jmAckOBy6R3GcAQIC4CxGRWIaj5IiEpBTc4gXklo/GdGwbl0xQXSVR/Pmi0U7rpaK/6Dkyiw47/LpOGWMd/8uk4A0nAGn//kJMQU1FMy4xMDCq//M4xAoAAANIAcAAAKqqqqqqqqqqqqqqqqqqqqqqqqqqqqqqqqqqqqqqqqqqqqqqqqqqqqqqqqqqqqqqqqqqqqqqqqqqqqqqqqqqqqqqqqqqqqqqqqqqqqqqqqqqqqqqqqqqqqqqqqqqqqqq\" type=\"audio/mpeg\"/>\n",
       "                        Your browser does not support the audio element.\n",
       "                    </audio>\n",
       "                  "
      ],
      "text/plain": [
       "<pydub.audio_segment.AudioSegment at 0x1fc418c7cb0>"
      ]
     },
     "metadata": {},
     "output_type": "display_data"
    },
    {
     "name": "stdout",
     "output_type": "stream",
     "text": [
      "빠 5.72 5.8\n"
     ]
    },
    {
     "data": {
      "text/html": [
       "\n",
       "                    <audio controls>\n",
       "                        <source src=\"data:audio/mpeg;base64,SUQzBAAAAAAAI1RTU0UAAAAPAAADTGF2ZjYwLjE2LjEwMAAAAAAAAAAAAAAA//NYwAAAAAAAAAAAAEluZm8AAAAPAAAABQAAAtAAZmZmZmZmZmZmZmZmZmZmZmZmZoyMjIyMjIyMjIyMjIyMjIyMjIyMs7Ozs7Ozs7Ozs7Ozs7Ozs7Ozs7PZ2dnZ2dnZ2dnZ2dnZ2dnZ2dnZ2f//////////////////////////AAAAAExhdmM2MC4zMQAAAAAAAAAAAAAAACQEAAAAAAAAAALQzwy84AAAAAAAAAAAAAAA//M4xAAS6QpAA0kYANADDbagUAIBgEAQA2CZO37nPf6hCEIf3fRE0Qv/+IW7vHeIm5wDA3eXf5cHwf/+IAQdEYPvw/BA4Udwxgh8PqBAMFHA/gg763g+oML8rvYDa7Yp2vhedEiTWlgftjpS//M4xBMZUcq4AZigACmCcKBEBwgYI8CyUxAURhng8FcuGgDSkMZgDAwzJSHKA1RIG56etyDEQFmDhHsnysKVI4rut+UjQwSTYjQ8CbJt/T3vUs61kv+9brt51593//oqq2e63lJhiktEZr4V//M4xAwXwYrEAZiYADtOwTwtpw2i+DYJJcmgImKBdBCViYPgfXhjQtENA7SEF1kAAwzFAG5ROTiRKk+lcgIqSjCKKky6Ywa1uWBgJb6C1W37p1rshXNN0QmkSws36f/rV2mREZD/rkN7FwpV//M4xAwXwY6sAZmgAP4sYsPbpf8N2FjAYyJk0JrieA14GNgC1E0bl0y8PhEpF0bRFCeO0W+M0Fooz5DyOKjGR1FEy/Jgsmx04gpSS7K/0T6iDEVNbWjP1Bh6QWEbf/2JTEFNRTMuMTAwqqqq//M4xAwAAANIAcAAAKqqqqqqqqqqqqqqqqqqqqqqqqqqqqqqqqqqqqqqqqqqqqqqqqqqqqqqqqqqqqqqqqqqqqqqqqqqqqqqqqqqqqqqqqqqqqqqqqqqqqqqqqqqqqqqqqqqqqqqqqqqqqqq\" type=\"audio/mpeg\"/>\n",
       "                        Your browser does not support the audio element.\n",
       "                    </audio>\n",
       "                  "
      ],
      "text/plain": [
       "<pydub.audio_segment.AudioSegment at 0x1fc4187ade0>"
      ]
     },
     "metadata": {},
     "output_type": "display_data"
    },
    {
     "name": "stdout",
     "output_type": "stream",
     "text": [
      "곰 6.02 6.3\n"
     ]
    },
    {
     "data": {
      "text/html": [
       "\n",
       "                    <audio controls>\n",
       "                        <source src=\"data:audio/mpeg;base64,SUQzBAAAAAAAI1RTU0UAAAAPAAADTGF2ZjYwLjE2LjEwMAAAAAAAAAAAAAAA//NYwAAAAAAAAAAAAEluZm8AAAAPAAAACgAABOwAOjo6Ojo6Ojo6UFBQUFBQUFBQUGZmZmZmZmZmZmZ8fHx8fHx8fHx8kpKSkpKSkpKSkqioqKioqKioqKi+vr6+vr6+vr6+1NTU1NTU1NTU1Orq6urq6urq6ur/////////////AAAAAExhdmM2MC4zMQAAAAAAAAAAAAAAACQCwAAAAAAAAATsRftfEgAAAAAAAAAAAAAA//M4xAAPuGpQF0kYAAlTUE0aMVisVk8iAAYAwTDYrRo0aMUCgKBgUEjGCQMcENYOBjn1AgCDv8ocUCAIA/y7+n//UCDv+H/8P/9YPt9rPZY7b9//9hYNt+AL4Y0OoxwFQ3mKzknbFRYo2CCA//M4xCAdUtsCX49QA8DU8jC5JidDScgMJAaiYVTSxCTOaeSGGEJQ1i4qC5CdRbJ5mLSGmIYSGm8wxn99lTzW/9DD1czPR3NTf/+UJD/+ab7aH/nv/mVQ8ZCGHykq/y5kLMBq7UAuSSRuj8oh//M4xAkVUO7Jn9hoAp6qyBlZrQcCC+pU71PFbPL9wEEtY83z/ZICbl5J0k0mpqN1/cxJdvUyy4AovSmicmQOtSYwoVZ8WE0OjQuke+oqAhIletFi//6fZvvqkgaTdv/212HxT5zGOUXMaVv9//M4xBIZEhruXnrLJr5kgYbiTA0M6j2p/KGYhdMsicZa2bTJDfv/lIBIfNlJ3xAUHXVbDUYxzTFD5hUYWy7E3f6r/00Sl87u3Mt2GFMCZq00UhMmK//0kC7QoJoLTgeqIAHvdI7B/6w3zPJc//M4xAwXSTa1ftQWzEMzHFyr0lnG9dlyzTwAHyN2Os1QYSBTW5ZIcXnRWmKnb6LAjE5yuHpkNVUfhjWVU3HS4eCbTppc0BSP4ubSCJNoTbrJGeJwJrn+7/8kLH5qttU0AAKf/Xb4f/87cuwQ//M4xA0YEybBvspFDOuKUPPPYY9uZYwGisZwsx/5fl+TMHWr8m6f1IwGm8//6MVXktTr4IBTWXte15yoXu/R3qVu9+//k9Lquys7GI36d6ShTL9l//t+nqrf6nZnapINlUAE9FcaowkgFSug//M4xAsXWgahFhaUPKmPjnW022c/ZjVuBQsFDnKjjQpDa5a+hc1w4lR54X+5TLxM1CURiq2qDj+vJjrm3rej6o5vs73Jlpa1fu2Xm7za+mpquWRP9936w16/1CA72OHKjQKdt/u2uvHy+zqW//M4xAwVUfriX09QAuX9Pikqu+/9bupC4399feTARAm+u7AGmnqTGMeeLhboex2RqXeru51j7Is5Gepr7ni49kX6aVTVLHV5q/5DBj/ydHs//g0imLqqqRPUrtwKQNwlWNADKngSYMETaFDL//M4xBUZWXasAZpYALsnGhLOgNXh9SOBkJhtu+DsvPjyQpKKr/4pk2XGqKxt/++GVdpLmqKx7//vYz7StqNOS9SL4FDQNGjv/0AYPAoBg8d//1AYkEgMSCQG///yVUY7ahp0uJvBfAZjhN4e//M4xA4TcG5cCc8YAKIUorsKtevo281rq0IFXA0PBYOlToiBWDSwWeVOg0GoNLBauIjusN8ROyob4i6zvBrlTvEXKneDXKneDXKneIlMQU1FMy4xMDBVVVVVVVVVVVVVVVVVVVVVVVVVVVVV\" type=\"audio/mpeg\"/>\n",
       "                        Your browser does not support the audio element.\n",
       "                    </audio>\n",
       "                  "
      ],
      "text/plain": [
       "<pydub.audio_segment.AudioSegment at 0x1fc4187b7d0>"
      ]
     },
     "metadata": {},
     "output_type": "display_data"
    },
    {
     "name": "stdout",
     "output_type": "stream",
     "text": [
      "엄 6.52 6.68\n"
     ]
    },
    {
     "data": {
      "text/html": [
       "\n",
       "                    <audio controls>\n",
       "                        <source src=\"data:audio/mpeg;base64,SUQzBAAAAAAAI1RTU0UAAAAPAAADTGF2ZjYwLjE2LjEwMAAAAAAAAAAAAAAA//NYwAAAAAAAAAAAAEluZm8AAAAPAAAABwAAA6gATk5OTk5OTk5OTk5OTk5sbGxsbGxsbGxsbGxsbImJiYmJiYmJiYmJiYmJp6enp6enp6enp6enp6enxMTExMTExMTExMTExMTi4uLi4uLi4uLi4uLi4v//////////////////AAAAAExhdmM2MC4zMQAAAAAAAAAAAAAAACQDgAAAAAAAAAOoP5Zd0wAAAAAAAAAAAAAA//M4xAATWMZEAUkYAATDb1BQKBQKECNGjRo0aNG2gQICAUEiBAgAwMW7gYGBuiAAAACEocAAAAQCAIO8EDlYOAg78uD76gfD+vy4Pn//9YIO//+sHz5cHwfD6t52fJqeh4B6PhsLR+BpcPhe//M4xBEY6hsKX4k4ApBv4roxDANk5AaMwAwdiWhc4xSZc4RCAvOG7nMqvEQWCQzqb/zRHB2Eh8FgzPJf5hkaNdkfO///KU6R47/8aGA+PB90PGhj//hh/kTCXajv//9FualkWX/Xfjt221lx//M4xAwXyf76P89QAmhbhHMDbGfE99X/23Lpw//U0hHAL803qaPT0+j4qjICwtr0OKukxKHHKSk55tWISUlMJSYkM7u3v+zIrtf7HlzixKMGA8GCwUDqnf6XySbf5QM0qnSDB/j213opEueT//M4xAsXOxrqPhMKX8BcXCMz578EzzT570zk3rtAmBE1ZW9NrY3Dcxd+wmPFRoFb/lHK6LI2pnzkEGc7J7EVOY90VkXlN/r3/UpWsNIdFW05Nv/2+k91K+9GbV5yCy9gU1NlxyNgfrd/uWMm//M4xA0X8erBv1loAow18qRq+fnOv3Wv/UGJBJRxx/pd0zMJmD4ShCm1kTUzCDL6DN6ckT+5oimieSMElr0EzJFItNE01qQS0jdB/1Ubsy6DMk9aveZln/Ny3l//7v5V3uWw1/WYB5I4CYKW//M4xAwWSU64AZlAADsmCigck1nng0BeeIImBt+eJRxghHg1EH/kx0UwGxRwr/519xRI5irX/+p7+lRigKd96KAaAoaA3/lwCZDoBInv/5IJAYkEgMSO///IqiApQBcs8sDRUFVAqdBo8CwN//M4xBEQiAGwr8MYABUFSwKnQaPAsDSw0oFToieJg6sNRK4RVHp2jz07/ulZaoOrOxK4RVHp33iYOrDShLTVTEFNRTMuMTAwVVVVVVVVVVVVVVVVVVVVVVVVVVVVVVVVVVVVVVVVVVVVVVVV\" type=\"audio/mpeg\"/>\n",
       "                        Your browser does not support the audio element.\n",
       "                    </audio>\n",
       "                  "
      ],
      "text/plain": [
       "<pydub.audio_segment.AudioSegment at 0x1fc403605f0>"
      ]
     },
     "metadata": {},
     "output_type": "display_data"
    },
    {
     "name": "stdout",
     "output_type": "stream",
     "text": [
      "마 6.76 6.86\n"
     ]
    },
    {
     "data": {
      "text/html": [
       "\n",
       "                    <audio controls>\n",
       "                        <source src=\"data:audio/mpeg;base64,SUQzBAAAAAAAI1RTU0UAAAAPAAADTGF2ZjYwLjE2LjEwMAAAAAAAAAAAAAAA//NYwAAAAAAAAAAAAEluZm8AAAAPAAAABQAAAtAAZmZmZmZmZmZmZmZmZmZmZmZmZoyMjIyMjIyMjIyMjIyMjIyMjIyMs7Ozs7Ozs7Ozs7Ozs7Ozs7Ozs7PZ2dnZ2dnZ2dnZ2dnZ2dnZ2dnZ2f//////////////////////////AAAAAExhdmM2MC4zMQAAAAAAAAAAAAAAACQCwAAAAAAAAALQ3N6kqQAAAAAAAAAAAAAA//M4xAASQDrVv0YYAKACm5JbdhxEREf2TCCBBCJMEAQBCXP8EHYJg+D4Pn+oBh/B8EAQBAEAGD4Pg+HwQ5cHwf/lwfB8PggCAIQGD/BA5p///8EAQBAgSS/sqUxn7mskjQMvAQInixDKJGv6//M4xBYa4yrAy5mIAJEQlHHApETLw4RAcL7pCbRAIxQJ1QgATBFyIGhkBCCk0jhijQIYK0HYtShcYbC7GyS1olI0Q8WUVdKltrUtBvp/9/V9P+gbf/9f++/b///////85/6l6c6fCUz4QJcM//M4xAkXkeLIAZOIAHRP6AOG4UejHIFSUHcJ5QiRIJlwLbBlS0RAQuKWSLoT4nwvnxLVm5ucIgW0yKoi+QMTUREr6zIOQK2owFLEseptZD9/2/9Rp1q1o+1az/Zw5Z9P//rV1d3uUzW5y8lp//M4xAkXgSLIAZjAAAWjcVr4Vp4htDe4k2b3jc200l5eVVop40mSEx/YzHEeqX78Nzus8m6291q9atfjpVHT4/jbXRC7etR5nUnlWdmnnZ0DGm0wQwyWOqxNT7kUb2//Z+oSIIQIIQDGCReA//M4xAoVMfZoNY1oAEiE18dAbvhNQ8gp34TYZQW4Nr/GWOUcJUM//l0vAnoTUWo4v/zI2HaYmpkr//NiaixlNh2k3//81MqRiSPAVv/0BQCkjwFJM//4FUxBTUUzLjEwMFVVVVVVVVVVVVVV\" type=\"audio/mpeg\"/>\n",
       "                        Your browser does not support the audio element.\n",
       "                    </audio>\n",
       "                  "
      ],
      "text/plain": [
       "<pydub.audio_segment.AudioSegment at 0x1fc4189db20>"
      ]
     },
     "metadata": {},
     "output_type": "display_data"
    },
    {
     "name": "stdout",
     "output_type": "stream",
     "text": [
      "곰 7.06 7.3\n"
     ]
    },
    {
     "data": {
      "text/html": [
       "\n",
       "                    <audio controls>\n",
       "                        <source src=\"data:audio/mpeg;base64,SUQzBAAAAAAAI1RTU0UAAAAPAAADTGF2ZjYwLjE2LjEwMAAAAAAAAAAAAAAA//NYwAAAAAAAAAAAAEluZm8AAAAPAAAACQAABIAAQEBAQEBAQEBAQEBYWFhYWFhYWFhYWHBwcHBwcHBwcHBwiIiIiIiIiIiIiIigoKCgoKCgoKCgoLi4uLi4uLi4uLi40NDQ0NDQ0NDQ0NDo6Ojo6Ojo6Ojo6P//////////////AAAAAExhdmM2MC4zMQAAAAAAAAAAAAAAACQDAAAAAAAAAASA2hY7hwAAAAAAAAAAAAAA//M4xAAS6JKZTUlgAIAAqZ/P+oddAgY80aNGTigUCgUEiBggBACYNy3YwEgSCYeA+D4Pg+DgIAgCAIA+D4Pg//lwcBAMfwQBB3/g+D5//ygIBj/4Pv/y4PqxthopApSy22222i2gBtWs27a3//M4xBMZstbuX49QAr3L3Jaql+yVZ6EAxOccESIZlFw2NPKFyqAHie6FXMKIPh8tC1Goh0635mzGms5pq15qaT6LMMV/p2bc2YnOeY/21/2T/9T0Y2rj4i+cd82S9MUWTqQALcbfwfut+N2z//M4xAsYGpLJndhoAiVpQiaLCi2WWq8TtzRU+3288f5tEfQ3B7JTZjM0NgthaSNl6pMr76yWRbUzVmyfdl90ElIrZ2Vauyl3XVZSaqa7NqtVf////6tNB0U1KcyPmQlo+cI1uABSl1kslFbs//M4xAkWmR7ZvovW5psmai5QHIiVWsuMJGB0D0p2Uy6ifjxxX+8ml8f1rdx+oFjjOYjePZqtL2w+kyRR/pBU+MFwuXsu6MTJBkCAK1im8v/kAZaJWm2Mnh6a2K8g/Up2BAJO7bXXcajRVyoN//M4xA0XuRbqXmrTBuCrnq6daIuhGPUGZdwwo19kQUgy2Ww/2KDs5LRN/FAQclBv5sOZsQlhYDAUrDTQ8HUAqSHnaVgYkHUmnCyzgXUZQUqdbCbHAUeYFfF7fdtAVFOgUNy62W24V0F6hjAu//M4xA0YQRbVvoMebhBon+/qPMBKY5tK154nxAkdS3bXs10QQ20+s11SAu2Lc/hWpObxJWWJWkatoCpiVNWOQkMhUEPvrDbzGHQlCanhxbATbdwo1V4K0xQj9RvY4JsbmAIijW7W0D/3zPOn//M4xAsXuf6wn1pQAIIXMF6bptPldupzV6JsSnOc/9ZIBMNXS51UEt3PWWYmEUH5b2NNCqKhiItzCIfkjWa1nMS5U5nHpx6Z+cqUuZSrv6mz17bqSLDwiIs8vgb//8awMNU8N0z7MCAwBsqD//M4xAsWaQKwAZl4ADMH2gUZVaHYanKVMJyh+/jq91KoVbbXlcKUfwnz7O//494lKVri1vn/Pj5j0AAlOnuXD4IAMr/D4IAmHznrf4YB8CBgHyn/8oXPggl4QL2CfpBRbR6UJSQXwKpKBxAq//M4xBASyE4sAc8AAIWJpTqhgJ5lGgqCoKviIO//8RPyoa4NPyp3g11naYircVOxFBqs6VOxFEVZ0qdiKDVZ0qdiKIqzpU7LKkxBTUUzLjEwMKqqqqqqqqqqqqqqqqqqqqqqqqqqqqqqqqqq\" type=\"audio/mpeg\"/>\n",
       "                        Your browser does not support the audio element.\n",
       "                    </audio>\n",
       "                  "
      ],
      "text/plain": [
       "<pydub.audio_segment.AudioSegment at 0x1fc418ba330>"
      ]
     },
     "metadata": {},
     "output_type": "display_data"
    },
    {
     "name": "stdout",
     "output_type": "stream",
     "text": [
      "애 7.56 7.98\n"
     ]
    },
    {
     "data": {
      "text/html": [
       "\n",
       "                    <audio controls>\n",
       "                        <source src=\"data:audio/mpeg;base64,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\" type=\"audio/mpeg\"/>\n",
       "                        Your browser does not support the audio element.\n",
       "                    </audio>\n",
       "                  "
      ],
      "text/plain": [
       "<pydub.audio_segment.AudioSegment at 0x1fc418785f0>"
      ]
     },
     "metadata": {},
     "output_type": "display_data"
    },
    {
     "name": "stdout",
     "output_type": "stream",
     "text": [
      "기 8.12 8.22\n"
     ]
    },
    {
     "data": {
      "text/html": [
       "\n",
       "                    <audio controls>\n",
       "                        <source src=\"data:audio/mpeg;base64,SUQzBAAAAAAAI1RTU0UAAAAPAAADTGF2ZjYwLjE2LjEwMAAAAAAAAAAAAAAA//NYwAAAAAAAAAAAAEluZm8AAAAPAAAABQAAAtAAZmZmZmZmZmZmZmZmZmZmZmZmZoyMjIyMjIyMjIyMjIyMjIyMjIyMs7Ozs7Ozs7Ozs7Ozs7Ozs7Ozs7PZ2dnZ2dnZ2dnZ2dnZ2dnZ2dnZ2f//////////////////////////AAAAAExhdmM2MC4zMQAAAAAAAAAAAAAAACQCvwAAAAAAAALQ4Yw+qAAAAAAAAAAAAAAA//M4xAAToeKIIUEQAiAAACxjAAAAAAoMb9CN+d9CNUhCZzvOc5z8hz5CEZSEIT///5KnOc8gGLdCEIxwAAEHAfD6wfD+IAQW8HwffygIDQQcJz5cP/ygIHOD4fW4Crf+++8oIILEWSPlcZiw//M4xBAZUf7FlY84ABHgwCTM8SI7OtsFI8o2OHhAEhpPSeNUd7ubNQeL3SvNS7qayorUXzUZHO7/9dUdHN9TWtzNrzTDSikjWcOsNhTFRjVpJDKmLhJ0SrFk9BpBiz/q/4UVw1lhqlOZxoJ0//M4xAkVmdawAZhoAIIpns6WierJFGx5EYJwrHOiZjAm6YqKXqWhWpGn36021L2bsuh/dn9/0VbalVstupFaZhv3cmdKjmNHuEmNNyXZYVfcsaIknm1HKRelakBv/20PywkLlJkk5FGweZTI//M4xBEZGsq4y5hQAMRYyo4hak5HYMWMVAXLC2DaTiCArHnPYwvcqSnEXWYzZc00xzp+725zsaYclLUa9EnKbQ85rodrVzXOObebzW9tveqKerd/N61Sj62X/Nako079dYIkW0NSJqXF0ni3//M4xAsXEW5MA88YABOkNityHGkoo6dNFRT1evXtfgKAgJRjUKzHquzKXGahQFuqpRgy8ZuqrdVeMy7M3QoCwlBVQNDAaeJTq8GoNRKdEriwNKBqCp0SuUDSj3/riVVMQU1FMy4xMDBVVVVV\" type=\"audio/mpeg\"/>\n",
       "                        Your browser does not support the audio element.\n",
       "                    </audio>\n",
       "                  "
      ],
      "text/plain": [
       "<pydub.audio_segment.AudioSegment at 0x1fc4188db20>"
      ]
     },
     "metadata": {},
     "output_type": "display_data"
    },
    {
     "name": "stdout",
     "output_type": "stream",
     "text": [
      "곰 8.6 9.098229166666668\n"
     ]
    },
    {
     "data": {
      "text/html": [
       "\n",
       "                    <audio controls>\n",
       "                        <source src=\"data:audio/mpeg;base64,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\" type=\"audio/mpeg\"/>\n",
       "                        Your browser does not support the audio element.\n",
       "                    </audio>\n",
       "                  "
      ],
      "text/plain": [
       "<pydub.audio_segment.AudioSegment at 0x1fc418ba330>"
      ]
     },
     "metadata": {},
     "output_type": "display_data"
    },
    {
     "name": "stdout",
     "output_type": "stream",
     "text": [
      "아 9.718229166666667 9.818229166666667\n"
     ]
    },
    {
     "data": {
      "text/html": [
       "\n",
       "                    <audio controls>\n",
       "                        <source src=\"data:audio/mpeg;base64,SUQzBAAAAAAAI1RTU0UAAAAPAAADTGF2ZjYwLjE2LjEwMAAAAAAAAAAAAAAA//NYwAAAAAAAAAAAAEluZm8AAAAPAAAABQAAAtAAZmZmZmZmZmZmZmZmZmZmZmZmZoyMjIyMjIyMjIyMjIyMjIyMjIyMs7Ozs7Ozs7Ozs7Ozs7Ozs7Ozs7PZ2dnZ2dnZ2dnZ2dnZ2dnZ2dnZ2f//////////////////////////AAAAAExhdmM2MC4zMQAAAAAAAAAAAAAAACQCwAAAAAAAAALQpzN3UQAAAAAAAAAAAAAA//M4xAASSQZEBUMYAAMAAAAQq4cWAACIgAAIUREL64AAIThwMW/xET3REREREAwN3d3OAbvLg+XB/gDrf/EgYxOCHEgIAgCDtQY+CDv4IHKwcBA5/xAq/wbF4hBHQBAyGg8H4G+vLCQz/ajS//M4xBUaIk7uX484AACw/hRCRGXxEB4QHgyV9RuTEhwcg0f3weCQE7xYBctf8fEcSxIMi8eGxcwr/NJwfl6HMe8//90Zxwx0Qw7O//55DZGQxsdkG/+D5z5UsCwr///+qu2P/7uadc8SzvjA//M4xAsXwSLMAZjAAFqNqH9FA72l71a7eyfSf1JNQorbGPlIOQzvvgZbgZRBTi7STj7MFtb3MrOte8sD35KxXUNKTt6iVJJVrX/oNlwceG1OS4hvp8o2yfRVrv+7zn6v62Et2x+/w5W4wC8Q//M4xAsX6brcq5hoAAqF9mPci3KOzDlnolpTRHcUsFgP7og/j4Xh9C8kiomDIaxfHGlKKycSx0xGQhU5cHKjOOkk6SVX1sv2WySnZfT7d+s+QAxokr+70Bocho7/b+hqrVUvksiashAKAEmK//M4xAoXCP50CclIAIVFKGiILBpDSJEi1UKgiTTQikUspBYEiWCIiJmpqoWt/8Yqs9VDGpbFU8VDRYGXFjwlBrUDNUFTyw0WBniU9lg5ZBV+WPcFeWPcFeWPcFeo9xKqTEFNRTMuMTAwqqqq\" type=\"audio/mpeg\"/>\n",
       "                        Your browser does not support the audio element.\n",
       "                    </audio>\n",
       "                  "
      ],
      "text/plain": [
       "<pydub.audio_segment.AudioSegment at 0x1fc403605f0>"
      ]
     },
     "metadata": {},
     "output_type": "display_data"
    },
    {
     "name": "stdout",
     "output_type": "stream",
     "text": [
      "빠 10.238229166666667 10.358229166666668\n"
     ]
    },
    {
     "data": {
      "text/html": [
       "\n",
       "                    <audio controls>\n",
       "                        <source src=\"data:audio/mpeg;base64,SUQzBAAAAAAAI1RTU0UAAAAPAAADTGF2ZjYwLjE2LjEwMAAAAAAAAAAAAAAA//NYwAAAAAAAAAAAAEluZm8AAAAPAAAABgAAAzwAWVlZWVlZWVlZWVlZWVlZWXp6enp6enp6enp6enp6enp6m5ubm5ubm5ubm5ubm5ubm729vb29vb29vb29vb29vb293t7e3t7e3t7e3t7e3t7e3t7/////////////////////AAAAAExhdmM2MC4zMQAAAAAAAAAAAAAAACQDwAAAAAAAAAM8tuRluQAAAAAAAAAAAAAA//M4xAATCJ5AAUwYAQDiPGcCQIgkCQTBLEszM169fe8zlKUpSgGBu7u7iwAAEAAAAB4eHh4YAAAAZ+YeHhgj/wD3/0MAAAzoAAf4YACP/w8PDwwR////+AAqkcZEEYDAhEIkEYkEgAOJVtl1//M4xBIZecbiX4yAAjT8mmI5kD5wAx98aQ7CfMimIU8N/FmEQIgOJzpd+Q8iZPlAqJqc+j+OYVJcaYmBol/0GTQug6pggcS/63TUyqa0z4OBE3/cT91x+f/vAm8oTb8+LZUBcG0+//A81NW1//M4xAsXwvriP8toAV/AHwMnW17trcC5NNTqSSSSszATY6JX19RKlqRu7rSNklDuAwx4nl6r6I3l1qeumokCl/5PSU6arpJmbhexkpIIVI+j/63+3VPer61f+pv//+s0CnUGpTikdlA+msuq//M4xAsWagryP0tYAmbxWJeX93MMYIEvfshltdUgcn96CzHwgZnzRVqRx6THtGT2K9P/1CO26ubfXkFzFW+p/NL4fXExsI01P11/f3x7JlUwLXJMu9f1/ToQVJInC0Q0ZXSAMyGNSBYOmWRn//M4xBAZKYq4AZOYAEcOKABKwjdhZwYi5CigwNrQrshofqBgWUfFDm4yijxEWUkl84LMFBjMHCMUTQ52j+T6dRoeN6NaKP+V0ywZF8JgoJSzwa+KPNEAuOz3/ME1Xh7//11MQU1FMy4xMDBV//M4xAoAAANIAcAAAFVVVVVVVVVVVVVVVVVVVVVVVVVVVVVVVVVVVVVVVVVVVVVVVVVVVVVVVVVVVVVVVVVVVVVVVVVVVVVVVVVVVVVVVVVVVVVVVVVVVVVVVVVVVVVVVVVVVVVVVVVVVVVV\" type=\"audio/mpeg\"/>\n",
       "                        Your browser does not support the audio element.\n",
       "                    </audio>\n",
       "                  "
      ],
      "text/plain": [
       "<pydub.audio_segment.AudioSegment at 0x1fc418b8e00>"
      ]
     },
     "metadata": {},
     "output_type": "display_data"
    },
    {
     "name": "stdout",
     "output_type": "stream",
     "text": [
      "곰 10.798229166666667 10.918229166666666\n"
     ]
    },
    {
     "data": {
      "text/html": [
       "\n",
       "                    <audio controls>\n",
       "                        <source src=\"data:audio/mpeg;base64,SUQzBAAAAAAAI1RTU0UAAAAPAAADTGF2ZjYwLjE2LjEwMAAAAAAAAAAAAAAA//NYwAAAAAAAAAAAAEluZm8AAAAPAAAABgAAAzwAWVlZWVlZWVlZWVlZWVlZWXp6enp6enp6enp6enp6enp6m5ubm5ubm5ubm5ubm5ubm729vb29vb29vb29vb29vb293t7e3t7e3t7e3t7e3t7e3t7/////////////////////AAAAAExhdmM2MC4zMQAAAAAAAAAAAAAAACQDwAAAAAAAAAM8hFfHOgAAAAAAAAAAAAAA//M4xAAUyMKADUZIABrRER7PJkyYQQIECBAgQIEyZMmDgMBpmAmGydtdGKydv+EIQhCCNGjB8HwfGAgCAIAMHwfekEDmAw+D4Ph+CAIBhPuggGMTn/p//nOXB8Hwf/8MKrEOwY1yXvLghWDA//M4xAsYIMqgAZrQAEe6sZtybnOlQxwGA3aEgxEOT4g8uoYc+q6VGAyj0NrjCGIy6PK2AQI1zAYKBjmDuXZ7LdSpvH82vgVLPvdv9W6400kKSWQLiAyn70+/0aUvzvXqa/6aiQABUt2st1Ga//M4xAkVEPLqX89oAt/6vWG5oF6tb/58ASRVWt//Nw9kqjWcZUd4wgwx+klOqNEnq+THiZQVArSG8xiiREFYrasVOShF3JbM219O5oWAYheF27v6TISP+ioiADRtSWi0z+SK/PYShFmXnNgt//M4xBMYkPK1/n6YTMoq9xbZ7hRMYk21iZRrGV9rE0Zd/zM/JJd6fzqTiR1+jMa9hwzc4HgATOAQmFhrBxjBy+tRzETXulEE4U0rEkmllTScTkzp+CXd6tSFemOqZU2V1GXMhawtZHklUOK0//M4xA8WSM6sAMsMxRWqmT7wc7zcWUJrmjgesCC6SIChLCkejcQhGJ0a2jo01gEgFGwSN1E60SkoQEgQIVSlUUxRLsklmKopiiXZJLoqx/4+bqYq7//+VQp3SyQCE4TmDQpCwhB4FgfEAWMW//M4xBQOyHI8PkpMCK1EicfGs5RZYqCZn1NzLdIz2/j8WNav9V+LIxRr/1e3ijdbeKN1iypMQU1FMy4xMDCqqqqqqqqqqqqqqqqqqqqqqqqqqqqqqqqqqqqqqqqqqqqqqqqqqqqqqqqqqqqq\" type=\"audio/mpeg\"/>\n",
       "                        Your browser does not support the audio element.\n",
       "                    </audio>\n",
       "                  "
      ],
      "text/plain": [
       "<pydub.audio_segment.AudioSegment at 0x1fc4188db20>"
      ]
     },
     "metadata": {},
     "output_type": "display_data"
    },
    {
     "name": "stdout",
     "output_type": "stream",
     "text": [
      "은 11.318229166666667 11.678229166666668\n"
     ]
    },
    {
     "data": {
      "text/html": [
       "\n",
       "                    <audio controls>\n",
       "                        <source src=\"data:audio/mpeg;base64,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\" type=\"audio/mpeg\"/>\n",
       "                        Your browser does not support the audio element.\n",
       "                    </audio>\n",
       "                  "
      ],
      "text/plain": [
       "<pydub.audio_segment.AudioSegment at 0x1fc41595760>"
      ]
     },
     "metadata": {},
     "output_type": "display_data"
    },
    {
     "name": "stdout",
     "output_type": "stream",
     "text": [
      "뚱 11.818229166666667 12.198229166666668\n"
     ]
    },
    {
     "data": {
      "text/html": [
       "\n",
       "                    <audio controls>\n",
       "                        <source src=\"data:audio/mpeg;base64,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\" type=\"audio/mpeg\"/>\n",
       "                        Your browser does not support the audio element.\n",
       "                    </audio>\n",
       "                  "
      ],
      "text/plain": [
       "<pydub.audio_segment.AudioSegment at 0x1fc4188db20>"
      ]
     },
     "metadata": {},
     "output_type": "display_data"
    },
    {
     "name": "stdout",
     "output_type": "stream",
     "text": [
      "뚱 12.358229166666668 12.858229166666668\n"
     ]
    },
    {
     "data": {
      "text/html": [
       "\n",
       "                    <audio controls>\n",
       "                        <source src=\"data:audio/mpeg;base64,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\" type=\"audio/mpeg\"/>\n",
       "                        Your browser does not support the audio element.\n",
       "                    </audio>\n",
       "                  "
      ],
      "text/plain": [
       "<pydub.audio_segment.AudioSegment at 0x1fc4187ade0>"
      ]
     },
     "metadata": {},
     "output_type": "display_data"
    },
    {
     "name": "stdout",
     "output_type": "stream",
     "text": [
      "해 12.898229166666667 13.238229166666667\n"
     ]
    },
    {
     "data": {
      "text/html": [
       "\n",
       "                    <audio controls>\n",
       "                        <source src=\"data:audio/mpeg;base64,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\" type=\"audio/mpeg\"/>\n",
       "                        Your browser does not support the audio element.\n",
       "                    </audio>\n",
       "                  "
      ],
      "text/plain": [
       "<pydub.audio_segment.AudioSegment at 0x1fc4188f6e0>"
      ]
     },
     "metadata": {},
     "output_type": "display_data"
    },
    {
     "name": "stdout",
     "output_type": "stream",
     "text": [
      "엄 13.998229166666668 14.318229166666667\n"
     ]
    },
    {
     "data": {
      "text/html": [
       "\n",
       "                    <audio controls>\n",
       "                        <source src=\"data:audio/mpeg;base64,SUQzBAAAAAAAI1RTU0UAAAAPAAADTGF2ZjYwLjE2LjEwMAAAAAAAAAAAAAAA//NYwAAAAAAAAAAAAEluZm8AAAAPAAAACwAABVgANTU1NTU1NTU1SkpKSkpKSkpKXl5eXl5eXl5ecnJycnJycnJyhoaGhoaGhoaGmpqampqampqar6+vr6+vr6+vw8PDw8PDw8PD19fX19fX19fX6+vr6+vr6+vr////////////AAAAAExhdmM2MC4zMQAAAAAAAAAAAAAAACQCgAAAAAAAAAVYk2B+yAAAAAAAAAAAAAAA//M4xAAMcDJMP0MQAJsgwh0e7u7mgGBgYPh/UCAIBnviB3E4fu+UDHUcyn/Z4Ph7P/wQOf8TggGP+oEP4Ph9ksZzdSyFRGgtGutG4AvfTfKj7dnJO8Qyl044Mao3UUFhPD8CaOg83cQgJY/g//M4xC0gQk76X49ZIhagJjj02/xBwOt1DYfIdCv/wRxvBPAeD5BmWL7X//+8+Ow0zhyYlNZv//8Us+zQ48PfNM2S59XVcPvvyWuffZPP39PcXUJjJv/h8hJ0TIZCQlENy7SIiALkkuAlsJTF//M4xAsXMtrqP8xQAqK2Z9imHgMWL2/JmpVCxFZ5rqC6AVBuFGzUchESN3zTepyvQ444401F65zqah7/us9v9D6Tz95kxj6nMZpT+sjJKm33O2/WvfztuiZSh5Iz/kF1CTKkjm2HcVQBzKcC//M4xA0XWtbqHhtKXpQuBuyjM25NBTSnW1fRBQr3vZBEK0Oe9Vv7XbXiIdH/3ZR9K9KrvrVv+mZmrQch3Mq1facoTF3WkqFiNpmsZmEejVK5WTd6UWIm+o+4wWViqnQCIAGkamA7DgcMy1X2//M4xA4XmibCPh5KXAGXA161y7+f5yQUKebe+fLMecyGFwwSd5UkLY79ynxsl1scn38KmDyRUeUYUwMzplK7ORuzOz/ZE3Xaqv5DERLndHlJ/1FHCyEV/+V34au91WBYANTL4f/b+88b3cme//M4xA4X2kbBnMvFKoAQf25+pvmWHW4ICmKd1+3byyytJ6i5kg1WqwSj9VuxAsY/+8//9dRH74tjGrme8s0VU0/oQyyOZ2eiTsdVY666/19Et29fny6qFFhTY39TfQogiADE0VAP/+/Ut9/d//M4xA0YAdLBnsJFRgAi7lUVjdezUnZfKU31GLe7krj0/upkoYcAy75FhEHmwx3MqNSPntfNz84ZBIG5vBd+zR1TvEzTKSeYz1RjIjs91nTdvyjObLf4KUAp/+jtoRVpIBUdbtA44SI0Q6MB//M4xAwUqWrNXgyQWroRuyCCklpHisIKjtqdFknsOUIJG7+VWoKO/qV9EBcJTTDKkkbyq9f8163fY53QwDmTZs7/ESzHZ3AJbRdxEkd/5BHbi9V1KABoA+7VqXJRIVCIwpyF18lijIA4WEG0//M4xBgUwcqYVVs4AIjG79DftTbP5bRU2TLVTB4I3cVrQq5wCgKEPopw8JRApNVJN1UxtvdD61NsfQyv+y/u6HFT+37w2GEouulSxsu2jIp8xOhGgMVxzEAYz4hB062cwsDa0ZqLDQg8Ts7o//M4xCQcwWKcAZt4AIxQcB3sf2dzn8lWsNcc3IEOOn84l661es5yxmSjRuns+Z4MGftjlt7Cxv516U39Vxn7mB0CPuWGelAFDwEf3+h+8CGnmkf/+OQ8ci///+oMpyS23W0aqq4YCAlZhVAV//M4xBAUwN65H8MYAoBLGZm1VuqqkGAljMzH/6qpMBKIgaDvBU7DSgaPYKndQNPyoK8Gs8JQVOgqMBoGp4qCrtQd4lOlZYGuJTuoGuJTvBpMQU1FMy4xMDBVVVVVVVVVVVVVVVVVVVVVVVVV\" type=\"audio/mpeg\"/>\n",
       "                        Your browser does not support the audio element.\n",
       "                    </audio>\n",
       "                  "
      ],
      "text/plain": [
       "<pydub.audio_segment.AudioSegment at 0x1fc4187ade0>"
      ]
     },
     "metadata": {},
     "output_type": "display_data"
    },
    {
     "name": "stdout",
     "output_type": "stream",
     "text": [
      "마 14.558229166666667 14.658229166666668\n"
     ]
    },
    {
     "data": {
      "text/html": [
       "\n",
       "                    <audio controls>\n",
       "                        <source src=\"data:audio/mpeg;base64,SUQzBAAAAAAAI1RTU0UAAAAPAAADTGF2ZjYwLjE2LjEwMAAAAAAAAAAAAAAA//NYwAAAAAAAAAAAAEluZm8AAAAPAAAABQAAAtAAZmZmZmZmZmZmZmZmZmZmZmZmZoyMjIyMjIyMjIyMjIyMjIyMjIyMs7Ozs7Ozs7Ozs7Ozs7Ozs7Ozs7PZ2dnZ2dnZ2dnZ2dnZ2dnZ2dnZ2f//////////////////////////AAAAAExhdmM2MC4zMQAAAAAAAAAAAAAAACQCwAAAAAAAAALQDzO9/wAAAAAAAAAAAAAA//M4xAAUwJrQN0MYAiD+5IHd3d3d0TcDAwMDFoiIn+iFohbgAgEKgTB9/nPn4IAgCFYPg+flAQDGD74If/pE74fBAEAQBABg+D4Ph8EAQBAEDIPg+D7wQBAEAxLg/ygYlT7fr9MOEabRLmfH//M4xAwX6SLAAZjAAH4mh2h8NtC21VVnYJZSnlvpOwO/tRGdlsOXiQ6NEcnmAow2K0tc687EUZ5FrFJOr6llz2RyPLDXF8vdb5u0ICPtT50j8pJ3lh3MXmQy19bEf9HRSunOm4Q7LwSukDRZ//M4xAsXOSLEAZPAANMA2tEKTNcX1aHWZg59pPy/P3hgUllFAQmSCl19nauobljS6LsBSF2ZFMP63i8KaltMWgTt+3XQmxap29GhwG7WrjCrc856+OQ13H0nGcnlP9He95xmPbXjZUoeMvMU//M4xA0YeSLEAZjAAHrBSPEulD99eT2Xo20G+yl5b0vJVp8WoU6qZr6xhDKMwRDr3RWje2MqO75KqeVWv2mHOzWFXJYr9XbFyJMOcamv1QkW59pIsaVuQdnWHxz4m6PoytQGfgxoyEoSlSUE//M4xAoXkQJoFcxIAEApaSiSeuyySRJeSmJie8uJQlMrIpXiwWBJkiBINNWhFJLqqFnJS//9S20KGQlBV0SuIlQWgrBo7PFQ31cqGyoKwaOqPFQWhqIuVDfBrrO8RdZ3iKpMQU1FMy4xMDCq\" type=\"audio/mpeg\"/>\n",
       "                        Your browser does not support the audio element.\n",
       "                    </audio>\n",
       "                  "
      ],
      "text/plain": [
       "<pydub.audio_segment.AudioSegment at 0x1fc418c5760>"
      ]
     },
     "metadata": {},
     "output_type": "display_data"
    },
    {
     "name": "stdout",
     "output_type": "stream",
     "text": [
      "곰 15.078229166666667 15.178229166666668\n"
     ]
    },
    {
     "data": {
      "text/html": [
       "\n",
       "                    <audio controls>\n",
       "                        <source src=\"data:audio/mpeg;base64,SUQzBAAAAAAAI1RTU0UAAAAPAAADTGF2ZjYwLjE2LjEwMAAAAAAAAAAAAAAA//NYwAAAAAAAAAAAAEluZm8AAAAPAAAABQAAAtAAZmZmZmZmZmZmZmZmZmZmZmZmZoyMjIyMjIyMjIyMjIyMjIyMjIyMs7Ozs7Ozs7Ozs7Ozs7Ozs7Ozs7PZ2dnZ2dnZ2dnZ2dnZ2dnZ2dnZ2f//////////////////////////AAAAAExhdmM2MC4zMQAAAAAAAAAAAAAAACQCwAAAAAAAAALQUDqmRwAAAAAAAAAAAAAA//M4xAAP+I6hf0MYAIAAt/bR4e/XPR3c9EQj4gAAAAAj6AAAAAAg5lAw8uD4Pg4CAIHPL//78uBDn8oCAIAgc8ocUCDpcH3/8u/+UDAwAAAB/8DP7sr+vvFeP3HJQ5a3FDQfOjUyyB0VXMEH//M4xB8dGtKtlZqYAOHcNURqFvhRAJoGgkaH7D2OkrEOFNH4sBdMghJFciyl2J5M3WsZctIp0PdmUvul////f///t6/tr2d6C/1MmpbLU/UijUZOZXX/qrMQzYMtrq/8t/1VmI1TvphHTBQj//M4xAkXCNqoAZrYAKzYyIg/ScK1TqlVilY14AUsViJo4y4qjzAEE7+RkT+5D+iozPTFOGAK9pbERCJXKVDBb/7rerV+NF6/tdveqkvYJrfbb9ft6fp9+U/f/X/////1Kvr3bcMwQnqNuRkU//M4xAsU+NbMAZjIAAi9zSZeoDLSETXZg2wpH0fAgSccKA4EfHnHibpvN03BkEuyw/f/e/Hf58q4HsvcWDwaf3oljQaA3/NHQMg7/+BkNHW//8daq1WSrUxJEia+URCrCIVNWhQs5UrQocWC//M4xBYXaJJ4NckwAcCRE4BBSWyRIjcRWQT4U2CnYioQT4V4Kd03IJ+XwV//kM8K8FOxNyCfCvBTsXZDPG+CvxdkM8b4K/F2R3/4L//kd/+Cvx/IYkxBTUUzLjEwMKqqqqqqqqqqqqqqqqqq\" type=\"audio/mpeg\"/>\n",
       "                        Your browser does not support the audio element.\n",
       "                    </audio>\n",
       "                  "
      ],
      "text/plain": [
       "<pydub.audio_segment.AudioSegment at 0x1fc403605f0>"
      ]
     },
     "metadata": {},
     "output_type": "display_data"
    },
    {
     "name": "stdout",
     "output_type": "stream",
     "text": [
      "은 15.578229166666667 15.998229166666668\n"
     ]
    },
    {
     "data": {
      "text/html": [
       "\n",
       "                    <audio controls>\n",
       "                        <source src=\"data:audio/mpeg;base64,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\" type=\"audio/mpeg\"/>\n",
       "                        Your browser does not support the audio element.\n",
       "                    </audio>\n",
       "                  "
      ],
      "text/plain": [
       "<pydub.audio_segment.AudioSegment at 0x1fc4188dc70>"
      ]
     },
     "metadata": {},
     "output_type": "display_data"
    },
    {
     "name": "stdout",
     "output_type": "stream",
     "text": [
      "날 16.118229166666666 16.49822916666667\n"
     ]
    },
    {
     "data": {
      "text/html": [
       "\n",
       "                    <audio controls>\n",
       "                        <source src=\"data:audio/mpeg;base64,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\" type=\"audio/mpeg\"/>\n",
       "                        Your browser does not support the audio element.\n",
       "                    </audio>\n",
       "                  "
      ],
      "text/plain": [
       "<pydub.audio_segment.AudioSegment at 0x1fc418ba330>"
      ]
     },
     "metadata": {},
     "output_type": "display_data"
    },
    {
     "name": "stdout",
     "output_type": "stream",
     "text": [
      "씬 16.65822916666667 17.218229166666667\n"
     ]
    },
    {
     "data": {
      "text/html": [
       "\n",
       "                    <audio controls>\n",
       "                        <source src=\"data:audio/mpeg;base64,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\" type=\"audio/mpeg\"/>\n",
       "                        Your browser does not support the audio element.\n",
       "                    </audio>\n",
       "                  "
      ],
      "text/plain": [
       "<pydub.audio_segment.AudioSegment at 0x1fc418bade0>"
      ]
     },
     "metadata": {},
     "output_type": "display_data"
    },
    {
     "name": "stdout",
     "output_type": "stream",
     "text": [
      "해 17.218229166666667 17.358229166666668\n"
     ]
    },
    {
     "data": {
      "text/html": [
       "\n",
       "                    <audio controls>\n",
       "                        <source src=\"data:audio/mpeg;base64,SUQzBAAAAAAAI1RTU0UAAAAPAAADTGF2ZjYwLjE2LjEwMAAAAAAAAAAAAAAA//NYwAAAAAAAAAAAAEluZm8AAAAPAAAABgAAAzwAWVlZWVlZWVlZWVlZWVlZWXp6enp6enp6enp6enp6enp6m5ubm5ubm5ubm5ubm5ubm729vb29vb29vb29vb29vb293t7e3t7e3t7e3t7e3t7e3t7/////////////////////AAAAAExhdmM2MC4zMQAAAAAAAAAAAAAAACQCgAAAAAAAAAM813XN0QAAAAAAAAAAAAAA//M4xAAU8J60H0kQAADAU6JzmujRzRisAAIGFxWCYJhsVigUEiCHnPchCZw4AACAQBAEAfB8HwfBwEAQDEHwfB8vUCAYggjKHIIBg//vB8Hwf/y9QIBjh/+sP/+UBAEAQewLAAP//9/8APj5//M4xAsWweLZlY9YAPLcRewJPYnJHPDLekXNIimcDsM3BVl7Tp1SBCXvHs4eYhMutPlY4adMb8rvPfLM7/PJWjc/LTaupeUFhzmOZ+4v+f99+rcynhKkzcGvqfZqIDZJvpIUgH2MUUTEnQAK//M4xA8YAdbJv9JoABKRWNkUDN2MDIV4U8nTxq5gU7rMQeRlGLIsSZZNqAWs8Yl83OLQSLjiBF9FVbvTqIn/UmX2pOmkm+t/V9v/UeewxknefxAJFH2JNrZQKIar6ZAcbiANYa9BSCBfIuDM//M4xA4YodbNnVBoAlgrWovqNSHk6kIGN3STHkPA5SHYCZAn0SamZj2NGRZMLwxgixUSqR4upCSFr1Uutin/8/sign6//TNteynW6R6cDIxAuKZFdu1R5Cfw6xhNwgI8OrUcDjAD/9o788D///M4xAoX2d7ZlY9YAOX+Jwd+x2sh2IW2A15CHMi4BgSgKjRQxLE8RlzjxHWWPlFNtXt2pP2jsz3U1nJ6Wc3a5vcui4iJsqXQ2ykqk6/n9/EUhc601072LhRXStHTJ0/+6z0qThTsg1laYraE//M4xAkVyH6UH8wQAKBIAyklA2LTZye4u5pdb5aOjJgwEKEoSDgiBo9rBU6yIg6VesFXAzER4qDQNRKGysGj2JXYiPAq8NSp0SuLB3o4iBpQdWCv/8GodlTvEVVMQU1FMy4xMDBVVVVVVVVV\" type=\"audio/mpeg\"/>\n",
       "                        Your browser does not support the audio element.\n",
       "                    </audio>\n",
       "                  "
      ],
      "text/plain": [
       "<pydub.audio_segment.AudioSegment at 0x1fc418ba330>"
      ]
     },
     "metadata": {},
     "output_type": "display_data"
    },
    {
     "name": "stdout",
     "output_type": "stream",
     "text": [
      "애 17.436458333333334 18.636458333333334\n"
     ]
    },
    {
     "data": {
      "text/html": [
       "\n",
       "                    <audio controls>\n",
       "                        <source src=\"data:audio/mpeg;base64,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\" type=\"audio/mpeg\"/>\n",
       "                        Your browser does not support the audio element.\n",
       "                    </audio>\n",
       "                  "
      ],
      "text/plain": [
       "<pydub.audio_segment.AudioSegment at 0x1fc418bade0>"
      ]
     },
     "metadata": {},
     "output_type": "display_data"
    },
    {
     "name": "stdout",
     "output_type": "stream",
     "text": [
      "기 18.796458333333334 18.916458333333335\n"
     ]
    },
    {
     "data": {
      "text/html": [
       "\n",
       "                    <audio controls>\n",
       "                        <source src=\"data:audio/mpeg;base64,SUQzBAAAAAAAI1RTU0UAAAAPAAADTGF2ZjYwLjE2LjEwMAAAAAAAAAAAAAAA//NYwAAAAAAAAAAAAEluZm8AAAAPAAAABgAAAzwAWVlZWVlZWVlZWVlZWVlZWXp6enp6enp6enp6enp6enp6m5ubm5ubm5ubm5ubm5ubm729vb29vb29vb29vb29vb293t7e3t7e3t7e3t7e3t7e3t7/////////////////////AAAAAExhdmM2MC4zMQAAAAAAAAAAAAAAACQDwAAAAAAAAAM8dGvG/QAAAAAAAAAAAAAA//M4xAAUwQZIAUlIAJz8ECAUBQEABgDBMVo29gQAmGydvaxcLgAAACAoQQh//7nNGjRkgoFAoFAoFAoJBWKxWjRtz8JowfB8Hw8IAQDEQRACAJg////wx+Jz8QBj/EAY+Z0PBTMiIT7HzGGv//M4xAwYA87AAYc4AI3OMPN/z7ozKpq/noYXMZFTT+Y2ZPvs//lCA4a6EBuNWHndJzt/+LxoEAtEsdOZj0eYYePsjHf//qePk43LmOp5554/U00jGqq5pjyf//+T///ljfRkEp+hPr4y3PCk//M4xAsXma65s9koAN1I7CDNQPwGGHGrQugjctlWtLnt/7u82JhwhbMJGLqx+Y96HFszLZEoQqtM9dm7/9zSOpgsSHB4IgQVUcqNmyxwDBw9/a+3NrJkSx5DpF5hR3YhCpECm7d9s3JB8514//M4xAsWqbL2X09AAhSlPDO8pKa1LSLulKHIt33MuNjugGmJ28XLxAVFmR2xca65xlLj6v/MnrqY74HXVI0zE7XUEFc6ONB0TxYe2mvaG/+hz3NDiSTNaLvQ6m9VA2gkDXF2Pqw3/oBDjQSi//M4xA8ZGoKwK5poACA/5qgihICEsl/wuYGoONIkgu3GEHAOA6YmtLy+mSCB5Iy0fm5JuYIIK9f5um5gaMb//7ueMBkjAzT1El//NyiZEw3qu7l33///qUgZoLF0i7b/O/0qTEFNRTMuMTAw//M4xAkAAANIAcAAAKqqqqqqqqqqqqqqqqqqqqqqqqqqqqqqqqqqqqqqqqqqqqqqqqqqqqqqqqqqqqqqqqqqqqqqqqqqqqqqqqqqqqqqqqqqqqqqqqqqqqqqqqqqqqqqqqqqqqqqqqqqqqqq\" type=\"audio/mpeg\"/>\n",
       "                        Your browser does not support the audio element.\n",
       "                    </audio>\n",
       "                  "
      ],
      "text/plain": [
       "<pydub.audio_segment.AudioSegment at 0x1fc4189db20>"
      ]
     },
     "metadata": {},
     "output_type": "display_data"
    },
    {
     "name": "stdout",
     "output_type": "stream",
     "text": [
      "곰 19.356458333333336 19.476458333333333\n"
     ]
    },
    {
     "data": {
      "text/html": [
       "\n",
       "                    <audio controls>\n",
       "                        <source src=\"data:audio/mpeg;base64,SUQzBAAAAAAAI1RTU0UAAAAPAAADTGF2ZjYwLjE2LjEwMAAAAAAAAAAAAAAA//NYwAAAAAAAAAAAAEluZm8AAAAPAAAABgAAAzwAWVlZWVlZWVlZWVlZWVlZWXp6enp6enp6enp6enp6enp6m5ubm5ubm5ubm5ubm5ubm729vb29vb29vb29vb29vb293t7e3t7e3t7e3t7e3t7e3t7/////////////////////AAAAAExhdmM2MC4zMQAAAAAAAAAAAAAAACQDwAAAAAAAAAM8YPTNJwAAAAAAAAAAAAAA//M4xAATUPJ1U0NgACAADE78QuIBi33d3gGBizgQAEOYGCylzszfOBDEc/sYCAIhYTgQESI7Mz/6UvNFjnA+PB8H/yhyD8H38EJd//BD//4PxAcKO+o4UOcH1fr8JIqG2E7//////uAJIHjS//M4xBEZkoriX484ALU8ZMIOAJht5lFHLIJbnhEhMB5djCpcSB50NGg0UdKFlSFRg1pQtaSE5yueY6Usp3Y9XZ2zlneyor7Vfdjyjt5k39bOn/TfZKNmJ/uhZofQT1QVJfpVjYIWuW2WWjcx//M4xAkXWPLeP9hYAjfPrUz1KYruUjjll/zd9ogGqkllhz9+oBQDpyo4qUCAHaTWX/Gge/5/VOPCVYq25IwdDoZJW0u45x9F8FgKoJLDUqSrr0PE7T4kdeOgBr9DQ3WOTUrANji7D+5YYbp3//M4xAoXuXK43VpoAn0wzIQ1VXX3lt42dlrzFNhN+hfF8pzHuh7hTM6fn1BYmjfmY4XKzJI3c8XC8zMlQpqf/r1NTpIJqUicJFhUU7UEgxpmMyhFH4gaMQdU7IuRWaNaj9EACCiSSiACu4eM//M4xAoXyQ60VZmgAAP+KUgPYvaX1/4OMLUBAmIb/geE8HyCCADgYDAEgvLhByTF6TRPOY+OxjhPpl0umReMvoIMmm5iXS6kkZcoGAugSnQa9wPlAwDp0t/RF5w8xdn+i/SqTEFNRTMuMTAw//M4xAkAAANIAcAAAKqqqqqqqqqqqqqqqqqqqqqqqqqqqqqqqqqqqqqqqqqqqqqqqqqqqqqqqqqqqqqqqqqqqqqqqqqqqqqqqqqqqqqqqqqqqqqqqqqqqqqqqqqqqqqqqqqqqqqqqqqqqqqq\" type=\"audio/mpeg\"/>\n",
       "                        Your browser does not support the audio element.\n",
       "                    </audio>\n",
       "                  "
      ],
      "text/plain": [
       "<pydub.audio_segment.AudioSegment at 0x1fc418b8e00>"
      ]
     },
     "metadata": {},
     "output_type": "display_data"
    },
    {
     "name": "stdout",
     "output_type": "stream",
     "text": [
      "은 19.876458333333336 20.296458333333334\n"
     ]
    },
    {
     "data": {
      "text/html": [
       "\n",
       "                    <audio controls>\n",
       "                        <source src=\"data:audio/mpeg;base64,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\" type=\"audio/mpeg\"/>\n",
       "                        Your browser does not support the audio element.\n",
       "                    </audio>\n",
       "                  "
      ],
      "text/plain": [
       "<pydub.audio_segment.AudioSegment at 0x1fc4187ade0>"
      ]
     },
     "metadata": {},
     "output_type": "display_data"
    },
    {
     "name": "stdout",
     "output_type": "stream",
     "text": [
      "너 20.396458333333335 20.496458333333333\n"
     ]
    },
    {
     "data": {
      "text/html": [
       "\n",
       "                    <audio controls>\n",
       "                        <source src=\"data:audio/mpeg;base64,SUQzBAAAAAAAI1RTU0UAAAAPAAADTGF2ZjYwLjE2LjEwMAAAAAAAAAAAAAAA//NYwAAAAAAAAAAAAEluZm8AAAAPAAAABQAAAtAAZmZmZmZmZmZmZmZmZmZmZmZmZoyMjIyMjIyMjIyMjIyMjIyMjIyMs7Ozs7Ozs7Ozs7Ozs7Ozs7Ozs7PZ2dnZ2dnZ2dnZ2dnZ2dnZ2dnZ2f//////////////////////////AAAAAExhdmM2MC4zMQAAAAAAAAAAAAAAACQCwAAAAAAAAALQoj4BmAAAAAAAAAAAAAAA//M4xAAUoALtn0AQAuBevbgkgoi4PwcOFwfuxAAwflwfBAEAQBAEwfB8H34gBAEwfB+D4IAgCAIAmD/+D4Pg+HwQBAEAQBMHwfB8PggCAIAgAwfB98Yc0///+CAIAgGFY4uz5YuynLPU3dCY//M4xAwX+WLIy5h4AJYGHrxBA4FpIvdZ3AqGK58jkPc6gOymgxa2iJxk0pgfRYX9rZrqHPHrHsrk35+3U9e4Q86zzdcm5tga///9Nf/63KEBV2z3MFHI//hthpUX/7PvJPx/X3KIRQsiqLal//M4xAsX2k7IAZiQAG621WZow2zoWSmZkGcOwnciCjcHmMo6YCkCzzpgAw4rRZiKO5aSIYPhBTECEATZELUFxSJRihhspOtx1E2k63rNV/U+rW//t/t/vWgv1W6vf9R6nXX9br0uE+M7oxzP//M4xAoXOiLAAZiQAG4yXJLu27UDGYFFImWwbyDaGODVw2k4PUTaXBzAMyC7iBD7AMMZZY6QtaZahqBeRu5TFaizhxHYe89bF0Uoiqil/v/6td///qf6teba1fzqaW8ikg6hQXiFiO8QSAg+//M4xAwVky5UA5CQAiEpoBAfwsZGMAdoCF/w+gl4pEig//+TJaSRUd//omSkjH//omSkjGiZf//y8UVoqRUYrRMlf///pFFaJkpIxWiUkjYxX////+iUqkxBTUUzLjEwMKqqqqqqqqqqqqqq\" type=\"audio/mpeg\"/>\n",
       "                        Your browser does not support the audio element.\n",
       "                    </audio>\n",
       "                  "
      ],
      "text/plain": [
       "<pydub.audio_segment.AudioSegment at 0x1fc418ba330>"
      ]
     },
     "metadata": {},
     "output_type": "display_data"
    },
    {
     "name": "stdout",
     "output_type": "stream",
     "text": [
      "무 20.636458333333334 20.736458333333335\n"
     ]
    },
    {
     "data": {
      "text/html": [
       "\n",
       "                    <audio controls>\n",
       "                        <source src=\"data:audio/mpeg;base64,SUQzBAAAAAAAI1RTU0UAAAAPAAADTGF2ZjYwLjE2LjEwMAAAAAAAAAAAAAAA//NYwAAAAAAAAAAAAEluZm8AAAAPAAAABQAAAtAAZmZmZmZmZmZmZmZmZmZmZmZmZoyMjIyMjIyMjIyMjIyMjIyMjIyMs7Ozs7Ozs7Ozs7Ozs7Ozs7Ozs7PZ2dnZ2dnZ2dnZ2dnZ2dnZ2dnZ2f//////////////////////////AAAAAExhdmM2MC4zMQAAAAAAAAAAAAAAACQCwAAAAAAAAALQ/G7eMQAAAAAAAAAAAAAA//M4xAARuELQX0MQAAbkstw4REREKI5wIAAAACAPg+D7yng+HwfB8CAgCAIAgD4Pg+D4EBAEAQBAHwfB8HwcBDv8EAQOX/7/8HwfB+j3///A4Pg+fVxdtiwiQQKmATjSwxiTKCyyRGjWSigV//M4xBgawQakAZvAANkXRLaZwKBMCzjDJLdGvGCYCxzwWbIJqwlWmpZwyy7SUlP/yeVXZmr+PPtfnnbsXkhkYecWS8Gw+ERKXPWdTh7yz+1WpLHV1SDgwQY1Vqrf6Gfqykm6DVNB4ha4PFXm//M4xAwXuRakAZvIABRLBhmL0WmZ4aXbGJVrVrukEY8PfHFR6fKqWDSgXV0cDJkOVX5KyL3zGWqK/JLG9/cnO6t8/n/Bvf//pZ/s/20M0VMstKn33nzTHIWCLSpHNs/R/X15c+tGSxYHFY6s//M4xAwXGRa0AZqAAIAB5EJ9UMXBxVYI3D+gzHGToUh+DFQuJUagmJomJAPJDScD0kXpnqU6i7omJqlUf7lB2zI2WSPd6KgKSCmrRfNBocabb/4GNNHIb//1Iaq1SssJyk5Li4DCAHQAKH6X//M4xA4VQKpUAc8wAGEKFyQqesJ9Icx1M0rDFhK4jn/5xIKgGASTmnQZDRY8JQaiWsFZ4qHZJQM8SntQM8Sv1Bzgq/Ue4K9R7gryx7gryx7grywcTEFNRTMuMTAwqqqqqqqqqqqqqqqqqqqq\" type=\"audio/mpeg\"/>\n",
       "                        Your browser does not support the audio element.\n",
       "                    </audio>\n",
       "                  "
      ],
      "text/plain": [
       "<pydub.audio_segment.AudioSegment at 0x1fc418c5c70>"
      ]
     },
     "metadata": {},
     "output_type": "display_data"
    },
    {
     "name": "stdout",
     "output_type": "stream",
     "text": [
      "귀 20.896458333333335 20.936458333333334\n"
     ]
    },
    {
     "data": {
      "text/html": [
       "\n",
       "                    <audio controls>\n",
       "                        <source src=\"data:audio/mpeg;base64,SUQzBAAAAAAAI1RTU0UAAAAPAAADTGF2ZjYwLjE2LjEwMAAAAAAAAAAAAAAA//NYwAAAAAAAAAAAAEluZm8AAAAPAAAABAAAAmQAeHh4eHh4eHh4eHh4eHh4eHh4eHh4eHh4paWlpaWlpaWlpaWlpaWlpaWlpaWlpaWlpdLS0tLS0tLS0tLS0tLS0tLS0tLS0tLS0tL/////////////////////////////////AAAAAExhdmM2MC4zMQAAAAAAAAAAAAAAACQEQAAAAAAAAAJkxv4NjQAAAAAAAAAAAAAA//M4xAAQsDJ0LUYYAAoEj+IiIMIAMBkxwIAg8QBhYOAgCAIAgD4fB8H31AgCAPg+fg4GPw/KAgCCwQg+D4OAgc/R/o7v/1g4CAIBjz/8uH2vOfL/8+OHsFHfqztiVgIjuEg9ceOsUVYzg4Ij//M4xBwcEya5lY8oAIOCIu4eZ3cUETBggyncjO7mFjji2T/V2uj2ZZCEdVXdWKisyXdRftziRxRlOxrKKi5SrVxSx079kIUqmb2vKquv9mU7t7rs7IRG+ieru6j5z/o/41WMAAASjYUDAYBA//M4xAoXwgayX5JoAEAIDABsHAOlaOIQAINJWDYka3jYAig7mTo8ZQExD4UUWdXjmGKmSo/f+YDmJp0lSS//MikYmJRSMv/+itRepJI///smkdLqKi8pB3/9sWPRED3//BxMQU1FMy4xMDBV//M4xAoAAANIAcAAAFVVVVVVVVVVVVVVVVVVVVVVVVVVVVVVVVVVVVVVVVVVVVVVVVVVVVVVVVVVVVVVVVVVVVVVVVVVVVVVVVVVVVVVVVVVVVVVVVVVVVVVVVVVVVVVVVVVVVVVVVVVVVVV\" type=\"audio/mpeg\"/>\n",
       "                        Your browser does not support the audio element.\n",
       "                    </audio>\n",
       "                  "
      ],
      "text/plain": [
       "<pydub.audio_segment.AudioSegment at 0x1fc418c7620>"
      ]
     },
     "metadata": {},
     "output_type": "display_data"
    },
    {
     "name": "stdout",
     "output_type": "stream",
     "text": [
      "여 20.936458333333334 21.196458333333332\n"
     ]
    },
    {
     "data": {
      "text/html": [
       "\n",
       "                    <audio controls>\n",
       "                        <source src=\"data:audio/mpeg;base64,SUQzBAAAAAAAI1RTU0UAAAAPAAADTGF2ZjYwLjE2LjEwMAAAAAAAAAAAAAAA//NYwAAAAAAAAAAAAEluZm8AAAAPAAAACgAABOwAOjo6Ojo6Ojo6UFBQUFBQUFBQUGZmZmZmZmZmZmZ8fHx8fHx8fHx8kpKSkpKSkpKSkqioqKioqKioqKi+vr6+vr6+vr6+1NTU1NTU1NTU1Orq6urq6urq6ur/////////////AAAAAExhdmM2MC4zMQAAAAAAAAAAAAAAACQEAAAAAAAAAATsyiqouwAAAAAAAAAAAAAA//M4xAASWEaUbU8YAAIA4GFYrE4higZKp9Dy2CSAXACAA4DAMhwKAg4EHPDC4EdoB/lHYgB8P1gQ58Tg+DgIAg7+CAIAgD4Pv///lAQd/8H4nB8oCAIKqAAkqoiqAqqBiL83ZJhMMFIItp5S//M4xBUaGva9lZloAHC9YlC/pFRPjSNovDcYLB5IaQbBsYl01Vn6curSSRWjv/pKt/v/r/31tr1prNkm1rUg6J7oEVa1HVUOvV2Qqqfatb362b/9VfZL/15zrcPFf//9deAWXLbWr8UpLOrR//M4xAsX8d7RvdFYAmMSAgIoqS7KRIoamRNF4R+jzLue2BNV+9ruIceIz53oOUY6kO5SQjpl/cVff00lHVv//ap7mPX91GJHvvtvzR07MVVTVfraHDVl4cY8b/0tVaaS16VgFBXbZq/Kq3Ui//M4xAoWmgK5vKLKlOiiLQAJAEHJoJpIsNpkUwSl/uOr1ASBBTFy50zDCSydZnU5mHMRSeSRamr6gKKv/uHa0dKOIAotPeksaHivWyNiav008N2Wf9kDPEr2JUtVqpULO9t//bbhs1E8FsCi//M4xA4W+gL2XlDRIhtPYuTCQMS4kho2zqhuEozM22mg9Q6lh81tYVEbTU8h7//5ErSvP6UgSo3a0KSdIDAT9k5lPfiLn+pGnBc2pY5nzPSUf6ft350BC7RcIcMHd94lFRtnSyg5gOWAqwHL//M4xBEZCgq5HprQkCoZ0ucII80+0Ak9XUPvuikSH/uqa2Wj74+zTZ4mJfiTU51tri+caLGJ/9cwyRUMR05ACwNz/u5u6iN64j3cVFHexOlpxLSr0KmSQW//tewNhFIIKjQUTJJCbw6FF3ac//M4xAsUwVLRvJJGkgvUAO400F/IswkggRBIwjyH/7oFhg7JAVNP2aB+bfM29MkI7s2hBCvk4rP6bqkGGk68WDLjC0U9rXgMuPcEucstkGhiTxoxT9xVrNv/7f93z//eiSbEfdC4TZrOH+NZ//M4xBcU8csWWU+QAz3EkAVcWWV0E0EmTUcH0RAihogggmmm9Rw0Qdaetab1lxta3dnQTGXSsoqF9S1LY2SZ19Va7JMm9eqdqD6TwABzyywwwwxnTldfto6H1vwApbrJ+aE4CcqNiG8A6hcB//M4xCIdqX7NlY+QAD5BBSI8EGJrw1eLkGSFwDnm5dMUDb5VJ8uFYnE0looqS/LRFyobFxM0SWitSSv5uoCAUWeEyzAn5RB8CIPvChVoUKt+UQfAiGjkFmBMswJlmfz//K1MQU1FMy4xMDBV//M4xAoAAANIAcAAAFVVVVVVVVVVVVVVVVVVVVVVVVVVVVVVVVVVVVVVVVVVVVVVVVVVVVVVVVVVVVVVVVVVVVVVVVVVVVVVVVVVVVVVVVVVVVVVVVVVVVVVVVVVVVVVVVVVVVVVVVVVVVVV\" type=\"audio/mpeg\"/>\n",
       "                        Your browser does not support the audio element.\n",
       "                    </audio>\n",
       "                  "
      ],
      "text/plain": [
       "<pydub.audio_segment.AudioSegment at 0x1fc418bade0>"
      ]
     },
     "metadata": {},
     "output_type": "display_data"
    },
    {
     "name": "stdout",
     "output_type": "stream",
     "text": [
      "워 21.416458333333335 21.456458333333334\n"
     ]
    },
    {
     "data": {
      "text/html": [
       "\n",
       "                    <audio controls>\n",
       "                        <source src=\"data:audio/mpeg;base64,SUQzBAAAAAAAI1RTU0UAAAAPAAADTGF2ZjYwLjE2LjEwMAAAAAAAAAAAAAAA//NYwAAAAAAAAAAAAEluZm8AAAAPAAAABAAAAmQAeHh4eHh4eHh4eHh4eHh4eHh4eHh4eHh4paWlpaWlpaWlpaWlpaWlpaWlpaWlpaWlpdLS0tLS0tLS0tLS0tLS0tLS0tLS0tLS0tL/////////////////////////////////AAAAAExhdmM2MC4zMQAAAAAAAAAAAAAAACQEQAAAAAAAAAJk6hclrwAAAAAAAAAAAAAA//M4xAAROHLIX0MIAACctow4d3d3d3QqHAwN3P+IEAAAQMHwfB8cD5/Lg+D77oIUrB8+D4IAgCAIYnB8PggCAIAgZv3RAc//h8EAQBD///+oMJVGvod211CO+0FGYcMA5WtY4lHJitOWEmEj//M4xBoawWq4AZmgAECwUY4DGoxFhIQMJJAkzHOLoYKFbDJFkAAGKKI3HGBgQwoY3OE5maZTSWTpMiZnzym9I39Arpm6kP/9Bbm5B3b0rNhgBm//0AmbQtP//Y5NyRBUOiU+CYwMtDFHBxhQ//M4xA4YCo60AZOYAAxli4ANfgPrFOvh+wguBmeN2uvwxKL4qjnErq/pk6Q44TxR//MSqXjIrF0x//zxeMj5dMTVIy///dExZIyTNUUDYy////TYxQcyTAIZBsA//8jVTEFNRTMuMTAwVVVV//M4xAwAAANIAcAAAFVVVVVVVVVVVVVVVVVVVVVVVVVVVVVVVVVVVVVVVVVVVVVVVVVVVVVVVVVVVVVVVVVVVVVVVVVVVVVVVVVVVVVVVVVVVVVVVVVVVVVVVVVVVVVVVVVVVVVVVVVVVVVV\" type=\"audio/mpeg\"/>\n",
       "                        Your browser does not support the audio element.\n",
       "                    </audio>\n",
       "                  "
      ],
      "text/plain": [
       "<pydub.audio_segment.AudioSegment at 0x1fc418c5c70>"
      ]
     },
     "metadata": {},
     "output_type": "display_data"
    },
    {
     "name": "stdout",
     "output_type": "stream",
     "text": [
      "으 21.456458333333334 22.576458333333335\n"
     ]
    },
    {
     "data": {
      "text/html": [
       "\n",
       "                    <audio controls>\n",
       "                        <source src=\"data:audio/mpeg;base64,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\" type=\"audio/mpeg\"/>\n",
       "                        Your browser does not support the audio element.\n",
       "                    </audio>\n",
       "                  "
      ],
      "text/plain": [
       "<pydub.audio_segment.AudioSegment at 0x1fc418c7800>"
      ]
     },
     "metadata": {},
     "output_type": "display_data"
    },
    {
     "name": "stdout",
     "output_type": "stream",
     "text": [
      "쓱 23.056458333333335 23.176458333333336\n"
     ]
    },
    {
     "data": {
      "text/html": [
       "\n",
       "                    <audio controls>\n",
       "                        <source src=\"data:audio/mpeg;base64,SUQzBAAAAAAAI1RTU0UAAAAPAAADTGF2ZjYwLjE2LjEwMAAAAAAAAAAAAAAA//NYwAAAAAAAAAAAAEluZm8AAAAPAAAABgAAAzwAWVlZWVlZWVlZWVlZWVlZWXp6enp6enp6enp6enp6enp6m5ubm5ubm5ubm5ubm5ubm729vb29vb29vb29vb29vb293t7e3t7e3t7e3t7e3t7e3t7/////////////////////AAAAAExhdmM2MC4zMQAAAAAAAAAAAAAAACQDwAAAAAAAAAM8HjZpNgAAAAAAAAAAAAAA//M4xAATul6FQUEQAAmP8AxsY+AYxjGMYxkIQhCNkJ8hDnOc5znOQhCEJ9CE1OQhCEIQjf7kIT/+pyEapz//5znOf/9CECCAwQg+D4OAhicEDigQBMHw//iAEDjvDnz37/toZYDeW7l2n+ks//M4xBAZORrFlZhAAD/weO55fdeUMvsyiBYbQHgAqxo5BQbdMIbIg9/Zli4PTn+Bs/unM5oMCh2JnjHCRbV2nUjA0MLvFBpo8QGoQkT2oKqbU9ApKIakZ1OnrXUh2lFTf9XZCSOXe+y2gagx//M4xAoXMdb+X89oAqmXua69T8Nhy3j7xLBgkBNDOupXWSIShamn61mIxh/ot9iSAcwyGTrupEnCXB4E0JQoF8pqOJGxkMc9M1X9u39k/+dOGni//Sh7u0L0iWqjx6exkAAPgYZh+8v5hQUl//M4xAwYEdq9nVhQACStpYSsO4/HN/2/nqUOodjqXxfqnnvoFEBeWT1oQAaH4pVGRmOEGGYVS/9XC6AJpQxvUornsrdCwvMMShvzPp5o3ACxMpYkvisI+r6ic5hgLP1JY9VrDWH1Yb/5iGOg//M4xAoWQfK0AZqgAJV4/4swYIgrFP8gwNGgODjki6Bv3HMIoHQHR0jMk6Ze8gSDF4vGJqj9MqG5cLgbyoyJoxPDlfjtNETb//7aj6EjEP5l/7LWe1J//SAlMh1MQU1FMy4xMDBVVVVVVVVV//M4xBAAAANIAcAAAFVVVVVVVVVVVVVVVVVVVVVVVVVVVVVVVVVVVVVVVVVVVVVVVVVVVVVVVVVVVVVVVVVVVVVVVVVVVVVVVVVVVVVVVVVVVVVVVVVVVVVVVVVVVVVVVVVVVVVVVVVVVVVV\" type=\"audio/mpeg\"/>\n",
       "                        Your browser does not support the audio element.\n",
       "                    </audio>\n",
       "                  "
      ],
      "text/plain": [
       "<pydub.audio_segment.AudioSegment at 0x1fc418c7cb0>"
      ]
     },
     "metadata": {},
     "output_type": "display_data"
    },
    {
     "name": "stdout",
     "output_type": "stream",
     "text": [
      "으 23.296458333333334 23.616458333333334\n"
     ]
    },
    {
     "data": {
      "text/html": [
       "\n",
       "                    <audio controls>\n",
       "                        <source src=\"data:audio/mpeg;base64,SUQzBAAAAAAAI1RTU0UAAAAPAAADTGF2ZjYwLjE2LjEwMAAAAAAAAAAAAAAA//NYwAAAAAAAAAAAAEluZm8AAAAPAAAACwAABVgANTU1NTU1NTU1SkpKSkpKSkpKXl5eXl5eXl5ecnJycnJycnJyhoaGhoaGhoaGmpqampqampqar6+vr6+vr6+vw8PDw8PDw8PD19fX19fX19fX6+vr6+vr6+vr////////////AAAAAExhdmM2MC4zMQAAAAAAAAAAAAAAACQCgAAAAAAAAAVY0jJ6jAAAAAAAAAAAAAAA//M4xAASYPJMAMCG6HbUzU3fuNv+/7/qZltG9S/QDoPrHWHWOu9dDOFMAYA1QA2HRdfMAAAARVCEA3ye5Gd3dz0CAAAABjw+flFHMT8MYn/KO/////nFGCALlu21wGpzY+ees88lEUPB96ql//M4xBUXmd6BvmPGyNdyy4yYhOYtaxrbx7SRmC1v3X3hhUS++xyLQGo0MzxIEiZw6yw3O6JbaGJz7mwKcP7nw+iygVIEdmwOMe1jpOwX868JIUhhlzkKN/ZcctlloGlOQ/GT1fscDmBcIcgZ//M4xBUXSTZ9v0xAAa1yCFx4HlfT09XLDAlRbuI/77qYn6mT0+oi73lOXSDMD1Vf3//QprCAOU0ZW9d76atbtSo7enLPR0i7CfeU7/Xe/V+qq5da/VVVqtm0MAMCCQMBAA7rh45VXSGAIR89//M4xBYa4w6Vn4lQARQxdmKmg3g3iHak27gVAbBYC//8bwWwKYNf/5KF2IcAAAAAsTRbfwCYX5OxGTkj+7Id/yQ8eDwxzDDtelWp/+QGE+Rj8nUfk/////9XJGjweEhOeHl1I0QhXKPD5inZ//M4xAkXEpqMAYlQAKBAQQ1nGwwGCmHbGHjYSUc1e4xC9OIRAr1+PgbgHhqFKEmx1/tcfhcjYoqIpq0/yYfWZEc7odt/7IhCSEpiMx5FocRdP/+dsRD0wnKjUBNZVq/6VQAUhFWlqq+3gDbI//M4xAsX4rJ5lYkYASqoealBfXLrOZxJNXlU9j3XGnrSJmXJTNycg5l0iy2aoQM5kfr5mlaVjNLTuafnpq//lkVXJixz3bBuR0un5NVhFVPQqMdc/++f/+LAmhh10sv7laUAojU11Abg2sGM//M4xAoX2x54NYkYAEOJs9O/6j/9dLf85LO/S//1Imk+559+w4al+fwtJ7FoWqF9qbPnq0hRtttcrX/9C/7ufkiAIJeIBOGdezLZPb13P7vrxhC0lQKQogJwxhaFBH/3/8BKSovf4fzwOYL2//M4xAkWKwagAZGYAHrcGyw48Zj/A9rDfz6f/lAnCbLZp/2xO4jsPXAUAJQHB//kHIGT44CKGhP///pumZm5EEC4WP///y0Xy+YE5dRcNFp/////qNHMzcqOmND17aZS8TuREPxFKFwHyDaD//M4xA8Y2k7YAZFoAJRiRnJ61CAHkUBNiRzIFk0nMzJzI1ZsnHpwe5uXTppi2HA+sJiGpqDJptZR1aqS60vW1N02e7ak6zJD2fdJWymfcta6l3pazGUVAZ6e+39KP///8Yr//svlH4/hOQ40//M4xAoWAU7QAZh4AGBoWZgcw6EaisRrHtF2MVngShDXfhA7MduT6AifyLH/w0eHd+s3/HuX+3+U6Mb+sc9FDunzB1//2zeA32Z7o+oWdS/rT/KOr8O/1P//6mJe3KHmZljiRLDktNRgGASJ//M4xBEVYF60N8YYA8SJJYuhHAuQyEN6CtgvAp/38KYG/r/hPBWwU2EMhDegv4uhDMhvQVsF+Edk/oL//x/ndBXm/kdz8QV4rwo7J/QX//IZykxBTUUzLjEwMKqqqqqqqqqqqqqqqqqqqqqq\" type=\"audio/mpeg\"/>\n",
       "                        Your browser does not support the audio element.\n",
       "                    </audio>\n",
       "                  "
      ],
      "text/plain": [
       "<pydub.audio_segment.AudioSegment at 0x1fc418ba9c0>"
      ]
     },
     "metadata": {},
     "output_type": "display_data"
    },
    {
     "name": "stdout",
     "output_type": "stream",
     "text": [
      "쓱 24.096458333333334 24.396458333333335\n"
     ]
    },
    {
     "data": {
      "text/html": [
       "\n",
       "                    <audio controls>\n",
       "                        <source src=\"data:audio/mpeg;base64,SUQzBAAAAAAAI1RTU0UAAAAPAAADTGF2ZjYwLjE2LjEwMAAAAAAAAAAAAAAA//NYwAAAAAAAAAAAAEluZm8AAAAPAAAACwAABVgANTU1NTU1NTU1SkpKSkpKSkpKXl5eXl5eXl5ecnJycnJycnJyhoaGhoaGhoaGmpqampqampqar6+vr6+vr6+vw8PDw8PDw8PD19fX19fX19fX6+vr6+vr6+vr////////////AAAAAExhdmM2MC4zMQAAAAAAAAAAAAAAACQDwAAAAAAAAAVYVl3JmgAAAAAAAAAAAAAA//M4xAAS2raA80EQAUDggAQxt+YFGMYxjAAHmMjfyE/kIxCf/yN+Q5znf9CEIT/7/qchCEIQhCHOc7//kOc7/Oc5zn/Oc7yHOc5z0IBgYeHh7///Dw8PfgqoCKqiqiikEALWWqv4+7c+na7h//M4xBMZGR65lZhoAIuP3pEviI0bZmPBU2GwCCF9q+uxfPuhT2QfUv7Lemmkr0DBkm1tSXWGjaodWSYfLQsIwA5zyy3wwloslxyqSCpg9NCJZtyrrIEC9E/bs/9//TXw5puWNuNgfP+Lbt4R//M4xA0XwcrZv89oAiIs0u6tjOLsjt8F6Y+s4ZaKy6XQeAvi113pEkTyebaVNSCA4iMX01OkbImwW0aAi5TQrtZF003fXqX+rvUh/ZR0voabSoNzH/p0t6AAc6F71BEYCpiTt323cdp1Bsvg//M4xA0YcrLKXpoFiBahRyaTz6Ll0awJGOL1Uls4iQpVTH3+UQ9Iqr/x9O2pq1pGIpRouJ/qTT4no6yjuh1Ls33bDbn+q7kBoXV6lOkX2q/T/7/3t+e7ggcjaLvpOgYq7mmAkXXEwPqJVFSQ//M4xAoXkrK0XqHFbOaFRA3k+bIGBiNYA08CIoZ292KQc83v+gNdlf2HUKXfU52nwB2dKtnR4SzdlNZ1OKvenoUJ9VZmlQXERpMHLdDBrpSzsyHk6t0/+n9zBRbAH8QnRZUdGbK36fXYAftP//M4xAoWQfr+XltPJphH8DMcXTWvNkCcB0qCMfV07hMBQf05/rPCehPBsbV1JBXDd/8dGgPy59bVcLACCQW/q6n2348p/9RSLBuQZUrQoEhddF7c9UCY4+lxNZchCYCBJPnARDzCh5hM6QdT//M4xBAYYhKofBaOWDyq2q+FaUvsBmzed/W+d3/zy1r+X+tDnUCACURHOYxhqA4bAkzeeYpgLn/6HG/aejj2ag/80i+27OXRfp7EngZKDrIsUokuVYhlBh/kM+HBoSUVg1qy23a3UfzZK/jR//M4xA0UwdrmXkCHMiBaudtqOBSC0327mnUVDm6v+gEZ2/KgEah1nAaKJ8z+UraNlKxS9Xqw1KMcY5BQUBPZuqsJB0RaQaf/qHLBZ7GLaybWdhoIK27JJAIREbo5sqiGEWMlI9TnjdvWkbLC//M4xBkU4SqA/jvGND9tnoP1KTXalr3n/JVh6ox/KTGpAUB4x4ln2QqSASVDKFPErgMeda1tiI0BItKqHuZ6itzF1yrRxWGVAalKcUAtnHI87hNiFOT2LOyd0SQAMGyLfb7aJROGhI8ElemI//M4xCQRgJJYFDPWRIr/oiIqmoKnQqdcVLIlXVAV0SnjtSSWGgk8tiWWw79v/+wK9CYAAhgaWAwQcadlZQwYGCY0VFGoAoVFhZQsLsDJkWFZmLsMqFhVn1Cwqz6hYV/+LC7DIwWFWfqFcYLi//M4xD0PgFG8thhGQK5MQU1FMy4xMDBVVVVVVVVVVVVVVVVVVVVVVVVVVVVVVVVVVVVVVVVVVVVVVVVVVVVVVVVVVVVVVVVVVVVVVVVVVVVVVVVVVVVVVVVVVVVVVVVVVVVVVVVVVVVVVVVV\" type=\"audio/mpeg\"/>\n",
       "                        Your browser does not support the audio element.\n",
       "                    </audio>\n",
       "                  "
      ],
      "text/plain": [
       "<pydub.audio_segment.AudioSegment at 0x1fc4188db20>"
      ]
     },
     "metadata": {},
     "output_type": "display_data"
    },
    {
     "name": "stdout",
     "output_type": "stream",
     "text": [
      "잘 24.596458333333334 25.116458333333334\n"
     ]
    },
    {
     "data": {
      "text/html": [
       "\n",
       "                    <audio controls>\n",
       "                        <source src=\"data:audio/mpeg;base64,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\" type=\"audio/mpeg\"/>\n",
       "                        Your browser does not support the audio element.\n",
       "                    </audio>\n",
       "                  "
      ],
      "text/plain": [
       "<pydub.audio_segment.AudioSegment at 0x1fc418b8e00>"
      ]
     },
     "metadata": {},
     "output_type": "display_data"
    },
    {
     "name": "stdout",
     "output_type": "stream",
     "text": [
      "한 25.076458333333335 25.516458333333333\n"
     ]
    },
    {
     "data": {
      "text/html": [
       "\n",
       "                    <audio controls>\n",
       "                        <source src=\"data:audio/mpeg;base64,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\" type=\"audio/mpeg\"/>\n",
       "                        Your browser does not support the audio element.\n",
       "                    </audio>\n",
       "                  "
      ],
      "text/plain": [
       "<pydub.audio_segment.AudioSegment at 0x1fc418ba9c0>"
      ]
     },
     "metadata": {},
     "output_type": "display_data"
    },
    {
     "name": "stdout",
     "output_type": "stream",
     "text": [
      "다 25.596458333333334 25.676458333333336\n"
     ]
    },
    {
     "data": {
      "text/html": [
       "\n",
       "                    <audio controls>\n",
       "                        <source src=\"data:audio/mpeg;base64,SUQzBAAAAAAAI1RTU0UAAAAPAAADTGF2ZjYwLjE2LjEwMAAAAAAAAAAAAAAA//NYwAAAAAAAAAAAAEluZm8AAAAPAAAABQAAAtAAZmZmZmZmZmZmZmZmZmZmZmZmZoyMjIyMjIyMjIyMjIyMjIyMjIyMs7Ozs7Ozs7Ozs7Ozs7Ozs7Ozs7PZ2dnZ2dnZ2dnZ2dnZ2dnZ2dnZ2f//////////////////////////AAAAAExhdmM2MC4zMQAAAAAAAAAAAAAAACQEAAAAAAAAAALQx2SgBgAAAAAAAAAAAAAA//M4xAAQMC68f0MYAEk5baMPx9cOBgbwOBg+D4PvggCAYB/E4EOFAQBAHwfB8HwcBAEAQBAHwfB8HwcBAEAwQB9+j//D+j///wfB//+pLAAQ0/9++M/Duuj9DHIwWAP2hirgYcxd7JPNvcoq//M4xB4c0sa5lZiQACyC8fcbRqXCHAPoEWH2ZAmDY8Wh9FWmkqixgX1GKTHCWROUtGtJZkVFOcJ8uGKFVl6CSKLUlLTW1Hb+s697VqQY3b//361f////q+s8B314CI////pV7Vxy7oGzVwZB//M4xAkXYda4AZigADKw6bYHAEsoFRlWZWsgoYjBiAogmnDBJPBZkRuOsLlnx1jVC0RMfIlQEiJBCAPN6i2gTlReTLqziFZUY9TNlFg8moiJmYNvX1b1V1v7qX/WY/U0xRXAAJJBCKMPb38B//M4xAoX2Yq4y4+QAKRMW6F+VQRUZh/IOAbQsZRKpAuGQAc4nQQmJozNfniByuXDJOtvmxOESLp9Banrb9I0TNTdB9JVFf80Wam5gBCRZn8LAQkFgIj/8+BEHwIg+9vVb/KKTEFNRTMuMTAw//M4xAkAAANIAcAAAKqqqqqqqqqqqqqqqqqqqqqqqqqqqqqqqqqqqqqqqqqqqqqqqqqqqqqqqqqqqqqqqqqqqqqqqqqqqqqqqqqqqqqqqqqqqqqqqqqqqqqqqqqqqqqqqqqqqqqqqqqqqqqq\" type=\"audio/mpeg\"/>\n",
       "                        Your browser does not support the audio element.\n",
       "                    </audio>\n",
       "                  "
      ],
      "text/plain": [
       "<pydub.audio_segment.AudioSegment at 0x1fc418ba9c0>"
      ]
     },
     "metadata": {},
     "output_type": "display_data"
    }
   ],
   "source": [
    "from utils.Audio import GetAudio\n",
    "audio =GetAudio(audio_path)\n",
    "display(audio)\n",
    "for w in result:\n",
    "    start = w['start']\n",
    "    end = w['end']\n",
    "    print(w['origin'],w['start'],w['end'])\n",
    "    display(audio[start*1000:end*1000])"
   ]
  },
  {
   "cell_type": "code",
   "execution_count": 5,
   "metadata": {},
   "outputs": [],
   "source": [
    "model.close_pool()  "
   ]
  }
 ],
 "metadata": {
  "kernelspec": {
   "display_name": "machinelearning",
   "language": "python",
   "name": "python3"
  },
  "language_info": {
   "codemirror_mode": {
    "name": "ipython",
    "version": 3
   },
   "file_extension": ".py",
   "mimetype": "text/x-python",
   "name": "python",
   "nbconvert_exporter": "python",
   "pygments_lexer": "ipython3",
   "version": "3.12.2"
  }
 },
 "nbformat": 4,
 "nbformat_minor": 2
}

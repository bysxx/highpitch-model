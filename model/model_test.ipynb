{
 "cells": [
  {
   "cell_type": "code",
   "execution_count": 1,
   "metadata": {},
   "outputs": [],
   "source": [
    "audiopth = \"곰세마리.wav\"\n",
    "label = \"곰 세마리가 한집에 있어 아빠곰 엄마곰 애기곰 아빠곰은 뚱뚱해 엄마 곰은 날\""
   ]
  },
  {
   "cell_type": "code",
   "execution_count": 2,
   "metadata": {},
   "outputs": [
    {
     "name": "stderr",
     "output_type": "stream",
     "text": [
      "Special tokens have been added in the vocabulary, make sure the associated word embeddings are fine-tuned or trained.\n",
      "C:\\Users\\zx288\\AppData\\Local\\Temp\\ipykernel_18828\\3428483476.py:28: UserWarning: To copy construct from a tensor, it is recommended to use sourceTensor.clone().detach() or sourceTensor.clone().detach().requires_grad_(True), rather than torch.tensor(sourceTensor).\n",
      "  input_values = torch.tensor(input).unsqueeze(0)\n"
     ]
    }
   ],
   "source": [
    "import sys,os\n",
    "current_dir = os.getcwd()\n",
    "sys.path.append(os.path.dirname(os.path.abspath(current_dir)))\n",
    "from utils.Audio import PrintAudioInfo, GetAudio, remove_Silence\n",
    "from utils.levenshtein_distance import infer\n",
    "from transformers import Wav2Vec2ForCTC, Wav2Vec2Config\n",
    "from transformers import Wav2Vec2Processor\n",
    "import torch\n",
    "import numpy as np\n",
    "\n",
    "# model_id = 'hongseongpil/wav2vec2-vocals'\n",
    "# model = Wav2Vec2ForCTC.from_pretrained(model_id,output_attentions=True)\n",
    "# model.eval()\n",
    "# processor = Wav2Vec2Processor.from_pretrained(model_id)\n",
    "\n",
    "model_config = Wav2Vec2Config.from_json_file(os.path.join(current_dir,'Model','model_config.json'))\n",
    "model = Wav2Vec2ForCTC(model_config)\n",
    "model_dict = torch.load(os.path.join(current_dir,'Model','model_state.pt'))\n",
    "model.load_state_dict(model_dict)\n",
    "model.eval()\n",
    "processor = Wav2Vec2Processor.from_pretrained(os.path.join(current_dir,'Model','processor_config'))\n",
    "\n",
    "\n",
    "from utils.Tokenize_Kor import decompose_tokens\n",
    "audio = remove_Silence(GetAudio(audiopth))[:20*1000]\n",
    "input = processor(np.array(audio.set_channels(1).get_array_of_samples(),dtype=np.float32), sampling_rate=16000, return_tensors=\"pt\").input_values[0]\n",
    "with torch.no_grad():\n",
    "    input_values = torch.tensor(input).unsqueeze(0)\n",
    "    logits = model(input_values).logits\n",
    "\n",
    "predlogits = torch.argmax(logits, dim=-1)[0]\n",
    "outputs = processor.decode(predlogits,output_char_offsets=True)\n",
    "\n",
    "decomponsed = decompose_tokens(label)\n",
    "while ' ' in decomponsed[0]:\n",
    "    index = decomponsed[0].index(' ')\n",
    "    del decomponsed[0][index]\n",
    "    del decomponsed[1][index]\n",
    "\n",
    "origintext = \"\".join(decomponsed[0])\n",
    "predtext = outputs['text'].replace(' ','')\n",
    "time_offset = model.config.inputs_to_logits_ratio / processor.feature_extractor.sampling_rate"
   ]
  },
  {
   "cell_type": "code",
   "execution_count": 4,
   "metadata": {},
   "outputs": [
    {
     "name": "stdout",
     "output_type": "stream",
     "text": [
      "Matching....\n",
      "\n",
      "origintext: ㄱ predtext: ㄱ\n",
      "origintext: ㅗ predtext: ㅓㅇㅓ\n",
      "origintext: ㅁ predtext: ㄴ\n",
      "origintext: ㅅ predtext: ㅅ\n",
      "origintext: ㅔ predtext: ㅔㅇ\n",
      "origintext: ㅁ predtext: ㅁ\n",
      "origintext: ㅏ predtext: ㅏㅇㅏ\n",
      "origintext: ㄹ predtext: ㄹ\n",
      "origintext: ㅣ predtext: ㅣㅇㅣ\n",
      "origintext: ㄱ predtext: ㄱ\n",
      "origintext: ㅏ predtext: ㅏㅇㅏ\n",
      "origintext: ㅎ predtext: ㅎ\n",
      "origintext: ㅏ predtext: ㅏㅇㅏ\n",
      "origintext: ㄴ predtext: ㅇ\n",
      "origintext: ㅈ predtext: ㅈ\n",
      "origintext: ㅣ predtext: ㅣ\n",
      "origintext: ㅂ predtext: ㅂ\n",
      "origintext: ㅔ predtext: ㅔ\n",
      "origintext: ㅇ predtext: ㅇ\n",
      "origintext: ㅣ predtext: ㅣ\n",
      "origintext: ㅆ predtext: ㅆ\n",
      "origintext: ㅓ predtext: ㅓ\n",
      "origintext: ㅇ predtext: ㅇ\n",
      "origintext: ㅏ predtext: ㅏㅇㅏ\n",
      "origintext: ㅃ predtext: ㅃ\n",
      "origintext: ㅏ predtext: ㅏ\n",
      "origintext: ㄱ predtext: ㄱ\n",
      "origintext: ㅗ predtext: ㅗㅇㅗ\n",
      "origintext: ㅁ predtext: ㅁ\n",
      "origintext: ㅇ predtext: ㅇ\n",
      "origintext: ㅓ predtext: ㅓ\n",
      "origintext: ㅁ predtext: ㅁ\n",
      "origintext: ㅁ predtext: ㅁ\n",
      "origintext: ㅏ predtext: ㅏ\n",
      "origintext: ㄱ predtext: ㄱ\n",
      "origintext: ㅗ predtext: ㅗㅇㅗ\n",
      "origintext: ㅁ predtext: ㅁ\n",
      "origintext: ㅇ predtext: ㅇ\n",
      "origintext: ㅐ predtext: ㅐ\n",
      "origintext: ㄱ predtext: ㅎ\n",
      "origintext: ㅣ predtext: ㅟㅇㅣ\n",
      "origintext: ㄱ predtext: ㄱ\n",
      "origintext: ㅗ predtext: ㅗㅇㅗ\n",
      "origintext: ㅁ predtext: ㅇ\n",
      "origintext: ㅇ predtext: ㅇ\n",
      "origintext: ㅏ predtext: ㅏ\n",
      "origintext: ㅃ predtext: ㅃ\n",
      "origintext: ㅏ predtext: ㅏㅇㅏ\n",
      "origintext: ㄱ predtext: ㄱ\n",
      "origintext: ㅗ predtext: ㅗㅇㅗ\n",
      "origintext: ㅁ predtext: ㅁ\n",
      "origintext: ㅡ predtext: ㅡㅇㅡ\n",
      "origintext: ㄴ predtext: ㄴ\n",
      "origintext: ㄸ predtext: ㄸ\n",
      "origintext: ㅜ predtext: ㅜ\n",
      "origintext: ㅇ predtext: ㅇㅜㅁ\n",
      "origintext: ㄸ predtext: ㅌ\n",
      "origintext: ㅜ predtext: ㅜ\n",
      "origintext: ㅇ predtext: ㅇㅜㅁ\n",
      "origintext: ㅎ predtext: ㅎ\n",
      "origintext: ㅐ predtext: ㅐ\n",
      "origintext: ㅇ predtext: ㅇㅐㅇ\n",
      "origintext: ㅓ predtext: ㅓ\n",
      "origintext: ㅁ predtext: ㅁ\n",
      "origintext: ㅁ predtext: ㅁ\n",
      "origintext: ㅏ predtext: ㅏㅇㅏ\n",
      "origintext: ㄱ predtext: ㄱ\n",
      "origintext: ㅗ predtext: ㅓㅇㅓ\n",
      "origintext: ㅁ predtext: ㅁ\n",
      "origintext: ㅡ predtext: ㅡ\n",
      "origintext: ㄴ predtext: ㄴ\n",
      "origintext: ㄴ predtext: ㄴ\n",
      "origintext: ㅏ predtext: ㄴ\n",
      "origintext: ㄹ predtext: ㄴ\n"
     ]
    }
   ],
   "source": [
    "infered = infer(origintext,predtext)\n",
    "print(\"Matching....\\n\")\n",
    "\n",
    "for item in infered:\n",
    "    pred =\"\".join([predtext[j-1] for j in item[1]])\n",
    "    print(\"origintext:\", origintext[item[0]-1],\"predtext:\",pred)"
   ]
  },
  {
   "cell_type": "code",
   "execution_count": 5,
   "metadata": {},
   "outputs": [
    {
     "data": {
      "text/plain": [
       "[{'origin': '곰', 'start': 7.26, 'end': 7.54},\n",
       " {'origin': '세', 'start': 7.68, 'end': 7.78},\n",
       " {'origin': '마', 'start': 7.92, 'end': 8.08},\n",
       " {'origin': '리', 'start': 8.18, 'end': 8.52},\n",
       " {'origin': '가', 'start': 8.64, 'end': 8.94},\n",
       " {'origin': '한', 'start': 9.0, 'end': 9.36},\n",
       " {'origin': '집', 'start': 9.5, 'end': 9.58},\n",
       " {'origin': '에', 'start': 9.74, 'end': 9.82},\n",
       " {'origin': '있', 'start': 9.82, 'end': 10.14},\n",
       " {'origin': '어', 'start': 10.42, 'end': 10.5},\n",
       " {'origin': '아', 'start': 10.5, 'end': 10.94},\n",
       " {'origin': '빠', 'start': 11.08, 'end': 11.2},\n",
       " {'origin': '곰', 'start': 11.34, 'end': 11.6},\n",
       " {'origin': '엄', 'start': 11.8, 'end': 12.02},\n",
       " {'origin': '마', 'start': 12.0, 'end': 12.12},\n",
       " {'origin': '곰', 'start': 12.24, 'end': 12.5},\n",
       " {'origin': '애', 'start': 12.72, 'end': 13.04},\n",
       " {'origin': '기', 'start': 13.2, 'end': 13.5},\n",
       " {'origin': '곰', 'start': 13.62, 'end': 14.1},\n",
       " {'origin': '아', 'start': 14.5, 'end': 14.68},\n",
       " {'origin': '빠', 'start': 14.96, 'end': 15.3},\n",
       " {'origin': '곰', 'start': 15.42, 'end': 15.8},\n",
       " {'origin': '은', 'start': 15.88, 'end': 16.16},\n",
       " {'origin': '뚱', 'start': 16.34, 'end': 16.62},\n",
       " {'origin': '뚱', 'start': 16.82, 'end': 17.14},\n",
       " {'origin': '해', 'start': 17.2, 'end': 17.3},\n",
       " {'origin': '엄', 'start': 17.3, 'end': 18.42},\n",
       " {'origin': '마', 'start': 18.58, 'end': 18.92},\n",
       " {'origin': '곰', 'start': 19.06, 'end': 19.42},\n",
       " {'origin': '은', 'start': 19.5, 'end': 19.8},\n",
       " {'origin': '날', 'start': 19.9, 'end': 19.94}]"
      ]
     },
     "execution_count": 5,
     "metadata": {},
     "output_type": "execute_result"
    }
   ],
   "source": [
    "from collections import Counter\n",
    "count_dict = dict(Counter(decomponsed[1]))\n",
    "count_list = [[num, count] for num, count in count_dict.items()]\n",
    "result = []\n",
    "phoneme_index = 0\n",
    "for i in count_list:\n",
    "    start_index = infered[phoneme_index][1][0]-1\n",
    "    end_index = infered[phoneme_index+i[1]-1][1][-1]-1\n",
    "    phoneme_index += i[1]\n",
    "    start_offset = outputs['char_offsets'][start_index][\"start_offset\"]\n",
    "    end_offset = outputs['char_offsets'][end_index][\"end_offset\"]\n",
    "    result.append({'origin' : label[i[0]],'start':round (start_offset* time_offset, 2 ),'end' :round (end_offset* time_offset, 2 )})\n",
    "    \n",
    "result"
   ]
  },
  {
   "cell_type": "code",
   "execution_count": 6,
   "metadata": {},
   "outputs": [
    {
     "name": "stdout",
     "output_type": "stream",
     "text": [
      "곰 7.26 7.54\n",
      "Channels: 1\n",
      "Sample rate: 16000\n",
      "Duration:  0.28\n",
      "Bit depth: 2 bits\n",
      "len samples: 4480\n"
     ]
    },
    {
     "data": {
      "text/html": [
       "\n",
       "                    <audio controls>\n",
       "                        <source src=\"data:audio/mpeg;base64,SUQzBAAAAAAAI1RTU0UAAAAPAAADTGF2ZjYwLjE2LjEwMAAAAAAAAAAAAAAA//NYwAAAAAAAAAAAAEluZm8AAAAPAAAACgAABOwAOjo6Ojo6Ojo6UFBQUFBQUFBQUGZmZmZmZmZmZmZ8fHx8fHx8fHx8kpKSkpKSkpKSkqioqKioqKioqKi+vr6+vr6+vr6+1NTU1NTU1NTU1Orq6urq6urq6ur/////////////AAAAAExhdmM2MC4zMQAAAAAAAAAAAAAAACQCwAAAAAAAAATsOhqWKgAAAAAAAAAAAAAA//M4xAAR4NqKD0EYAEoACDZlAxjHkDjGMY34AAB/+7u6InQ4GLN3gQAAAAAR/BMHwfP5cH5c//BMHwfeXBAEAxlwfz6gx+CAIAgc/wfBx3qBAMfB9cNW8JHd0zR43jaKJ3vaw+1WJiKxM1w8//M4xBca+k6oAZhoAJSPuyDJHnGgY7GgGAOEqMh5ifiAE4dhAMA4C6Sww582Mi4nc0JrKWmmba3XS79dNF1/uyl9atLen610EzalstlVpNXW/SW1R8+1aliEpVTAhdnv09CYgRioJJWpAAQh//M4xAoXQOLC39h4AGk+vaelhlwRKQKo61N3/qRcdEwq3l+X49aQB/QD7//DAaZ1Ra+torWPQdq6NKNel6R/AoaEdmgSg0yiE5RILe15+pXlmshzxOCz3UElPvDqOe0JTAozAuRwLKjCy6w4//M4xAwW2dayNJ4ElGCNqFFD+hgC3a2evy3oQSYvFJyn3n2qzYv1jOZ/+EAgl8hlV1jO6An/UwE/5bb8yl7f6Thv6mRK8EUP9TaEO0QeHOhIs0kUXnGEQcBxQbL1lTjzqTlsbkFsQfBz+cgI//M4xA8YcdLmXnxG1hjVtn5gAzg0kJtfkaAXwvcMAqlg2QlAMSltauwr4zxasinSKBr/M0Um+X55dMtFyaLeGtltef0WUnTKwTCBUT5DR7Ypva4m+UColCryTivNB7U9schgBUZKVEb/Hp4A//M4xAwWoVbFvntLBlEg7a3rPkJCIC7pE/wRsQgkooTzgRnkRxa7t1BWnS+0rI4fampDgjN9SkdlbG1IgbU6m1es6qhHW2CvI61gEgOAyGqzMNLQUusiqPnxKbWUWGgMAm/lnwpcc9bw7xE8//M4xBAYEja+fsLK6B0mm2t6/8kBRZUOdKYC/9ylfo/Ks+8KhqM3dduBSW8ghmijJaZwgLiRJ+xSr+j5HxatU00r9X9itp2dtVl6Kuxxx0N1PRoyMuYArth9SNNq1Qgb+sLH8zztyhpBkIpe//M4xA4VSSKgVVpoAIV5LKmGdtu6Elv9/r8PnEVRFFM0dloB2D+OI3WbJWBHiQHI6VNNZNqas6xx1M6e9zI7pfQST/UT7sjXGDiJ3i6PqmVoZOjWquSuVxZgKZAWeDU0LXCZKZtwBAtwdEuW//M4xBcaURagAZp4AFUKtxYYsERpB4MgKNTIsFKltJ5BUynHeYhzY0J+LzsGDdQ+jFGP22oTPq1P3LbbE/9nwKPU9bzssBQ0Bv9BoNAY0d/p0oHQ0okd/3/UBkNHIaOqHTEJXM12GKihJg1S//M4xAwQOEZUDc8YADTeHqLk5QVbFGA0VDRYFToNHlA08qCpUFfxF1nf6zvEXWd4i6zvBrlTvBpxaVO8t1neW/xFTEFNRTMuMTAwVVVVVVVVVVVVVVVVVVVVVVVVVVVVVVVVVVVVVVVVVVVV\" type=\"audio/mpeg\"/>\n",
       "                        Your browser does not support the audio element.\n",
       "                    </audio>\n",
       "                  "
      ],
      "text/plain": [
       "<pydub.audio_segment.AudioSegment at 0x24eab23bb00>"
      ]
     },
     "metadata": {},
     "output_type": "display_data"
    },
    {
     "name": "stdout",
     "output_type": "stream",
     "text": [
      "세 7.68 7.78\n",
      "Channels: 1\n",
      "Sample rate: 16000\n",
      "Duration:  0.1\n",
      "Bit depth: 2 bits\n",
      "len samples: 1600\n"
     ]
    },
    {
     "data": {
      "text/html": [
       "\n",
       "                    <audio controls>\n",
       "                        <source src=\"data:audio/mpeg;base64,SUQzBAAAAAAAI1RTU0UAAAAPAAADTGF2ZjYwLjE2LjEwMAAAAAAAAAAAAAAA//NYwAAAAAAAAAAAAEluZm8AAAAPAAAABQAAAtAAZmZmZmZmZmZmZmZmZmZmZmZmZoyMjIyMjIyMjIyMjIyMjIyMjIyMs7Ozs7Ozs7Ozs7Ozs7Ozs7Ozs7PZ2dnZ2dnZ2dnZ2dnZ2dnZ2dnZ2f//////////////////////////AAAAAExhdmM2MC4zMQAAAAAAAAAAAAAAACQCwAAAAAAAAALQrnDseQAAAAAAAAAAAAAA//M4xAATci6MQUMYAMARP/ocAAAAAREThciIiO7/9dEL/3RETd33fiIiI7/EREd3//67v/UROu/Hd3P//9ET/RET/iIibgAAITg+D4f/WD5/ggCDsQAgD4PvpefOmPaXwCGjL19R43xWxw4p//M4xBEYUk7NkY9YAH5ZsPJ7Up5zAEBMk9vVeo2Th+D8NpppSm2nHGVd3Vrszrdrafbfj5Qlve3d/9vZbGR8SvF7p+bZ/d/P3y3rZ//PW3/k+ZdvK7U33ix5/wD6FcuWM8ePoPGfBRm00LT7//M4xA4XCfLAAZiIAOK29vwBekimJixHjhMxPZ5yggVFDOFMYCI9FJkyWpOWS0ylDKG8zett60fS29SRe/X9qKDVUVMxl1P2/syBJCJYVdAQ1+2li5Q6IQ3/9Kqe08r5tF3hBRlY4sMQNqCG//M4xBAWYRK8AY94AHq2AjoQDohHBFqVDXBJtQdKtUi6GvCTrYW6si/+5NyX8CdPM2IUby/4i7rvcP4hPEWGp9KuIXNl9bm5FowEgJ7Y96ZEFh9bNH66gAAAgW5AOL4BsgDReI7Ai7wBRAfm//M4xBUZoy48E5OgAACpPwASAODBfoBcB/h74sJATQ7/6RigTJobf/mSamSIaY//5VIccJ4dJieWXf//zIjS6odJATQjSiVSHGX///5sYrRMlJGK0TJSRiv////9EypMQU1FMy4xMDCqqqqq\" type=\"audio/mpeg\"/>\n",
       "                        Your browser does not support the audio element.\n",
       "                    </audio>\n",
       "                  "
      ],
      "text/plain": [
       "<pydub.audio_segment.AudioSegment at 0x24eab24ac30>"
      ]
     },
     "metadata": {},
     "output_type": "display_data"
    },
    {
     "name": "stdout",
     "output_type": "stream",
     "text": [
      "마 7.92 8.08\n",
      "Channels: 1\n",
      "Sample rate: 16000\n",
      "Duration:  0.16\n",
      "Bit depth: 2 bits\n",
      "len samples: 2560\n"
     ]
    },
    {
     "data": {
      "text/html": [
       "\n",
       "                    <audio controls>\n",
       "                        <source src=\"data:audio/mpeg;base64,SUQzBAAAAAAAI1RTU0UAAAAPAAADTGF2ZjYwLjE2LjEwMAAAAAAAAAAAAAAA//NYwAAAAAAAAAAAAEluZm8AAAAPAAAABwAAA6gATk5OTk5OTk5OTk5OTk5sbGxsbGxsbGxsbGxsbImJiYmJiYmJiYmJiYmJp6enp6enp6enp6enp6enxMTExMTExMTExMTExMTi4uLi4uLi4uLi4uLi4v//////////////////AAAAAExhdmM2MC4zMQAAAAAAAAAAAAAAACQDgAAAAAAAAAOol8kV8wAAAAAAAAAAAAAA//M4xAAUCIagDUwQABrYsWHBIEAEAaGhXAAAAAgDQRBIEgwPF973ve914AAAAAACAQy70ggCAIAgCYPg+H4f5c/wQAAIAgCYPg+D593AYPvwACAIO//3fl///B8Pqrsc/7XAath4sP3HKsFR//M4xA4W2h6oAZpQABmlp7TtyW2RMJI1j8WDyQPigaj0OFAK4mCaVGQoYfkx4+QQLqRoHpJCuKTh8IY44P4jl8bOJY3QjPmsduvyf//9//59f/yf3Vn2Q9V9damvy7Vhl3RwsN2frf7+rxEF//M4xBEYUW6oAdmYAFvlmeGX6jbdQzA00GZM6iLCAT0BpQwGqOFwkQ+MvJ6lJsIOJbTZAxHGGoEBKS3QWZFEfBVS9TIL+7mDen0cIsypo/gmeICr7dx4yZWUBzPmlTQIIGAjYIgLulfFZCsj//M4xA4Xmkq6VoBHqEeoboySbeYCeyHEkjrkqILhc0dNd4s8G2Y4kl9R0T0XT1tRwQkHa3VOCvlfW6EcgnUvwK/2Y+YyQfjGr/+QCA2K+DBAKRcLmAHanGBEOf/zarlLJMpJJG5w5XzqBnwz//M4xA4WyUb2X094ArwnolKfWWOM5///EclCpcn+6QMULzX7+oL8IWDAncKa/upyIjU+vi7cKGf//EAwHf+fily7OjlivI0SaLsI/yLaQ51LQA5zkV0//LOHVZhYPh6KwmHBoNhINQAKy8On//M4xBEZkn8yX5JpIg74qBd5LAnI6RmcPBqEXx28pFwSoPSSY7Uvj6enVmRiyX2laFNGki38wJAQpGWap0jJH/zJ2WlWkimyLLSWgj/+tBa0K2V0WW2tv/50uLAh8RPfd2LVCsEuv/NQhiEK//M4xAkTAImQDcEYAWwEKNQFYQKaFNmgvBvQo4FNCRXDv///xXDvhHRXQRXBvf//8V53wjgV0EF4N6FPi/0Vwb4UdFNCQXg3o3//org3+fpMQU1FMy4xMDBVVVVVVVVVVVVVVVVVVVVVVVVV\" type=\"audio/mpeg\"/>\n",
       "                        Your browser does not support the audio element.\n",
       "                    </audio>\n",
       "                  "
      ],
      "text/plain": [
       "<pydub.audio_segment.AudioSegment at 0x24eab2489b0>"
      ]
     },
     "metadata": {},
     "output_type": "display_data"
    },
    {
     "name": "stdout",
     "output_type": "stream",
     "text": [
      "리 8.18 8.52\n",
      "Channels: 1\n",
      "Sample rate: 16000\n",
      "Duration:  0.34\n",
      "Bit depth: 2 bits\n",
      "len samples: 5440\n"
     ]
    },
    {
     "data": {
      "text/html": [
       "\n",
       "                    <audio controls>\n",
       "                        <source src=\"data:audio/mpeg;base64,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\" type=\"audio/mpeg\"/>\n",
       "                        Your browser does not support the audio element.\n",
       "                    </audio>\n",
       "                  "
      ],
      "text/plain": [
       "<pydub.audio_segment.AudioSegment at 0x24eab24bef0>"
      ]
     },
     "metadata": {},
     "output_type": "display_data"
    },
    {
     "name": "stdout",
     "output_type": "stream",
     "text": [
      "가 8.64 8.94\n",
      "Channels: 1\n",
      "Sample rate: 16000\n",
      "Duration:  0.3\n",
      "Bit depth: 2 bits\n",
      "len samples: 4800\n"
     ]
    },
    {
     "data": {
      "text/html": [
       "\n",
       "                    <audio controls>\n",
       "                        <source src=\"data:audio/mpeg;base64,SUQzBAAAAAAAI1RTU0UAAAAPAAADTGF2ZjYwLjE2LjEwMAAAAAAAAAAAAAAA//NYwAAAAAAAAAAAAEluZm8AAAAPAAAACwAABVgANTU1NTU1NTU1SkpKSkpKSkpKXl5eXl5eXl5ecnJycnJycnJyhoaGhoaGhoaGmpqampqampqar6+vr6+vr6+vw8PDw8PDw8PD19fX19fX19fX6+vr6+vr6+vr////////////AAAAAExhdmM2MC4zMQAAAAAAAAAAAAAAACQDwAAAAAAAAAVY+LxTWwAAAAAAAAAAAAAA//M4xAAVUgaAC0JAAAm/kIc9CVOBgAATzgYNAaA0FBQGgNBQUFz3yBQGgNAaALgvBuLnvwju7u7u4oKCiIicoiIKGIn//+7v//p//u97u//8J7ihiBjB//4gAYP/y4P/y4fV3jfpnu29pKN5//M4xAkXIWq8AY94APWDc0j3Hys94KuglkSSkycLC1hDyIPJtFgScm3ONtPlzgLtaBnjXyYec/OvWBEebgTVL/Butxd3zH/+aufpvtZ8O9tZ/1WoWf80Qdl3hYmD9P/QpUx4OAAohYNv/zms//M4xAsYCgK+T8+IAFJIT9vg/WakBfmk3PV//AtMEyNnqMhPZqzzREogQobcRI2ZFjEoigEnqrRGdG+fqWpZiRD7IkNTXU7zhff92/S/1f1+vSOJJOu5ZP+7hoYL/8Vdjg8qYWs6ZN1tyhJ///M4xAkXYkLeVotK1qhO4nhMyXQcIOHBgKELtIsMzqEWWrSrZRFN9TVFYIBN/iDEDvWVhICgZI1sofigY/cABSycw///V+jaHr6qQ1KUC3Wa6nt8RPY+39ZoABxHcY6OOuoASHSWRDtssu4///M4xAoXST7/HlPYXp4EAZ7FrFL8+YzADxs43w3ikJfP/9kinNaxFx3gXyEXvT/UFgDx9SbYcC4fNpn206M/+dz6E4WeFhVxvs1lusPivXmzafi7udra7UbUQUfmkL/01UDYsmQ1Sbgb+J0A//M4xAsXQf7SVmvUlmozU3z1JoPoQFiUv+BkUhb3nGaFh1i964uzlZ/jbXCc3occBws1uKg78gHwNN78rp0Q4380k/pbalTuhUBiEcY1DJycRDbHQ6gCIC6ksVd9eqoD2BYAIkYH+ozAlIcD//M4xA0XohK11GvOnFnV4AgI42ejL/INI+lQqrRcQUwJMlKaxVjlOwAGpaV3bOYbAUmvjeocRHpTV6W/XRxv3OQFwB7odopr1rsRaqbTfvfb0RvZZhVv2GeEjf1sURURWvSspuNygduoQAFt//M4xA0XOrriXmiHryEikhuDWCuK9wFoooEKo6YGYAUx4upbozcJEftZljsKLdaCweyxCvcwGx+g6h3hZGyktkABX91/m/p/nbtIgCR7//fprbr+k6T4IVrNTlv2AGeVpnVLthfwP1mYcQi3//M4xA8UYUcbH01YApktdY8AQkYo8y/oCEMVl377kEEQdVN+dEp+n3fBgYn5+WtNQT77n3Fcf9UqIIsYfiJ2sE//0dp/+HHlygaKfNDRonpBCiAAIUSSAP2O1vwob2Dj+OrrsP43zMP2RLpr//M4xBwbSoK5dY+IAcgxcC+BGmJqQIx8yA/gYS2JSHJDLpiXS78nmG4RMvlVEul1aKvy4iJiYumXLGX/0Ei+ZrNDBnS+kl/6SBgUDqNaCDGNW+r//ytPMDxyCoeZbtVMQU1FMy4xMDBVVVVV//M4xA0AAANIAcAAAFVVVVVVVVVVVVVVVVVVVVVVVVVVVVVVVVVVVVVVVVVVVVVVVVVVVVVVVVVVVVVVVVVVVVVVVVVVVVVVVVVVVVVVVVVVVVVVVVVVVVVVVVVVVVVVVVVVVVVVVVVVVVVV\" type=\"audio/mpeg\"/>\n",
       "                        Your browser does not support the audio element.\n",
       "                    </audio>\n",
       "                  "
      ],
      "text/plain": [
       "<pydub.audio_segment.AudioSegment at 0x24e9d279280>"
      ]
     },
     "metadata": {},
     "output_type": "display_data"
    },
    {
     "name": "stdout",
     "output_type": "stream",
     "text": [
      "한 9.0 9.36\n",
      "Channels: 1\n",
      "Sample rate: 16000\n",
      "Duration:  0.36\n",
      "Bit depth: 2 bits\n",
      "len samples: 5760\n"
     ]
    },
    {
     "data": {
      "text/html": [
       "\n",
       "                    <audio controls>\n",
       "                        <source src=\"data:audio/mpeg;base64,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\" type=\"audio/mpeg\"/>\n",
       "                        Your browser does not support the audio element.\n",
       "                    </audio>\n",
       "                  "
      ],
      "text/plain": [
       "<pydub.audio_segment.AudioSegment at 0x24eab249610>"
      ]
     },
     "metadata": {},
     "output_type": "display_data"
    },
    {
     "name": "stdout",
     "output_type": "stream",
     "text": [
      "집 9.5 9.58\n",
      "Channels: 1\n",
      "Sample rate: 16000\n",
      "Duration:  0.08\n",
      "Bit depth: 2 bits\n",
      "len samples: 1280\n"
     ]
    },
    {
     "data": {
      "text/html": [
       "\n",
       "                    <audio controls>\n",
       "                        <source src=\"data:audio/mpeg;base64,SUQzBAAAAAAAI1RTU0UAAAAPAAADTGF2ZjYwLjE2LjEwMAAAAAAAAAAAAAAA//NYwAAAAAAAAAAAAEluZm8AAAAPAAAABQAAAtAAZmZmZmZmZmZmZmZmZmZmZmZmZoyMjIyMjIyMjIyMjIyMjIyMjIyMs7Ozs7Ozs7Ozs7Ozs7Ozs7Ozs7PZ2dnZ2dnZ2dnZ2dnZ2dnZ2dnZ2f//////////////////////////AAAAAExhdmM2MC4zMQAAAAAAAAAAAAAAACQEAAAAAAAAAALQniSEyAAAAAAAAAAAAAAA//M4xAASitqAAUY4AP/2juTAAAIR7u7iIggQQjpoYODQgyGaGTxHAYAwSCE8888wwwwwwxv/+YYYYeeeef///nu0wwz////U8892Qz/////PGhAEPifKKrLXKzbLXWLTYqxECCAN53nwZVz2//M4xBQZ0lrWX49AAMwiJenHAMOOlq7m9aFB3FSH2ZjoQQQWqsDU8U6+7+aX7THf37OndtJG7L9V4yb5r+q+K5up+JFPn7juvX79ubiuIe/g+U9e56kXr5EKpkyv/q/6KnvfMusEgPgvsCZf//M4xAsV6wbQAY1QAF1yrV+X4izXqLB71EUz1brfkEv3bKEmmcW+VP4USWPCzyMti8C98Y8eAUOWfMItBLxdyIa8qXi5sqKUxeXfbme/35To3yz5R/f/2/9F2G4lH43Fw3F4mEwgFAVakgzf//M4xBIZEfcSX49oArII4fye/FimzJ+FgOMK8nFIkeMpBmMTxkl4lpcNmM3RX/Lx1zcYVDRX/qRJ5LNXSMTFn/1H0zhwcKCCFFFjJJZxX/Tas4I0mU5EJr/iaW2//+SVTEFNRTMuMTAwVVVV//M4xAwAAANIAcAAAFVVVVVVVVVVVVVVVVVVVVVVVVVVVVVVVVVVVVVVVVVVVVVVVVVVVVVVVVVVVVVVVVVVVVVVVVVVVVVVVVVVVVVVVVVVVVVVVVVVVVVVVVVVVVVVVVVVVVVVVVVVVVVV\" type=\"audio/mpeg\"/>\n",
       "                        Your browser does not support the audio element.\n",
       "                    </audio>\n",
       "                  "
      ],
      "text/plain": [
       "<pydub.audio_segment.AudioSegment at 0x24eab23b290>"
      ]
     },
     "metadata": {},
     "output_type": "display_data"
    },
    {
     "name": "stdout",
     "output_type": "stream",
     "text": [
      "에 9.74 9.82\n",
      "Channels: 1\n",
      "Sample rate: 16000\n",
      "Duration:  0.08\n",
      "Bit depth: 2 bits\n",
      "len samples: 1280\n"
     ]
    },
    {
     "data": {
      "text/html": [
       "\n",
       "                    <audio controls>\n",
       "                        <source src=\"data:audio/mpeg;base64,SUQzBAAAAAAAI1RTU0UAAAAPAAADTGF2ZjYwLjE2LjEwMAAAAAAAAAAAAAAA//NYwAAAAAAAAAAAAEluZm8AAAAPAAAABQAAAtAAZmZmZmZmZmZmZmZmZmZmZmZmZoyMjIyMjIyMjIyMjIyMjIyMjIyMs7Ozs7Ozs7Ozs7Ozs7Ozs7Ozs7PZ2dnZ2dnZ2dnZ2dnZ2dnZ2dnZ2f//////////////////////////AAAAAExhdmM2MC4zMQAAAAAAAAAAAAAAACQEAAAAAAAAAALQgSmfVAAAAAAAAAAAAAAA//M4xAAT6bqEBUYYAAc///9kwAAAAQIECCDkCCEe72AMW///8QAAABP//NERERER3f/3RC9+IBgYt3d3dERERER3d3d3cQg0Hz5R3rB8PlwfB8P/+7wQDGCDv+D626zeV2HYQA1iMgu0Fnya//M4xA8YuxbIAY2QACHhyGCWDjdlhtRPOQ4hWlM+nx2nEUHC1tdYx79blZ0VEQUXMsGNdBD1DljzryAnkpH/LXN+ma7l7Wk+r1f3Zajnpu5/WV+g///98wLjf6Osro1rP/bVXUHtw5kY+cCG//M4xAsXIxbQAY2AAKA7qwtuKPjVFGzUgjOKwNReQULiHsdQj1Csa5dywW5tlg/LWWD/Jp8WvKu4vc3rlQtc9zhf1N0x61e3On+/5Zf/yy/X/Uh0H9fUe6XsuvbmOSWAbA0GGOXA0TC4PDAH//M4xA0Ymp7iP4dQAI55YMDyYPic3U4FlWO4iTiQK00iIvBMkONEp20+KBXMAmE4kInN0/qdsILXRP4KzC5ATs93ITWOzV/5I8ekxckKnK5/mr6r/+Y+VPMsPnUYxcBav8LqTEFNRTMuMTAw//M4xAkAAANIAcAAAKqqqqqqqqqqqqqqqqqqqqqqqqqqqqqqqqqqqqqqqqqqqqqqqqqqqqqqqqqqqqqqqqqqqqqqqqqqqqqqqqqqqqqqqqqqqqqqqqqqqqqqqqqqqqqqqqqqqqqqqqqqqqqq\" type=\"audio/mpeg\"/>\n",
       "                        Your browser does not support the audio element.\n",
       "                    </audio>\n",
       "                  "
      ],
      "text/plain": [
       "<pydub.audio_segment.AudioSegment at 0x24eab249280>"
      ]
     },
     "metadata": {},
     "output_type": "display_data"
    },
    {
     "name": "stdout",
     "output_type": "stream",
     "text": [
      "있 9.82 10.14\n",
      "Channels: 1\n",
      "Sample rate: 16000\n",
      "Duration:  0.32\n",
      "Bit depth: 2 bits\n",
      "len samples: 5120\n"
     ]
    },
    {
     "data": {
      "text/html": [
       "\n",
       "                    <audio controls>\n",
       "                        <source src=\"data:audio/mpeg;base64,SUQzBAAAAAAAI1RTU0UAAAAPAAADTGF2ZjYwLjE2LjEwMAAAAAAAAAAAAAAA//NYwAAAAAAAAAAAAEluZm8AAAAPAAAACwAABVgANTU1NTU1NTU1SkpKSkpKSkpKXl5eXl5eXl5ecnJycnJycnJyhoaGhoaGhoaGmpqampqampqar6+vr6+vr6+vw8PDw8PDw8PD19fX19fX19fX6+vr6+vr6+vr////////////AAAAAExhdmM2MC4zMQAAAAAAAAAAAAAAACQCgAAAAAAAAAVYDptFmgAAAAAAAAAAAAAA//M4xAASMOa4x0NIAIIACBERERER3dz4hH/u4GBigUIIe5roxQKAQDAoQZc4Qz/wggRo0YPg+D4IAh8QHPBwMCcHwfBAEP/+kEDmAw//+o5xOf/xOH37f/3ZIoEDTS7/YEAVrv78Fr9fGFKf//M4xBYaCfryXY9oABiaIPsxGKFJh0qE2HiiiPxLvH4tzMcqNR8efMRu5wcTpLHREo8sje9RG0i/xj5Me4mtQ+tmpKuxiSj5ML6VRBT0iFqN3zvmmzut7p7pq77PZRWqQJYbwQT1bIHCX0Wr//M4xAwYKnrS/81oAB3kEXQskgnQyxk7I6QmwQImQynXX5iPUBoBzjZf9ReBCw5peMtalO9IFvDmmK/vplwFUSSa/9EOJI2q/nR7JKRf/HJ/+bo/71E9v/nH/JfWe+g7rIVIlhnCP62FJ0L5//M4xAoXeq7e/lNEuIafUwQITyS6enWmcDeJc3dXTdMdgEEFmFUM2X1pFwxGHA8UU0W9kzAuCYt/w5wQ6v9aIIHujtJ6t/6GL/QmrfRt0EDer6uhBX/U7iSkQHMlo1JrHhrFsUpLG0nBIELq//M4xAsXWUr+XgBSApAaHb8obiawCrhc4TbP//+mCQNLE0av9cjFYwRikU5X/64rGhCSIY5uesvNuOX/1wtOg04JvMgqk9E5kJLbf/6CcJEhEPb96xQ0IkBOWa+3MkEVRQA4BJukAwEIryn9//M4xAwXiUbK3BvGWCAuJNEvt7F1/1IE5HZWyFjH/yxn8osbeNql9EtrLGhGHBATr5/cmFNJ8gJQwDOahIDWKSwd+VraAWMbiwiDp0wDgFBVLRZU8eoGFTN7HytWo1QqkJkEcdtcnwBymS1///M4xAwXST7eXCvWWioNsylFfF//z0Lqumg0BCYVP+iy7R/h6oga0+gMY9lWoygSyAXqLW56WNUTnPNVvPUFAx4qeqER4BvGBAMnTIYKALpboUD4XPcI/7Fhbd2WSVVwi0RxORIlQApyqu/B//M4xA0Ted7eXivKWukYTRod5x/8FAWIuSpQsHvr/4RMWJG2+0WBMB2/QTOBW0bcggAunO/6Wf/9CH/0dv8T+g94zwR9KeJwL5/y7Os+uTuesluqKeCi+bQoHx4YcR4FgRke8kTN5ANcvZN2//M4xB4VSQr2X09oApUZBCRRTTMwslKVpjn0CO/QrmpdNEK1vembKIIEwUTFBOLztQNwJ/7vR63WZL1+sMeJPW+JrgzVG4m+wBa0uHSXBOk4Dcgc8TsZzKOE4JaI+OEyBNERag/4sBbKKZZd//M4xCcdkorEy5GQABK5TNicK5dPmGcUdbcuWW2tK32TQSQT/V9rJoOgmiadb1LWp9KtbqSZ11JNpqkqyVB2ykyzEqH6j6OkuxmlUjU2docZTiRxCx5WibZ///pVCFVesVJEiRaQhUEWlRSS//M4xA8VMIqY1ckYAOLIkSKkSJFsUKFC1XZhQ+sFXHoNA0eU8SgrqBoOqPCUFXElA0exKdywdK1gq7ER5eSzpYKgrBWIjxb/4NRFKnVug1DsSnVMQU1FMy4xMDBVVVVVVVVVVVVVVVVVVVVV\" type=\"audio/mpeg\"/>\n",
       "                        Your browser does not support the audio element.\n",
       "                    </audio>\n",
       "                  "
      ],
      "text/plain": [
       "<pydub.audio_segment.AudioSegment at 0x24eab23af90>"
      ]
     },
     "metadata": {},
     "output_type": "display_data"
    },
    {
     "name": "stdout",
     "output_type": "stream",
     "text": [
      "어 10.42 10.5\n",
      "Channels: 1\n",
      "Sample rate: 16000\n",
      "Duration:  0.08\n",
      "Bit depth: 2 bits\n",
      "len samples: 1280\n"
     ]
    },
    {
     "data": {
      "text/html": [
       "\n",
       "                    <audio controls>\n",
       "                        <source src=\"data:audio/mpeg;base64,SUQzBAAAAAAAI1RTU0UAAAAPAAADTGF2ZjYwLjE2LjEwMAAAAAAAAAAAAAAA//NYwAAAAAAAAAAAAEluZm8AAAAPAAAABQAAAtAAZmZmZmZmZmZmZmZmZmZmZmZmZoyMjIyMjIyMjIyMjIyMjIyMjIyMs7Ozs7Ozs7Ozs7Ozs7Ozs7Ozs7PZ2dnZ2dnZ2dnZ2dnZ2dnZ2dnZ2f//////////////////////////AAAAAExhdmM2MC4zMQAAAAAAAAAAAAAAACQEAAAAAAAAAALQuic00gAAAAAAAAAAAAAA//M4xAAToAaRhUAYAAgDgAhQISagQBBYOAgYwQBDLg+D4Pg+CAIAh+CAIfwQdE4OAgCAIHPKAg78oCAIAgGAOD4Pg+/BAEAfB8Hz8QAhE4Y1AmD5/BAEDkuD4fXf394iIZsJldise6eoZ2Ix//M4xBAXslK8AY+IADNMEYPmQZkvChFLUmT8wJ8QQYfB9qa1zAk6ljUIWYPp2N6RXdZbUxLqKd7I61W2Ht19u6/v93rf71qdkaVS+m9KvfWfpvpEJgjbpfIv/6Wfz+nSZHHyRyRI7NOuOmBA//M4xBAYSfLAAY+QAKoU4VFEfhvONQN5RF4MgJimFtBGo2VBBRieEsLcyYixWkPiRjsRI02mZekeVI1x4kNIRMqkRUM4T1flWhrm9X////+s/TvREiLlKcn/6PuS1So7z2gxfx4hGVNC/UYJ//M4xA0XuoaoAY+gASvT8QVIkCQhJEdXDeRAcDBrhrEONzVLyJhYiHIkWDGhs8ukd8RqMuCYAwUIJFI+ykjH8Zo8Zrc4kj//ZNbskz///3RcwIMkYmmtf///9qjZNftMQU1FMy4xMDBVVVVV//M4xA0AAANIAcAAAFVVVVVVVVVVVVVVVVVVVVVVVVVVVVVVVVVVVVVVVVVVVVVVVVVVVVVVVVVVVVVVVVVVVVVVVVVVVVVVVVVVVVVVVVVVVVVVVVVVVVVVVVVVVVVVVVVVVVVVVVVVVVVV\" type=\"audio/mpeg\"/>\n",
       "                        Your browser does not support the audio element.\n",
       "                    </audio>\n",
       "                  "
      ],
      "text/plain": [
       "<pydub.audio_segment.AudioSegment at 0x24eab249400>"
      ]
     },
     "metadata": {},
     "output_type": "display_data"
    },
    {
     "name": "stdout",
     "output_type": "stream",
     "text": [
      "아 10.5 10.94\n",
      "Channels: 1\n",
      "Sample rate: 16000\n",
      "Duration:  0.44\n",
      "Bit depth: 2 bits\n",
      "len samples: 7040\n"
     ]
    },
    {
     "data": {
      "text/html": [
       "\n",
       "                    <audio controls>\n",
       "                        <source src=\"data:audio/mpeg;base64,SUQzBAAAAAAAI1RTU0UAAAAPAAADTGF2ZjYwLjE2LjEwMAAAAAAAAAAAAAAA//NYwAAAAAAAAAAAAEluZm8AAAAPAAAADwAABwgAKCgoKCgoODg4ODg4OEdHR0dHR1dXV1dXV1dmZmZmZmZmdXV1dXV1hYWFhYWFhZSUlJSUlJSjo6Ojo6Ozs7Ozs7OzwsLCwsLCwtHR0dHR0eHh4eHh4eHw8PDw8PDw////////AAAAAExhdmM2MC4zMQAAAAAAAAAAAAAAACQEAAAAAAAAAAcIe22uwwAAAAAAAAAAAAAA//M4xAAQ0QqsH0NgAABIXOEREROhwAASuBi367u7uaL169eZmZ/YkATA+JZ+/e7a8wMFlJ280bX3ve9/xe/dQIHP+CHAfnP93//4gOO//wQVZWHPn6GipbBtHwRMU7OZ3PgipiISJmgiRLpj//M4xBsbola8AY+IAKiuTQTAVwwzAegVQq2BDxcRJlUQaToyhuHUOqHU4dYb6Q6yuZDUG+bEPG1D0yccumRTFmjYUUDBJWua+1OvV////q2qW39Tza7/Xlppzo/t/NvchZVK84klLZJhjfz8//M4xAsXyhryX89oAn6cHCw1/3i6XFyjRj8t9rg5xzEtdjFEkwlTJXU40G6X5Wa/Yd5EISLegfa/W7eulPU3umgv/v+ns/UtvzMmGyRF4MhV2ac3JYIAoHS0s7R9NQQsD6oYLCgMDItgMo5x//M4xAoXir7CflNKuOZQA4Nr2bBIDPJUuAomzIUx3pUrnQFsXjSzmpmfAbJuo+q64ru+jgf0UGb3qdpUgrTJtdDJ8x7dF7fV7f/cLb93f+38jv+dj0K5xqBIOU0adMMhlFVAfCAYSR0RCoNP//M4xAoW0i6+fmmFgNYPYMQ5BPlvnBgxli2HYOuo6HEJiednNEwBJLTNHe4SJJm8ZxvL627gjonZ5SaPNRylu+tQ6+tr0erp+r+/1/bm1anK3dwb+S5b6K3f/waNiNVNqLdovKdAHn/DBSgU//M4xA0XCSbKNhPWJibxTdIPwDHbviyoaSy6vUJQGg3N37GGoeSSPhoszlEfRGSrjglDqbL//ly/U/wxIsYCoaOrPSThR/tctHcxRkNpGNU9MLPYk48sESOV6ceqlr1rahV2t3BtqemmDrAR//M4xA8Wag7mXmrEXq7l3QjAQnZR/h5Sd/9NM1Ze6zSHJInf1L6NUj+crhh6tsUzzvaVDlVOzlGmc5Ua6S9EN/MGUFD2rtPVupTLGQyLBVMXMVIXvJ3wFSpdIE0Rb7aBf/NjaASCgbUVS7kB//M4xBQUGTqyXlvRAJSjCu/MC9Fb9t1QU13ryuzkE6X/BtJF9WUFJVr9KH9okjDEN7xOF+9dwvdtsiAwJ2LgoiyyxHii2oa4xcoh/WyEEXaX8P7MiEkhS3ZWo65aaHrgQzA6z90AoXumI5Ce//M4xCIT8rq2XgrEPKwYShqVYwU38zlRQFOyUZDFy0YTO2nqv/0/6KQ1fdvpX1f/6lRwSlGO5dFkx6ICSSutwy2SAf/uQH4ZFhyIrg+16sM3kULazIuHEAR48kbJsznB1JVB7NIh1TmjvnWN//M4xDEVYX7GX0toAn+t1O9ToJukgyklLd1VLOPYwP3gRydGROVHzsVeU1/yC0KCAnoENqxyVSxjRaDZ5jQAA8yLXhJQYRDN97Pf7ix5Exrqe1/LER+0iL3qxRx4zxyco0KSZUR6P8MBT/DI//M4xDojowK6X4N4AfjzasbmXce7zLPGg5+aRsPoGs1c8Yj0pv4tumfvO/i1L2y/3SlMUxt/X3o/pX4+r4+9++Z/97xTVHlNvIl/8/5+b3x9f//OcRI/vvN9//O7afzqrboAe/z/7ayPO1TS//M4xAoXapc2X4c4AsSrAA/QdrU+8Ai6Mw8fhSjEHQVgLL4pYblUnkAwDsbjJyRwkMEh4UjyKx6oL3joykbmM7NT6HDrefq7GM39zP/NdTTla/97f+n3JGoUKnEglyI0zSzN61wG4IEKczGt//M4xAsXko7EAYqgAI1MUwTXKIqWgRJo/gaAMOw6aB7QGdElpNEXQKJBY0TpPBtUzRFgjiZJRPGhEWPJlM9SDBy0tbDWNPl5Hp9b9Hr9b/0tSWpRWb9Wsxb6vX0z7NNqlUBqJQaLgEJhePxO//M4xAsX4oLOX4pQATcAA43ycLtVwGURfAemkXBBIRbDwiJiFfAWHUKoyJN+BWGQzYZkhCYcim/lxqRD0nMdUOOVv8cJyUnQfEhGan//1ZDpqm1LN6fRP/3OIxxZM9QsuTVMQU1FMy4xMDBV//M4xAoAAANIAcAAAFVVVVVVVVVVVVVVVVVVVVVVVVVVVVVVVVVVVVVVVVVVVVVVVVVVVVVVVVVVVVVVVVVVVVVVVVVVVVVVVVVVVVVVVVVVVVVVVVVVVVVVVVVVVVVVVVVVVVVVVVVVVVVV\" type=\"audio/mpeg\"/>\n",
       "                        Your browser does not support the audio element.\n",
       "                    </audio>\n",
       "                  "
      ],
      "text/plain": [
       "<pydub.audio_segment.AudioSegment at 0x24eab249610>"
      ]
     },
     "metadata": {},
     "output_type": "display_data"
    },
    {
     "name": "stdout",
     "output_type": "stream",
     "text": [
      "빠 11.08 11.2\n",
      "Channels: 1\n",
      "Sample rate: 16000\n",
      "Duration:  0.12\n",
      "Bit depth: 2 bits\n",
      "len samples: 1920\n"
     ]
    },
    {
     "data": {
      "text/html": [
       "\n",
       "                    <audio controls>\n",
       "                        <source src=\"data:audio/mpeg;base64,SUQzBAAAAAAAI1RTU0UAAAAPAAADTGF2ZjYwLjE2LjEwMAAAAAAAAAAAAAAA//NYwAAAAAAAAAAAAEluZm8AAAAPAAAABgAAAzwAWVlZWVlZWVlZWVlZWVlZWXp6enp6enp6enp6enp6enp6m5ubm5ubm5ubm5ubm5ubm729vb29vb29vb29vb29vb293t7e3t7e3t7e3t7e3t7e3t7/////////////////////AAAAAExhdmM2MC4zMQAAAAAAAAAAAAAAACQDwAAAAAAAAAM8T2JH7QAAAAAAAAAAAAAA//M4xAAQaK6mN0EwAElNZAA+BQDGMYxvAoAAAAExj8r///uyBAEAAAIIBhYPg+fBMHwfPqB8H8uD5/+IP/3dMMSbuXB8Hwf//nPgg7wfepBJJHJGw0I225JI5GAN49f7Zox4rqrPAJgonSNg//M4xB0cYgb+X49oAr2S5LmRLEvWYk4cA8DclDYxNER/RXLSkm+TR592SQNlF41NzRNw2gvszGkbpgv6SDcvUUDdrN/fb7ImumlpqdbXMGM2QKBjt7hU+jUrxOFgQFfWPopop0nw4JnyqgP+//M4xAoXus7i/8toAGOGt5ScEh9BNWS3Od/J8Sg2fmRsXqh7Ceg3wR4LkbaLepgk58umqP9AcAWJuij/rJA8kkl/YnjKNVKb/QR/+Zkmgl/6aSST////o+6m6i4XS8DLupdi1elgFKWtQK+u//M4xAoXmsLqX01oAqeOxALymFmQiUVTfx/BdMGOMn9AwCcl9f/WZA/G63/dNMOeaH/9aYk4bqFr+84IKYovrfppk8ZLe1qi4OwFpHmj3d+tYos2ml+z//QPf/lTPr9iw8psRhkQiEMBkMiI//M4xAoXcpL+X4iIAkAgDAmYb7difABGKvk+X01JJcOBKBoNPR+AXicJ8mxX0WrR+GlJuiLgdaOpL90xujRen1Jf8hztZHZFtX/8nmTdRogyZ+h///+gYJ0zAossnb//okxBTUUzLjEwMKqq//M4xAsAAANIAcAAAKqqqqqqqqqqqqqqqqqqqqqqqqqqqqqqqqqqqqqqqqqqqqqqqqqqqqqqqqqqqqqqqqqqqqqqqqqqqqqqqqqqqqqqqqqqqqqqqqqqqqqqqqqqqqqqqqqqqqqqqqqqqqqq\" type=\"audio/mpeg\"/>\n",
       "                        Your browser does not support the audio element.\n",
       "                    </audio>\n",
       "                  "
      ],
      "text/plain": [
       "<pydub.audio_segment.AudioSegment at 0x24eab249400>"
      ]
     },
     "metadata": {},
     "output_type": "display_data"
    },
    {
     "name": "stdout",
     "output_type": "stream",
     "text": [
      "곰 11.34 11.6\n",
      "Channels: 1\n",
      "Sample rate: 16000\n",
      "Duration:  0.26\n",
      "Bit depth: 2 bits\n",
      "len samples: 4160\n"
     ]
    },
    {
     "data": {
      "text/html": [
       "\n",
       "                    <audio controls>\n",
       "                        <source src=\"data:audio/mpeg;base64,SUQzBAAAAAAAI1RTU0UAAAAPAAADTGF2ZjYwLjE2LjEwMAAAAAAAAAAAAAAA//NYwAAAAAAAAAAAAEluZm8AAAAPAAAACgAABOwAOjo6Ojo6Ojo6UFBQUFBQUFBQUGZmZmZmZmZmZmZ8fHx8fHx8fHx8kpKSkpKSkpKSkqioqKioqKioqKi+vr6+vr6+vr6+1NTU1NTU1NTU1Orq6urq6urq6ur/////////////AAAAAExhdmM2MC4zMQAAAAAAAAAAAAAAACQEAAAAAAAAAATsnIiQAAAAAAAAAAAAAAAA//M4xAAUORaErUZgAEAgR/+9/xZMmTAZMmnf/iIiDF69evXv/lGyWDcCYExHP/pds7MzM/fw4Esnn7/zO3pSixYsBAEwfB/ggCDvlAx5c/9P+XD/8uD4Pn4n/8QHEufzf7qROLjq4cACpfaX//M4xA4YaTawAZjIAPZPdhN36RqpfZtXgAZMhhymgBmNlKh5W49KhUHRJNDjkyKSMBQBr9poLLgmMohvIqWXdxy7epNd1T8ffW61Xv9+/8oTsHu///vIctTb70q/ed+otbW9jTFZdrKA0/X9//M4xAsXQsr2X89oArG9twfRqklOrvn0b+ySAT3G2DsfpCwAnTVlmRsP5SOGQMQ5UknNnWo4RAeC8bP/L492Qf1zvNTzWZzE/9rdm/o/9a1f9H/mCC////9OpFMd5oskACkUEFPaR8RP/jOM//M4xA0YOrrC/nxE7HoSoakZU7ZZHv9AlwVx96X0sbah8gM4UU42YmwuYnWDpyIIFb1KLg9N/igoL9VO9qNo0VM12/SSyUH5atsvv9//AmM3kRGKyL5V21V0IFDLv/CWLJWr3xDJdq5hf//V//M4xAsX0rruXnqK7qBWoQtUp44nKDG1/xF3Z/N6VE5+CQJDpiGj8CoSyoh/3MPHwNf+ohE1/UIPoyBx2CAacpUVRgKw1kKp1ZZF885JF9k5Snf1xAeK/6t/1/6C0z/9GiogsiVbJMHugtFi//M4xAoXKrq9lpPLCsgg0O2OYRVRuz6hAQTJCybVFkdQHImAodPGfBOhxHYe4GZ/lxi/Oc1YxVb//hlBM/lK/EHFcwSHWVc1vojUO5pupG///9P+4ob/l/0MPb/8S1i9cPcxJONOh92DKHM+//M4xAwXYmbFnhPOXgbA1jhOrNq7+blyJI/+6f/toYwuMm1M1oaWHT5vLzv/vo4VAsv+oZJTn979yrahCc+tjjJ/T6/zERU6s3/1ZKfnKYPPviZ6xO4SsAz9n8BISPWQMSG5P7sEOpA0KBgU//M4xA0VQWK5n1NoAMDP4G8BBDRk3TyiO8hEO3MAiVm/Nh2kgUxgD5HRd0nzAdhQf+cJ6LN90Eknuif3NS1J2FXX4HQl3XqE3mfU/oiy3IMCdZH/6AACEk45YY4ARcVxHirAE6dKOBbAuckR//M4xBcaSZqxdZNYAMrARBJUSea/kcEAOmqLL/9IB0O44vtmL/86bmh4490tmHf/rH2Hjj6dLZh0f/59i5yVnwuVaFCrfOANJwBpLMCZZgT/OANJwBpOOChWFCrQp/WqTEFNRTMuMTAwqqqq//M4xAwAAANIAcAAAKqqqqqqqqqqqqqqqqqqqqqqqqqqqqqqqqqqqqqqqqqqqqqqqqqqqqqqqqqqqqqqqqqqqqqqqqqqqqqqqqqqqqqqqqqqqqqqqqqqqqqqqqqqqqqqqqqqqqqqqqqqqqqq\" type=\"audio/mpeg\"/>\n",
       "                        Your browser does not support the audio element.\n",
       "                    </audio>\n",
       "                  "
      ],
      "text/plain": [
       "<pydub.audio_segment.AudioSegment at 0x24eab249610>"
      ]
     },
     "metadata": {},
     "output_type": "display_data"
    },
    {
     "name": "stdout",
     "output_type": "stream",
     "text": [
      "엄 11.8 12.02\n",
      "Channels: 1\n",
      "Sample rate: 16000\n",
      "Duration:  0.22\n",
      "Bit depth: 2 bits\n",
      "len samples: 3520\n"
     ]
    },
    {
     "data": {
      "text/html": [
       "\n",
       "                    <audio controls>\n",
       "                        <source src=\"data:audio/mpeg;base64,SUQzBAAAAAAAI1RTU0UAAAAPAAADTGF2ZjYwLjE2LjEwMAAAAAAAAAAAAAAA//NYwAAAAAAAAAAAAEluZm8AAAAPAAAACQAABIAAQEBAQEBAQEBAQEBYWFhYWFhYWFhYWHBwcHBwcHBwcHBwiIiIiIiIiIiIiIigoKCgoKCgoKCgoLi4uLi4uLi4uLi40NDQ0NDQ0NDQ0NDo6Ojo6Ojo6Ojo6P//////////////AAAAAExhdmM2MC4zMQAAAAAAAAAAAAAAACQEQAAAAAAAAASAKT4x2AAAAAAAAAAAAAAA//M4xAAUaPbKJ0FIApEUsAAFAAAAAGMGYxjcbnzHCH/9QguRisEwTFaPf/6hCHmgQIECBAgBAHwfB8HwcBB1APg///4Pg+f+GAfB+XBwEHCcH3eD4f6gQBD/lwfB8Pr/7bbb2StLXf//u6Xg//M4xA0YOnMqX4lQAg9mOY9o6PRIiRYTYFdUejRDhWxmNHIhJHFmjXKgGGMwvJy2ok+CsL4hIRwbBaXKOHxryJiFkOnG6FvqX7E+lEoX69H//83/bQ2nr3LVHVAX+zw7J3GTMQLkrTgEh2EE//M4xAsXusbSP8uQAp1x5i1oLQOq52G6X+IY019fqkVAWgR0RZNetXSWLaVWpoFx/UdNUUerrnCwW7/6nMaq1/U5NPXprVapT/+yJo19dtExOkiWl/+aN7OqqgSpseT/1HGhMSLlbToHO/u///M4xAsXssrSPmQLBh7DbFpCJA63Ecz/LQXnObHsZv/Od1IEDDPAI44ysb131igCijY8RiSj3FBccnybozh0l6L7jBOjf/871IRU3/3RTP/zkUOlT9aIX5aGZQOBR3/2om2ReUCcbTwRWYuf//M4xAsXIr7KPnqE7qrm+EkojrMS5Wqqng0h+zcUZcyZ9gun1FYSREB09jv43PckJp4mp4UjLT+ogr6q7bqdC2KhDt3/7mMJMb//ohHJ/tbVeR/V7UIkpgbg7/0pNroNAaIAG4CaDutBalKi//M4xA0YcnauPpvKnNSwQVBHBMvd75vEp/Z+M+s2qWQ2LX+jCeAAFRjIy7+fu0hPVc10krPeSLj66op/pEI5UsGemd9Ac6HdPtF6f9XN//+9Mj7IdG2YoQdli4dPvQ5H/6pyIS8CnKnKMb99//M4xAoXgrreP08oAmKe+oMSCWlDkOjWKU/zc90KHMlQG/DBEPuv6KApxBkWw9uAwpX20Olz6MRGsAoeIx11Y0hNSEZTnOjjTf//3btQg0SV+8rNkI521YziBRAbdX/KExhAAAAhAIB6ju8O//M4xAsYCpao842AAOPJFeE1AmPm4hUPh/SKJ4T1/gAwWnECJ4Td6vizSWKxDi2RX/8mS0bkOLZOkN//yRJ4mi2akyaGxNf//pomLOZOyKnMv///z6BiaGySbGIZBsA//8jVTEFNRTMuMTAw//M4xAkAAANIAcAAAFVVVVVVVVVVVVVVVVVVVVVVVVVVVVVVVVVVVVVVVVVVVVVVVVVVVVVVVVVVVVVVVVVVVVVVVVVVVVVVVVVVVVVVVVVVVVVVVVVVVVVVVVVVVVVVVVVVVVVVVVVVVVVV\" type=\"audio/mpeg\"/>\n",
       "                        Your browser does not support the audio element.\n",
       "                    </audio>\n",
       "                  "
      ],
      "text/plain": [
       "<pydub.audio_segment.AudioSegment at 0x24ea9769fd0>"
      ]
     },
     "metadata": {},
     "output_type": "display_data"
    },
    {
     "name": "stdout",
     "output_type": "stream",
     "text": [
      "마 12.0 12.12\n",
      "Channels: 1\n",
      "Sample rate: 16000\n",
      "Duration:  0.12\n",
      "Bit depth: 2 bits\n",
      "len samples: 1920\n"
     ]
    },
    {
     "data": {
      "text/html": [
       "\n",
       "                    <audio controls>\n",
       "                        <source src=\"data:audio/mpeg;base64,SUQzBAAAAAAAI1RTU0UAAAAPAAADTGF2ZjYwLjE2LjEwMAAAAAAAAAAAAAAA//NYwAAAAAAAAAAAAEluZm8AAAAPAAAABgAAAzwAWVlZWVlZWVlZWVlZWVlZWXp6enp6enp6enp6enp6enp6m5ubm5ubm5ubm5ubm5ubm729vb29vb29vb29vb29vb293t7e3t7e3t7e3t7e3t7e3t7/////////////////////AAAAAExhdmM2MC4zMQAAAAAAAAAAAAAAACQDwAAAAAAAAAM8QIIxIQAAAAAAAAAAAAAA//M4xAAQmEa410MYAiOLei6EREQi/gQAAAAAEDHYIA+fwTB8PqOeUDHg+D5cCAgCAIBiX8/EAPg+D4Pg4CAIAg7/g+/KAg7/8oCAY/+IAwq8oBf7ir3/fUrvTDc9QEdWgNmhrmSkkbl+NLmQ//M4xBwbyw7Ey49oAIdBRsTRsL6ZmDtHgN5SEGKLrHuBkmhudJAPYXgnIiEJRaitKRT9EoLE0Y0h3Ievo6y/zJlG+t/9/9aff/VpIt/bW9OrVyefdal6T/6/b/6W5mf0VZbD8wBTjUgE27u3//M4xAsX2u7qP8lQAhjloSsQjwCgyCP9S/9lxCj025P+IAA0Glm/ygNhL/5GC2Ydt+oE4Ri0d/yAWTn9/UjJv11QVCFjv+hVP/YgIW/6GMn/NEGIoekAtHTzTVyMfllewYoAhyrjikqMGP1p//M4xAoXirrS/UpoABGNGAN7kZyPf4CgX0lyTL6JJdC4A6Ao4+jYWsitKowJABqBcUDdO/1j+EgQQ/oEgHIBMjedRTTf0EArCE3/WZq/9MzNv/zB/+pNz3/qQX/9j36/zNVsSjUYBAEDAUDQ//M4xAoXap7qX4iAADQoAARJX6FxX8ANWV6ZmGr6zHkmZuOikZfE+vi4zI2zH4uY3SDkwZFRSSSKKP6ZKAvkMUxbUl/+a0Dqk00CKN16X/7uezhV/9V//82ZNzhaqWXskkxBTUUzLjEwMKqq//M4xAsAAANIAcAAAKqqqqqqqqqqqqqqqqqqqqqqqqqqqqqqqqqqqqqqqqqqqqqqqqqqqqqqqqqqqqqqqqqqqqqqqqqqqqqqqqqqqqqqqqqqqqqqqqqqqqqqqqqqqqqqqqqqqqqqqqqqqqqq\" type=\"audio/mpeg\"/>\n",
       "                        Your browser does not support the audio element.\n",
       "                    </audio>\n",
       "                  "
      ],
      "text/plain": [
       "<pydub.audio_segment.AudioSegment at 0x24eab249610>"
      ]
     },
     "metadata": {},
     "output_type": "display_data"
    },
    {
     "name": "stdout",
     "output_type": "stream",
     "text": [
      "곰 12.24 12.5\n",
      "Channels: 1\n",
      "Sample rate: 16000\n",
      "Duration:  0.26\n",
      "Bit depth: 2 bits\n",
      "len samples: 4160\n"
     ]
    },
    {
     "data": {
      "text/html": [
       "\n",
       "                    <audio controls>\n",
       "                        <source src=\"data:audio/mpeg;base64,SUQzBAAAAAAAI1RTU0UAAAAPAAADTGF2ZjYwLjE2LjEwMAAAAAAAAAAAAAAA//NYwAAAAAAAAAAAAEluZm8AAAAPAAAACgAABOwAOjo6Ojo6Ojo6UFBQUFBQUFBQUGZmZmZmZmZmZmZ8fHx8fHx8fHx8kpKSkpKSkpKSkqioqKioqKioqKi+vr6+vr6+vr6+1NTU1NTU1NTU1Orq6urq6urq6ur/////////////AAAAAExhdmM2MC4zMQAAAAAAAAAAAAAAACQEAAAAAAAAAATsAXOrUgAAAAAAAAAAAAAA//M4xAAReOahTUMYAPAAzYiIhe7oAAAhE90REQv0Qv9AgGBgYG7u7gAAAIVdxYAIR3WD4Pg4CDqgfD+Ud/R8HwfB8CAh/wQBB38p/EBz5QEAQDD/5vn2bcnLywklI3OH1JSSDqsXiDyIeguc//M4xBkaUWa4AZjAACSAZiBdv2KaHaZv3kd/Y6uEzj3SySxmQKgLwKX3IfZYBYsswqRXX16L5zv18Oy//ob3/Q1sv//wfKv+/+0/Zx/p6vbrVu2O9FGt/N1pzS6q6pE9iAMddcoJZmqSUpIs//M4xA4X8tbiP9BQAggOFUNtFfHaoulWuNUFgiqM/5CKoU79SMqxCDDGr8eMRGftUZA1sn8iNGItExuapQnO0Q5M63//6Eyv6saxsz6mkJuZ+v/+vOVlJRaMaUQl/jo1AEkJ35LgDqzUb621//M4xA0YIsK+nhYOXBh2n57Zt3P/qyR4vN0k9ll366CMW939bdGegiRVxgCXXL+L5gDhgCBP/HAgL/8xRon0ni1qm+hiF35iWZk6u7MeW+Z5487Z9V/+f/6/9Bo3/ws2mmyZXhDj0MgQ31IU//M4xAsW+sbaPmoFwkDWIkS4RpJausQoJCkiJ8UtjU+CQCRbUdRSrC3Eogr5ixl/3Hcr/mbj2JVFXz3/ps0raoXOFap0i3U9X6zmapvIRbL/9//f0s0MAuZm1I9AKVAJDwErJY2w+i+1YRJG//M4xA4X+sbWXmnFShAzxqaK8Q4fAoQuIK6HG/UHwRXpOPMsOhMQIgqQu9hocKQzoj3cUhcHNk+88aCSm+gsjGtTtVue7imVrjzOyT0vNg/RvRf+Xp+Rd91oBA33/zAgBwQABtRpQIfmjHgn//M4xA0YasLCXpILYqOwUqbIGiD5mNUA4DAZoXITK+4ISDx9NFAxMDMSEVFL8zdZ71N8pQVmRfTaJMA4Md0TRW/qiXR/SoqZl1P00RTTOy0En//+tPaxumuoRDPkfuaKLH1GF3QMD1ppooFY//M4xAoU0sLA11NoAgpEQTKJu6kOWSfJA0q90SoUjfpnlqTNxtdpmy2DkObmab1LZzBxgCm7t/nSxSvOIp631O//9f6Cal/W6a19SVkf////tdNMuIKVkDodDodDouFwuFwmEAhx81/Qw5De//M4xBUaofL+X49AAj+/K9kZ2X84FrqU/8jBGH+Sv/QKTbmimdf/ADCILjhHQlDmlf/zjHNPg5YaJVf/8xxx6D0moaNZ2j//94HoSPgQkVaFCrQp+fAiGjkNeEyzAmWYE/6lTEFNRTMuMTAw//M4xAkAAANIAcAAAFVVVVVVVVVVVVVVVVVVVVVVVVVVVVVVVVVVVVVVVVVVVVVVVVVVVVVVVVVVVVVVVVVVVVVVVVVVVVVVVVVVVVVVVVVVVVVVVVVVVVVVVVVVVVVVVVVVVVVVVVVVVVVV\" type=\"audio/mpeg\"/>\n",
       "                        Your browser does not support the audio element.\n",
       "                    </audio>\n",
       "                  "
      ],
      "text/plain": [
       "<pydub.audio_segment.AudioSegment at 0x24eab24a780>"
      ]
     },
     "metadata": {},
     "output_type": "display_data"
    },
    {
     "name": "stdout",
     "output_type": "stream",
     "text": [
      "애 12.72 13.04\n",
      "Channels: 1\n",
      "Sample rate: 16000\n",
      "Duration:  0.32\n",
      "Bit depth: 2 bits\n",
      "len samples: 5120\n"
     ]
    },
    {
     "data": {
      "text/html": [
       "\n",
       "                    <audio controls>\n",
       "                        <source src=\"data:audio/mpeg;base64,SUQzBAAAAAAAI1RTU0UAAAAPAAADTGF2ZjYwLjE2LjEwMAAAAAAAAAAAAAAA//NYwAAAAAAAAAAAAEluZm8AAAAPAAAACwAABVgANTU1NTU1NTU1SkpKSkpKSkpKXl5eXl5eXl5ecnJycnJycnJyhoaGhoaGhoaGmpqampqampqar6+vr6+vr6+vw8PDw8PDw8PD19fX19fX19fX6+vr6+vr6+vr////////////AAAAAExhdmM2MC4zMQAAAAAAAAAAAAAAACQCgAAAAAAAAAVYAknsRAAAAAAAAAAAAAAA//M4xAAQAKKtT0YYAMFKAqiMjxERn772iIuzyYDAYDCyYhCocDAwMDAAAAAAQDH5cTn/+XD/wfB8HHCcHwfBAEDn/oOf0+CDsoc//B/lAH5Dj4tm10+hBmm0rB4xluKjcGcSI9RYF0zA4DeZ//M4xB8b8irEy49oAALIKqIOfWO8aR6JiZFYwqJmikkouv1FB1uiyrMttr9TalVJ2QoKX5nk0yJp6uiokDYyT+ZqlD6TroLTNFPdbWQMVKsIKcAmEhdvxa8kS5N4kbVY8k5I0mgYrlfs1dfQ//M4xA4X0kLiXdhoAq0krWCyL8ssmFJAgUTLnuKg8cZhULuksjWuB0HEbIo6Q0KLpRUrUaqXOppKLpCS6qZan+YGqP1It9Rm91VzM2Wj//V//6v7G5qSEaO/CJx1ZBVWGFSQBEupBBwWrYj3//M4xA0YCs7HHnpU5KegsJPwpEMzrcUuYNURREOJBd5Xhj/6+rwAQE5tSkwlCcIH6iGNR1LzFBUjvWeJr/jckR3vIH/lHdHZmGZR//9P6Pp1O6dH/s/6/0KrtnuW3X/0Krn64JCbWuNzCmca//M4xAsW2Z7yfnoLRqf4IoG4F8MzH/GjUGwQhlLh8ZK6O/rTcJ8w///viZMTdv6zAlBAyqo6jQHEJ382iV8Ch9/hI/8pz88OB85ushzv9q9IZP9uziJQfk3Lu/xlVXB4OAbdAQgx8++fkjgq//M4xA4Ymk6+XHrK8EsAeb/XKlWMxNYBbPhfFAfZLet7ySF3/6xsLBpW65owB229sNIIRhpICGuXPuHun0oEgOPNzf0xaYxGMYJL9kf9DfqpKdY1PoUY1ig32NoDoMOQoeo4Oihl+MAmUX/x//M4xAoXOlLCXnrE8Ht5B9DbXbrGadtLQm+rq/5kbAV49j9N0YogVEHP9bBvv+2QH0netxLCCOV+7RNX7lSGavo38o7sxsMB/1//1Qx29G/zAQY/YGWiVQVUbWL+FeVfcEzkEJJ6QC8H3/z///M4xAwXcsbCfnrLKFHeLUjdZ3TtgmYK5+rEr/ZbA0hfoxyn67qbIqs6/5kFR/bXxySX/6pwqADNF9v28WbrMEwx8vP2ylA1vjQf+v+n+T72JX6Dj/p/kc7+opmf9S24SaQFG3YIVAe/fxn8//M4xA0U0abSf09oAN1NQImv4CkRj1+5Pv2tJklHmmrWSQMIWTIWUomDCjqtb9Q8HTWt86Ow4k2pMxf651v7f0D3fRM2f/KO5GyJhN9KjJQOqUaVZGZleFTLTsu3ljcktuAEbO+rEWRgfofC//M4xBga0v8S/484A6DeloXZRD4kq8LueA3HgkjQ8WznZxqsVHKfHWmQsYp6ORZy7ySSAyhAw83enVKOm1Ho1X+2/zY8X9N9ldHrtpm952NTjjtKO0z/aj7f5rzh2l9qVQ/AlUn5K5RGZjwo//M4xAsUKKahv8MYAAgLaqUZm2ZtVjQMBATHqrdCqdBpwNB0qGyoKwa6wWeJQ0WOyM7BVwiOw6VDYlBWIqg6s7ErtQNLO8Red4Ncqdug11nboNJMQU1FMy4xMDCqqqqqqqqqqqqqqqqqqqqq\" type=\"audio/mpeg\"/>\n",
       "                        Your browser does not support the audio element.\n",
       "                    </audio>\n",
       "                  "
      ],
      "text/plain": [
       "<pydub.audio_segment.AudioSegment at 0x24eab249610>"
      ]
     },
     "metadata": {},
     "output_type": "display_data"
    },
    {
     "name": "stdout",
     "output_type": "stream",
     "text": [
      "기 13.2 13.5\n",
      "Channels: 1\n",
      "Sample rate: 16000\n",
      "Duration:  0.3\n",
      "Bit depth: 2 bits\n",
      "len samples: 4800\n"
     ]
    },
    {
     "data": {
      "text/html": [
       "\n",
       "                    <audio controls>\n",
       "                        <source src=\"data:audio/mpeg;base64,SUQzBAAAAAAAI1RTU0UAAAAPAAADTGF2ZjYwLjE2LjEwMAAAAAAAAAAAAAAA//NYwAAAAAAAAAAAAEluZm8AAAAPAAAACwAABVgANTU1NTU1NTU1SkpKSkpKSkpKXl5eXl5eXl5ecnJycnJycnJyhoaGhoaGhoaGmpqampqampqar6+vr6+vr6+vw8PDw8PDw8PD19fX19fX19fX6+vr6+vr6+vr////////////AAAAAExhdmM2MC4zMQAAAAAAAAAAAAAAACQDwAAAAAAAAAVYLLWjGQAAAAAAAAAAAAAA//M4xAAUYL50CU9AAAqNXq9Dy3kHJ2tEoAzgqxMy5qNnY1eh5oGgaBoGgTguCglAEACAsFKl3dK/hEQXFwfP8QAgcBBwIAh//gc//8Rg+oEAQf/BAHwfB8HwcBAMYYW8T7bfb8/+nwB9iJK0//M4xA0YgRa9lY94AD87EuniuEUMez3T7pmljDiZiFJoTiLV4/VfhzjXs1rdo+PvvZvnDFN5f4dJM53X4ja8B7Oyx4kl92Iyjzg55vSDZnyQwIh85HKSARka1/qLlCeplI6sIhAVmWVEds1a//M4xAoWymKyW9hoALfrVoaKjEYn6td//9OhauNnX/lL3KHkk/PjQFeNRLOyesZBq30Fo9V0jZL+pf1KXW/r9a6CiTSSUkt1MY/ppJoof/1s36mS7NN2RpvasC7zlKpwmGlyyyIp0b/ivong//M4xA0XUsrKXnoFQgrxH59N0+ghwQJlha/zhWrUXH+cPiVNFMyQt52WjzWuuABClrUpIvKfUGjZ2wQyMXtM3o50c//+v8n+Qv86t6BAtt//WUSWtlHDswPTP5pCqnHOtvrIAFQh1qmIFYig//M4xA4YOsKtvpvEtInT6KmwCCh+1xL/kzBmtK3nGKq8SNGPtfHvHDbeyWpnO2wv8T21YjBALXSCYj14IbRtAr3XMDH/q386dNB289wP85U/m+u/+uiNUGPcPF3/uFgh8pg6af/kUsF9SdMB//M4xAwW0mK93mvKlKoIiFv4BZAl1VqN/U/hYyaoVFgS3hvFD//bNxIWbVKoKC5AZWsiDhg10prDxaqtId7U0p6q9P/6l/lbtlZv9vvERBwPhucMICkSuOav6UoVSAgp/jlgAMDVJsmzhigF//M4xA8YOl6qXpPEsITZnRyiDWQlhcWbP+GAkQ9c01sPV9XhpoZWn/0xnBfHVkQOq+Upj+XOIoeswpyzapy2dTE//9HQznIZn6Gdpfqil6PBoJz1KmpAQWMMDfFm/yLz4mey2uYCcvVxKg30//M4xA0Uud7JvItEtqyLtmYIKD43zMvi3vwtpJgOQRkbCeUWuTyoRbv3RGYZfeZx17zCUHSiOlmmahXce6EjWb//gg4cyX36Pu1Cd3DOoB8oGSGjkC2uQg1oMtSiAA0oZ4sk+n1DGg4TBDrM//M4xBkUqtKxuVJQAcmxaJDGmD80J5OzI8wVScU+ZUVwtetrfzH5pmU/1/0f+n88iOu3m/tXdPU7poWLL88uTJdtDTP5OFqSIccaecSCHHYlMO/45YIFYmf9riEykXN/grpQGiQ4gxAuLJNx//M4xCUdypao85iQAU0eETEumXqMh3l8Z82dFEu/LSBcL6bqSSWij+gyjc+dNFJVo1f0CmX0zpoYi7OpLooqSX/59JGYH0TI+mmVvrRRrR//y6WmLabkAVSn1lv2PN5VTEFNRTMuMTAwVVVV//M4xAwAAANIAcAAAFVVVVVVVVVVVVVVVVVVVVVVVVVVVVVVVVVVVVVVVVVVVVVVVVVVVVVVVVVVVVVVVVVVVVVVVVVVVVVVVVVVVVVVVVVVVVVVVVVVVVVVVVVVVVVVVVVVVVVVVVVVVVVV\" type=\"audio/mpeg\"/>\n",
       "                        Your browser does not support the audio element.\n",
       "                    </audio>\n",
       "                  "
      ],
      "text/plain": [
       "<pydub.audio_segment.AudioSegment at 0x24eab249400>"
      ]
     },
     "metadata": {},
     "output_type": "display_data"
    },
    {
     "name": "stdout",
     "output_type": "stream",
     "text": [
      "곰 13.62 14.1\n",
      "Channels: 1\n",
      "Sample rate: 16000\n",
      "Duration:  0.48\n",
      "Bit depth: 2 bits\n",
      "len samples: 7680\n"
     ]
    },
    {
     "data": {
      "text/html": [
       "\n",
       "                    <audio controls>\n",
       "                        <source src=\"data:audio/mpeg;base64,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\" type=\"audio/mpeg\"/>\n",
       "                        Your browser does not support the audio element.\n",
       "                    </audio>\n",
       "                  "
      ],
      "text/plain": [
       "<pydub.audio_segment.AudioSegment at 0x24eab249610>"
      ]
     },
     "metadata": {},
     "output_type": "display_data"
    },
    {
     "name": "stdout",
     "output_type": "stream",
     "text": [
      "아 14.5 14.68\n",
      "Channels: 1\n",
      "Sample rate: 16000\n",
      "Duration:  0.18\n",
      "Bit depth: 2 bits\n",
      "len samples: 2880\n"
     ]
    },
    {
     "data": {
      "text/html": [
       "\n",
       "                    <audio controls>\n",
       "                        <source src=\"data:audio/mpeg;base64,SUQzBAAAAAAAI1RTU0UAAAAPAAADTGF2ZjYwLjE2LjEwMAAAAAAAAAAAAAAA//NYwAAAAAAAAAAAAEluZm8AAAAPAAAABwAAA6gATk5OTk5OTk5OTk5OTk5sbGxsbGxsbGxsbGxsbImJiYmJiYmJiYmJiYmJp6enp6enp6enp6enp6enxMTExMTExMTExMTExMTi4uLi4uLi4uLi4uLi4v//////////////////AAAAAExhdmM2MC4zMQAAAAAAAAAAAAAAACQCQAAAAAAAAAOoglynIgAAAAAAAAAAAAAA//M4xAATGVbGB0FAAEnEcALAYxjGMbrwAAhjGMb/oiInoiJ+QCgAGADAXBuLv7oiIie6J7u/u7v/JYoKCgoCAY//wQ5cHw/QH+DgYygPg/lAQBAxDH/+CAIK/+HejkCoKLYJcgCJogPOvrSR//M4xBIZ2wb2X4toAP2oNBfETUkfyLjXomR/UUqzA0H4vHC+I0pbFYTk9izJQunUzA4LVJNErRERWtDYzNDy2yso/IqH+hTX636fW/6nU3V9b+1fUvo6qls2/+/t/18x//0VYHspgDARBIVK//M4xAkXmsLXH8toAAEfZ/ywxECQ4hAKmoBpkh7nfyKY8kv+Xg+Ag10kDc3bWgOQGoYE1b6p0cYK2Jyv/onR49f6BoUDZ/+tIupP/QXSf/9L/rTTMkv9brU/+9Bi8bP/+oOqm3XyqT1lvA8+//M4xAkWcnbqVmNEvu22/v2RFQaRoH73XmWVfiDjyHqXEa29IcADKHEgzsUKeZA6BynmfUbc6PcSgtR/47BgSVQV/hP/whS/9Cr/9P/kGHV1IX5xYkj8Bf/yojSLojPBwwA0A8H9JnRN0pgJ//M4xA4YOnLCN02QACA8C3cwofnAto6mJimu2tjAEmFxEFNDGiS6DJk2HRgN8LAx8wUgq6aZDBZKKX9RgQAU1FNJP7SbMW/9Bv/UgbVf84j/6ygbJf6czb6/2fKbjLQPP5g55o9silbArcQU//M4xAwYAmLUy4poAAqn40Y9zRASUppR3GGdKLyIJCwdQQAE4pZgDZBdTTcHMZzoysrdIT03i2L7jsIdQhjz15OHTW7FRImll9fd+rrdep/7durrfd7+o+qYhzU30U/tFxK27RCUskA/8zM5//M4xAsVkUbaP8YYAi1HEgYBBRIlM5+1VuzMzMzKvsBATMq/1QoCx+zMzFsx//8ZmDAQKlQVBUFgaBoGgaBUNYLA0DQNA0CvlgaBoGgVxKdxEDQa/Kgr+lVMQU1FMy4xMDBVVVVVVVVVVVVV\" type=\"audio/mpeg\"/>\n",
       "                        Your browser does not support the audio element.\n",
       "                    </audio>\n",
       "                  "
      ],
      "text/plain": [
       "<pydub.audio_segment.AudioSegment at 0x24eab2489b0>"
      ]
     },
     "metadata": {},
     "output_type": "display_data"
    },
    {
     "name": "stdout",
     "output_type": "stream",
     "text": [
      "빠 14.96 15.3\n",
      "Channels: 1\n",
      "Sample rate: 16000\n",
      "Duration:  0.34\n",
      "Bit depth: 2 bits\n",
      "len samples: 5440\n"
     ]
    },
    {
     "data": {
      "text/html": [
       "\n",
       "                    <audio controls>\n",
       "                        <source src=\"data:audio/mpeg;base64,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\" type=\"audio/mpeg\"/>\n",
       "                        Your browser does not support the audio element.\n",
       "                    </audio>\n",
       "                  "
      ],
      "text/plain": [
       "<pydub.audio_segment.AudioSegment at 0x24eab249610>"
      ]
     },
     "metadata": {},
     "output_type": "display_data"
    },
    {
     "name": "stdout",
     "output_type": "stream",
     "text": [
      "곰 15.42 15.8\n",
      "Channels: 1\n",
      "Sample rate: 16000\n",
      "Duration:  0.38\n",
      "Bit depth: 2 bits\n",
      "len samples: 6080\n"
     ]
    },
    {
     "data": {
      "text/html": [
       "\n",
       "                    <audio controls>\n",
       "                        <source src=\"data:audio/mpeg;base64,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\" type=\"audio/mpeg\"/>\n",
       "                        Your browser does not support the audio element.\n",
       "                    </audio>\n",
       "                  "
      ],
      "text/plain": [
       "<pydub.audio_segment.AudioSegment at 0x24eab2489b0>"
      ]
     },
     "metadata": {},
     "output_type": "display_data"
    },
    {
     "name": "stdout",
     "output_type": "stream",
     "text": [
      "은 15.88 16.16\n",
      "Channels: 1\n",
      "Sample rate: 16000\n",
      "Duration:  0.28\n",
      "Bit depth: 2 bits\n",
      "len samples: 4480\n"
     ]
    },
    {
     "data": {
      "text/html": [
       "\n",
       "                    <audio controls>\n",
       "                        <source src=\"data:audio/mpeg;base64,SUQzBAAAAAAAI1RTU0UAAAAPAAADTGF2ZjYwLjE2LjEwMAAAAAAAAAAAAAAA//NYwAAAAAAAAAAAAEluZm8AAAAPAAAACgAABOwAOjo6Ojo6Ojo6UFBQUFBQUFBQUGZmZmZmZmZmZmZ8fHx8fHx8fHx8kpKSkpKSkpKSkqioqKioqKioqKi+vr6+vr6+vr6+1NTU1NTU1NTU1Orq6urq6urq6ur/////////////AAAAAExhdmM2MC4zMQAAAAAAAAAAAAAAACQCwAAAAAAAAATsZAlhVQAAAAAAAAAAAAAA//M4xAAUUALln0EYAuBuqDkkgoBCuDgYg+8vgg6XB9/lwf+CAIAMP4PggCAIAgCYPg+D4PggCAIAgCYPg+D4PggCAIAgAwfB8Hw+CAIAgCADB8/gAEHf///ggCAIBhUgfycQSuXWF6upEJOw//M4xA0YKRasq5p4APj4FRsSgp0tc6rNaT8KYTZLoUKFcpZ/EU5PUG4NJ8nnQ80yzTuiMQ3sRlDjODX2MRfwvRH1sV0lse28MmIbhMDQlcPd3w72/6K9f/8eu9dnT9t/WtAAYCTjkAHEavrR//M4xAsXyqaxn9FoACNDsAqRwsk6TnA6IhUjIawnzKYe+IEgktElByCOAAnGQ6TTYvBtAOssdLefQdmvLxREzNVW05T/UiS6O/r/qb/f90U/5w0/X/00/q/9Bu9jcP1K9FWQECF1PAgKN+oG//M4xAoXQu6tlJtE9agLkJp246RJ1xQwdlljpAR0Go1fSLDYBmBCqJ48F0C0EsT3ZsyPEix5+0SapbeVPd3diKIQ0b9/8X//4Qn9Cf/+xv6eyWDkNZUsJMEUm7O15sMSsKgNqmH36lqBLAvV//M4xAwXEqaxdIvOXBz1x8VIOZWrsCp3m4fpNbazvGqCnarnNMYQwWty/5RChv1G4BvTQaDuZmD4LxozT1VGOXqg+TLN9X/yhN/MMUj0621X/n/zGV05sboL/1f61blLM643LbJgT2ftUJEA//M4xA4YKsLqXoPKln5Fqnf3DBGrFaw/5/6g2iw+auE/qMUs//96xSbV++gu1/UVf9A227IHQM76rMyGrqKi616stNtzPWrnZrpPoqq2hW/KZGXojv9ixQjdRL/6SiR6cARCgkutPCL94vS8//M4xAwXerKyPntEeAFOApOffqHsUFLPNnQ2Q30cvjSboBNg9PutRMKz3pOJVvYwE/zKxFzkVSNsyL/ZDGiW9szyoD3bfupS02Rujt/W67K5X/tHEjJErSJ9USs+Ct1JBSGG3JG6N/4xqGc4//M4xA0U+U7CP084AjTBfv48fFNLtQP79hm/xDB146MxwXG2bG5zdEkb70QfKHsV+5rWmOXGgw5lYoNZWTPzKrIuOGiih1rW9X7Oe1nU6Vf6gXgqA37ZH/jUirWiwqUtkCpHOIEy3XYLpoSr//M4xBgbMXaoq5lYAOcEchuIhDkALg+hqCU/PHi9A2hQnSjYeDXih3L+cNnLo1N/sl5+KRWPJLnfqv67uNiKzkraj9KHJAQdBUye/3ogcAmQbAIZPf/6wCRCoBIhUA///6YDACSQYYQQQEoJ//M4xAoQkZZpdZMoANvAA+AQvxgm3gKIC/4kchf9FMqf+Uw1CjP/ymGyjP/+YbKJTCP/KsBkqeBn/9AUApIKAUkFP/+BakxBTUUzLjEwMKqqqqqqqqqqqqqqqqqqqqqqqqqqqqqqqqqqqqqq\" type=\"audio/mpeg\"/>\n",
       "                        Your browser does not support the audio element.\n",
       "                    </audio>\n",
       "                  "
      ],
      "text/plain": [
       "<pydub.audio_segment.AudioSegment at 0x24eab249400>"
      ]
     },
     "metadata": {},
     "output_type": "display_data"
    },
    {
     "name": "stdout",
     "output_type": "stream",
     "text": [
      "뚱 16.34 16.62\n",
      "Channels: 1\n",
      "Sample rate: 16000\n",
      "Duration:  0.28\n",
      "Bit depth: 2 bits\n",
      "len samples: 4480\n"
     ]
    },
    {
     "data": {
      "text/html": [
       "\n",
       "                    <audio controls>\n",
       "                        <source src=\"data:audio/mpeg;base64,SUQzBAAAAAAAI1RTU0UAAAAPAAADTGF2ZjYwLjE2LjEwMAAAAAAAAAAAAAAA//NYwAAAAAAAAAAAAEluZm8AAAAPAAAACgAABOwAOjo6Ojo6Ojo6UFBQUFBQUFBQUGZmZmZmZmZmZmZ8fHx8fHx8fHx8kpKSkpKSkpKSkqioqKioqKioqKi+vr6+vr6+vr6+1NTU1NTU1NTU1Orq6urq6urq6ur/////////////AAAAAExhdmM2MC4zMQAAAAAAAAAAAAAAACQCwAAAAAAAAATsoWO+WAAAAAAAAAAAAAAA//M4xAAQoMZ4BUMYAAM4gQAAAAAAAN4AAAAiI7/+7iET4haInQ4GBgYAAACBjicHwfBAEHd8TggCAIHNYf/ic//0u/8H3/wQDHB98EAQOJXbbbWbXbXbTbba6yy7CmHD1zlPP0XLAi7FvWxu//M4xBwbsl8SX49oAlC4ixPSJ6TDWeppkAwcxHihWyFBAnOXkjEIqWs4fFsgfRd30GGERTHYIsg1Mb7on3JY26RMHh+r/r1Mr0/11q0K/TdVSv5b5RzC/UVcn0buU/45OCMEwomakKB5XMZx//M4xAwYUs7G389oAJ/86s3MwRs4Th1bVrW/zgvgCfPf9IkACwHVL/mYjYO01Zv1HjgKEZCbOp9WkSYxx4su/vdzqLK/rTLpk/1r61P/1yTEpS/6q///+1ZfNzhi3qA3xAZVJYUKoABC1AVD//M4xAkXGr6+/ntK3H/xMYZoqgKR6uD3FwekwQ+XWd51E0FLB3F1X+cApAID/6h/BuEZv9SYG4ZS/+okA5qWmq1VzMiEt1Jp0OZVncn//+paf5zf/p/8QAQIioa94l+CamZpG+GnJb7vQiM3//M4xAsXmu7O/ntU1K/68hOYL+KMyYh6gT+abg9MByiU/+oOeC69X+PoEtQa36hYgN1Apt9S8oBOYn/mt87WpGYl0Mdu5Vv/qh2jnbakh+3+pj+67nA8GJNuPTNsYjz9dW3FqICVLJHg211j//M4xAsXwrrWXntLCvx5EIhLkqAKtEjI2wcXp/8DKS6Cixs2/JoeNX+YC8h/4iQY/1Gg84Ch8J6o+pyHAo+pkXrVpUN5tVRndaslZTuUT98rGMVtc7mfWn6OAxnf/JEBiHJBYI2nJHHA57+K//M4xAsXqrrOXnwFFuJcJ8647hcVU5WKtWUv8f/Q+8oHCtpWuusdgPScTTJGl6hCAPqi7PqrqQDVBV26zp9eml6KXsN9JqLe8r0//poc9tTZv0UG81Cu2bR77/DgBXf/SmHTWAqXLXHg+//+//M4xAsWWrbWX09oAm7eM45DMXwkEQJAcETGMZ/xAOkgf9RgIIDhW5gUVK+TiWd/+VCBrT/Wlrdeq/zhCRX676SLs3s+/9Lf9N9NFJGz1otZam77f6Jr//ChYhXn/rlNQy7GUvS2EA78Y1YA//M4xBAYeQasAZjAAIFOH9Enpy4Q2ay8C6lf2vyKJ2rERfZ+ojAKZ/f9026f3UJYjSYRq/l/14t9ffZvNICEUa6vWAiIT/5kiEzLF1v0ebGpIjUs3/o+tLCqWDf//9Ia/k8pS20IpFLVoRSh//M4xA0SoIZgFckYAMIgsCRLBEKhU1ZCKQKhQESp0qCp0GgaLA08FToKuI/Z/s4lzpYGZaCp6dLAzLQVfqPcFeWPcS8se4K8se66TEFNRTMuMTAwqqqqqqqqqqqqqqqqqqqqqqqqqqqqqqqq\" type=\"audio/mpeg\"/>\n",
       "                        Your browser does not support the audio element.\n",
       "                    </audio>\n",
       "                  "
      ],
      "text/plain": [
       "<pydub.audio_segment.AudioSegment at 0x24eab249610>"
      ]
     },
     "metadata": {},
     "output_type": "display_data"
    },
    {
     "name": "stdout",
     "output_type": "stream",
     "text": [
      "뚱 16.82 17.14\n",
      "Channels: 1\n",
      "Sample rate: 16000\n",
      "Duration:  0.32\n",
      "Bit depth: 2 bits\n",
      "len samples: 5120\n"
     ]
    },
    {
     "data": {
      "text/html": [
       "\n",
       "                    <audio controls>\n",
       "                        <source src=\"data:audio/mpeg;base64,SUQzBAAAAAAAI1RTU0UAAAAPAAADTGF2ZjYwLjE2LjEwMAAAAAAAAAAAAAAA//NYwAAAAAAAAAAAAEluZm8AAAAPAAAACwAABVgANTU1NTU1NTU1SkpKSkpKSkpKXl5eXl5eXl5ecnJycnJycnJyhoaGhoaGhoaGmpqampqampqar6+vr6+vr6+vw8PDw8PDw8PD19fX19fX19fX6+vr6+vr6+vr////////////AAAAAExhdmM2MC4zMQAAAAAAAAAAAAAAACQCgAAAAAAAAAVYP5+WQwAAAAAAAAAAAAAA//M4xAAQ8OKEr0YYAEChGCIiP2iCYOAwGA02MQTu78RlgAAAIiIiO5u7u7oiIiIiAYsHw/BwMfD8o7v85wfD+UOfwcDG7ygIAgc/gh+UBDh9r7k/J7Wq35/6VFEFUz4URbUaDlqMQx24kIpR//M4xBsZ0wqwAZiQABUUAXA9KYO1UukghpBfdNUhoNwGmRdBaZNk+63kaPhE4s6QIQVQ/tUf6db//q6nXt7/7f90EG20t1FRB5vf6Tf9d5ibrV/XUyRINJoVsuOgJST0bdBPPNqeJhM6HowJ//M4xBIZuybqX8toA6dANMkp4v+SWSrf9AQgbpq3/JAWiv92EvEmKX/oFxHoLTqrJME/AmRInUUz6q+mp1XQ6rGf/8zNDZFvX9kPUptNBNf7ZmXygPZNFa09Wml/tqOs/WZUihyAQGS5tcBI//M4xAoXaXrPFhPaSEfCmaO5ELIA06JqpLq18QcLUSho1kvTEEGFHCWuXjRq+TwV8opP/kQFSXevbrHuat/so0cugFHb8uJHdYeeiUEI8Ao8McVeIAyfvIi4Ff1ihUiZXRZ5CoAgLt0xhX+6//M4xAsXqx7LFltEvNlPTJoVDOigwSVo8MIoHCVdv0RBgJ4TpH9VQNIJMUzMsZ93ZYfBVHcv69SxlJIf9Baj/+SRUZ2XkRq+vjU5KKtEY5ZHmqiBXS1q+bU39i//nxJHYjUKGuGMQ60TgrX8//M4xAsXUr7K/pnFhIISQrQhwbGfGwS5EEtDkaHAkHPt/lIB4ACyDePmB02tyiICi3t++UhxGf79SJzfZpyEiYLCqUs7ZWMuhNaMvr+Gtt9stv9DG1/1Wgnk571DywZqLcFwBJiVA/o03UUx//M4xAwX2sLCNohFxso6IowxxATRHVrMAK4VJ/61EyJSC+Zb/1mArojgN8Pf8tIknvotqdMjTP1q8okFJz/4QmYVlqdv+00FeZN0Rf6bGKN+GdAEELEPKv3iV9LSAMh5VZb18DSVHI5QQ97o//M4xAsVGsLiXmhFyqVEhBdxoAbpoE7HIPNNTq8kyO3tNUzYkw5gKo//1EiLIo/84dJMpf/UTUv/RMzX/8KMviITDv9RDRDX9lf5rV/3mcrBVVa9GdIqLbGyALf1yhXqZBpfFnjjB52FnjjL//M4xBUVWrq6P1NQAOtP1kPEYgqJDL/UoUHy/9IILN/lBDBfj79EdyotHK9clOdChKGiEzT/zjiZO6dVPf1/NTt/nnP/7p/8iIAz0f01EAe/m45//blHHZ43KbYicSU6YsdYzWlN/DHbS4nh//M4xB4cwXqsy5l4AEp1hChU68o6f21XODHEDfv+aYsH90NXbI+cEOZP2131Tnenf0/kZqX/1v//5/+Zo+J4mYuuvy5EIgMi+22++ycAZE4A08Yf7yz7sIgMRHAGk47//+sgNaqqiVWtmZpU//M4xAoUeIaQ9cgQAJFRU0oFQCwejBY6VFVU2gYCBqDSwVBXBoOxFBUFVnSwNHi0SgrOqBo8WlQVnYNHi0qCvBo9rBXiI9rBXiI8qsFeWPcFeWPcSkxBTUUzLjEwMKqqqqqqqqqqqqqqqqqq\" type=\"audio/mpeg\"/>\n",
       "                        Your browser does not support the audio element.\n",
       "                    </audio>\n",
       "                  "
      ],
      "text/plain": [
       "<pydub.audio_segment.AudioSegment at 0x24eab249fd0>"
      ]
     },
     "metadata": {},
     "output_type": "display_data"
    },
    {
     "name": "stdout",
     "output_type": "stream",
     "text": [
      "해 17.2 17.3\n",
      "Channels: 1\n",
      "Sample rate: 16000\n",
      "Duration:  0.1\n",
      "Bit depth: 2 bits\n",
      "len samples: 1600\n"
     ]
    },
    {
     "data": {
      "text/html": [
       "\n",
       "                    <audio controls>\n",
       "                        <source src=\"data:audio/mpeg;base64,SUQzBAAAAAAAI1RTU0UAAAAPAAADTGF2ZjYwLjE2LjEwMAAAAAAAAAAAAAAA//NYwAAAAAAAAAAAAEluZm8AAAAPAAAABQAAAtAAZmZmZmZmZmZmZmZmZmZmZmZmZoyMjIyMjIyMjIyMjIyMjIyMjIyMs7Ozs7Ozs7Ozs7Ozs7Ozs7Ozs7PZ2dnZ2dnZ2dnZ2dnZ2dnZ2dnZ2f//////////////////////////AAAAAExhdmM2MC4zMQAAAAAAAAAAAAAAACQCwAAAAAAAAALQoDMZ+wAAAAAAAAAAAAAA//M4xAAQcGqcD0kIAGAChAgQIECCEFEbyAAgAAAAYDBIjRo0aNGjRh4QAgCA0EFg/BMHw/gh8EDkP//g4CEv8ocygPn/iBwY//+CDv8ocaKQoRbWhK5VbWypcdBYf/mCfHXXsZbKefI/bjrI//M4xB0byXreXY+AADOP40ETAObWYjQrJsg92IMo4mUDMnkJETYsrQJ5FeZNVRUgz0E3pK+v+vpHIKhIDhodEL2EWNwjFdVLSSqSJM0VplwAjtDZUytw9JcdVf/1f8uq/kWjUMMsMrBx6h75//M4xAwXImbUAY1oACGKhck4umtQ/qmyZ1Otxbp5mB4IZ3SP7d57pf2/XqbqTL/ZOpzE5ZJJjdB0k163ZNM4xx1vNNaBxZ9A3qaitRupRwwDs2KH7siozCKkJcs8imd/9pn1GS/QHaKLg7jQ//M4xA4Ymi7Qq41oAGFNcMTRjLRJwyJicFZnNzE1Mh+BmI2VgEiS6ajEJ8JUZGxiX+dkLs61Okl1I69b/Wk65MWk6PkRrT3U6S29uYn6lO1LpDauS4dW6Pqf0HpHwZTrZTWEJJFRU2mFg+WG//M4xAoUOMZkBcgwAG/ZoKaRU2A6AWROJEqokAgEicAgolpoBAKTmohqsFVPBU8JXT3BV7frBUeCp0se/+sFXiVwiPfxEHBEHVgr1HtYKjwVqPcqTEFNRTMuMTAwqqqqqqqqqqqqqqqqqqqq\" type=\"audio/mpeg\"/>\n",
       "                        Your browser does not support the audio element.\n",
       "                    </audio>\n",
       "                  "
      ],
      "text/plain": [
       "<pydub.audio_segment.AudioSegment at 0x24eab249610>"
      ]
     },
     "metadata": {},
     "output_type": "display_data"
    },
    {
     "name": "stdout",
     "output_type": "stream",
     "text": [
      "엄 17.3 18.42\n",
      "Channels: 1\n",
      "Sample rate: 16000\n",
      "Duration:  1.12\n",
      "Bit depth: 2 bits\n",
      "len samples: 17920\n"
     ]
    },
    {
     "data": {
      "text/html": [
       "\n",
       "                    <audio controls>\n",
       "                        <source src=\"data:audio/mpeg;base64,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\" type=\"audio/mpeg\"/>\n",
       "                        Your browser does not support the audio element.\n",
       "                    </audio>\n",
       "                  "
      ],
      "text/plain": [
       "<pydub.audio_segment.AudioSegment at 0x24eab249d90>"
      ]
     },
     "metadata": {},
     "output_type": "display_data"
    },
    {
     "name": "stdout",
     "output_type": "stream",
     "text": [
      "마 18.58 18.92\n",
      "Channels: 1\n",
      "Sample rate: 16000\n",
      "Duration:  0.34\n",
      "Bit depth: 2 bits\n",
      "len samples: 5440\n"
     ]
    },
    {
     "data": {
      "text/html": [
       "\n",
       "                    <audio controls>\n",
       "                        <source src=\"data:audio/mpeg;base64,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\" type=\"audio/mpeg\"/>\n",
       "                        Your browser does not support the audio element.\n",
       "                    </audio>\n",
       "                  "
      ],
      "text/plain": [
       "<pydub.audio_segment.AudioSegment at 0x24eab249610>"
      ]
     },
     "metadata": {},
     "output_type": "display_data"
    },
    {
     "name": "stdout",
     "output_type": "stream",
     "text": [
      "곰 19.06 19.42\n",
      "Channels: 1\n",
      "Sample rate: 16000\n",
      "Duration:  0.36\n",
      "Bit depth: 2 bits\n",
      "len samples: 5760\n"
     ]
    },
    {
     "data": {
      "text/html": [
       "\n",
       "                    <audio controls>\n",
       "                        <source src=\"data:audio/mpeg;base64,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\" type=\"audio/mpeg\"/>\n",
       "                        Your browser does not support the audio element.\n",
       "                    </audio>\n",
       "                  "
      ],
      "text/plain": [
       "<pydub.audio_segment.AudioSegment at 0x24eab249400>"
      ]
     },
     "metadata": {},
     "output_type": "display_data"
    },
    {
     "name": "stdout",
     "output_type": "stream",
     "text": [
      "은 19.5 19.8\n",
      "Channels: 1\n",
      "Sample rate: 16000\n",
      "Duration:  0.3\n",
      "Bit depth: 2 bits\n",
      "len samples: 4800\n"
     ]
    },
    {
     "data": {
      "text/html": [
       "\n",
       "                    <audio controls>\n",
       "                        <source src=\"data:audio/mpeg;base64,SUQzBAAAAAAAI1RTU0UAAAAPAAADTGF2ZjYwLjE2LjEwMAAAAAAAAAAAAAAA//NYwAAAAAAAAAAAAEluZm8AAAAPAAAACwAABVgANTU1NTU1NTU1SkpKSkpKSkpKXl5eXl5eXl5ecnJycnJycnJyhoaGhoaGhoaGmpqampqampqar6+vr6+vr6+vw8PDw8PDw8PD19fX19fX19fX6+vr6+vr6+vr////////////AAAAAExhdmM2MC4zMQAAAAAAAAAAAAAAACQDwAAAAAAAAAVYDzwTkAAAAAAAAAAAAAAA//M4xAAUYFa4X0wYAACBbklwXr169evXwEgCYExHJ69+97rFlAxrB8H4jD9mcBB3pDHAYPvwQdl38AAgCAIAmD4Pg+HwQBAEAwn3Ag6XP/+XD4ABAEKT/GBjLg+D4fUDgh+jh9mvfrHAcoEZ//M4xA0YEUqwy5l4AEQ5D6AzAP0q6beBU/9qPjdVrCNfbUE/G2noY8m5KPB4ORqmcN19MizsjY2B3h4joWA/jr7yHFrum2uuL17DeTe8ZpX/ed5nwmO3P/o////v+n9SVWiDJ4TlskgPP5z7//M4xAsXgUbOP89oAkKOgA0VDrFuvngFqC6UU+Ka/P8PI9WY4ZBbh1KSKaJJa5gJUbdU6tKkk7saFM9U6tBA09FjY4XMMDrFDwiEw5Gs6XNqtpb5z+zetiWLKQdGmf0pcAa7kpyxwA1XQthQ//M4xAwWesrOPmvEXhS23fNvkJOKVXcPP7YElDRtv5L/Cwip6vkZ84gI+fX9BP9xv6Gb1RC9EqQrXa0PUzPyKRpu52/XItCyv6Kr///+rwiMhxaFMFeXJlHcPlBCIISSb4nwp6VBMoBBS2fj//M4xBEYisq6XpPKXD/W9QxORQzVa9fEIP45Nbqzk5Trwyd5qrf/Opm3/2I1+ofb+38Pv+qO1yaSGOFChCGYQDocK53IJi4cX6XuV9beJi5P/+v+laP2QfqM+nSNANVwyhASgIgwIbLzAMLD//M4xA0XOjaxvpMPKEx2u7JzoQkJ8mYze46AVUixik5fIwsihB6p1zuEF9HHMbGWCfr3tu+V3Fr7P7sj035gkLVeYHfylut19tU/2/MEQ89VXQg9P1+a2iA7l/8isNyyidrcclBOmqtOsVkB//M4xA8Y4t7iXpPOfjAlIYdauHgEJH+5l0Fh38Lo8YE9d1lbD+x/mNvL87k4xa9bdvF9uPjNnUUiybHHuBH9xMJKfj5H+7etCXTmt/X+jnfnN7/b1Osz0qaxjdDSLfjX+WqQFjgLAI5eLX1n//M4xAoU2T66PnnKyBX3DUCw3rutstxDjwjMTMmBIFjvyoWGxG69iAQC5ERQweOKi8pTb5n/QBj7tnW9bgEBUjLe1wviZUqHR2/CgVGsbknlhivZr601kqBRG10Cmww/PKYTQC3idD9xvP/+//M4xBUVKUKo/1loALsJSwhyklkhzr5tfD0feo6PI4b+jcrB7Hk7daSrdlpKSo/bs0wNp6WPcOxlQDJRAFXZa54pWLIu//krCt7FanpADBARBkNiMSCUIAAAoIYIUtFH3/MB6NSYQaSN/zRC//M4xB8c4T6Vv5qgAIMEJ81v8DRBQRDwQlxSQpZPiNxnwMgBE8kNFykFMvNQbkgWCl5EmiBGRt+arL+ipJ1oo/onB3onzVxE8FfDYSPAwDTxLCvqPBYeosDISfFgab/U7rpMQU1FMy4xMDCq//M4xAoAAANIAcAAAKqqqqqqqqqqqqqqqqqqqqqqqqqqqqqqqqqqqqqqqqqqqqqqqqqqqqqqqqqqqqqqqqqqqqqqqqqqqqqqqqqqqqqqqqqqqqqqqqqqqqqqqqqqqqqqqqqqqqqqqqqqqqqq\" type=\"audio/mpeg\"/>\n",
       "                        Your browser does not support the audio element.\n",
       "                    </audio>\n",
       "                  "
      ],
      "text/plain": [
       "<pydub.audio_segment.AudioSegment at 0x24eab249610>"
      ]
     },
     "metadata": {},
     "output_type": "display_data"
    },
    {
     "name": "stdout",
     "output_type": "stream",
     "text": [
      "날 19.9 19.94\n",
      "Channels: 1\n",
      "Sample rate: 16000\n",
      "Duration:  0.04\n",
      "Bit depth: 2 bits\n",
      "len samples: 640\n"
     ]
    },
    {
     "data": {
      "text/html": [
       "\n",
       "                    <audio controls>\n",
       "                        <source src=\"data:audio/mpeg;base64,SUQzBAAAAAAAI1RTU0UAAAAPAAADTGF2ZjYwLjE2LjEwMAAAAAAAAAAAAAAA//NYwAAAAAAAAAAAAEluZm8AAAAPAAAABAAAAmQAeHh4eHh4eHh4eHh4eHh4eHh4eHh4eHh4paWlpaWlpaWlpaWlpaWlpaWlpaWlpaWlpdLS0tLS0tLS0tLS0tLS0tLS0tLS0tLS0tL/////////////////////////////////AAAAAExhdmM2MC4zMQAAAAAAAAAAAAAAACQEQAAAAAAAAAJkYKVNiwAAAAAAAAAAAAAA//M4xAASWGKUF08YAAGblCGIYaBbCcEIMhchfgAAAAADwFQIYQg6FZEvh4wMjw4DgIAgcg/EBwoCAIAgCAPg+H//KHHfwQOfygIAh/4P//lAQd/+D4PqaSnLln+iB6d1iYgMbSIkkaNal6hJ//M4xBUZUXqgAZqIAIEtqWuOATg+pZJsCcYgwXAlwjhzTcvGA5w8JHhnByUy2R4w6ZOjVE1UaIDkiTnzff9Ty+gxgi9dm0lM3TU9azeir5Qg0oYX/+9B95j//vRmqqNdu8f8QsGxvKq3+Jeg//M4xA4Ywq6UAZmQACCv4/4CYA9AUn+WSABioTcv+HrB7J80It/5Di2RUolovf/k0Vi6YmBPGX/+bniZNDYmjc1Mf//0DYyTPEyaGxkmeMf///0D5kmeLqDmSbGKDmX//BxMQU1FMy4xMDCq//M4xAoAAANIAcAAAKqqqqqqqqqqqqqqqqqqqqqqqqqqqqqqqqqqqqqqqqqqqqqqqqqqqqqqqqqqqqqqqqqqqqqqqqqqqqqqqqqqqqqqqqqqqqqqqqqqqqqqqqqqqqqqqqqqqqqqqqqqqqqq\" type=\"audio/mpeg\"/>\n",
       "                        Your browser does not support the audio element.\n",
       "                    </audio>\n",
       "                  "
      ],
      "text/plain": [
       "<pydub.audio_segment.AudioSegment at 0x24eab24b560>"
      ]
     },
     "metadata": {},
     "output_type": "display_data"
    }
   ],
   "source": [
    "for w in result:\n",
    "    start = w['start']\n",
    "    end = w['end']\n",
    "    print(w['origin'],w['start'],w['end'])\n",
    "    PrintAudioInfo(audio[start*1000:end*1000])"
   ]
  }
 ],
 "metadata": {
  "kernelspec": {
   "display_name": "machinelearning",
   "language": "python",
   "name": "python3"
  },
  "language_info": {
   "codemirror_mode": {
    "name": "ipython",
    "version": 3
   },
   "file_extension": ".py",
   "mimetype": "text/x-python",
   "name": "python",
   "nbconvert_exporter": "python",
   "pygments_lexer": "ipython3",
   "version": "3.12.2"
  }
 },
 "nbformat": 4,
 "nbformat_minor": 2
}
